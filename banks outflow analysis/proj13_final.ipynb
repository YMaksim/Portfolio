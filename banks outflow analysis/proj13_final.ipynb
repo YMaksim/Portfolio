{
 "cells": [
  {
   "cell_type": "markdown",
   "metadata": {},
   "source": [
    "<div class=\"alert alert-info\">\n",
    "<br> Ссылка на презентацию: https://drive.google.com/file/d/1Yhsa4QzXIm1p9UxhI8Igl4_rZ5hECYAH/view?usp=sharing \n",
    "<br>Ссылка на дешборд: https://public.tableau.com/app/profile/assboiler/viz/final_proj_dash_16798330715410/Dashboard1?publish=yes \n",
    "</div>"
   ]
  },
  {
   "cell_type": "markdown",
   "metadata": {},
   "source": [
    "<b>Банки — Анализ оттока клиентов из регионального банка</b>"
   ]
  },
  {
   "cell_type": "markdown",
   "metadata": {},
   "source": [
    "<b>Цели исследования:</b> \n",
    "- На основании поведения клиентов определить вероятность их ухода\n",
    "- Определение приоритетных(наиболее склонны к уходу) групп клиентов для их удержания"
   ]
  },
  {
   "cell_type": "markdown",
   "metadata": {},
   "source": [
    "<b>Оглавление:</b>\n",
    "\n",
    "1. Предобработка данных\n",
    "\n",
    "- 1.1 Исследование и замена пропущенных значений\n",
    "- 1.2 Исследование и приведениесоответствия типов данных\n",
    "- 1.3 Исследование и удаление дубликатов\n",
    "- 1.4 Проверка корректности наименований колонок и их переименование\n",
    "\n",
    "2. Исследовательский анализ данных\n",
    "- 2.1 Поиск корреляции признаков, которые определяют клиентов, склонных к уходу\n",
    "- 2.2 Формирование портрета клиента, склонного к уходу\n",
    "- 2.3 Выделение семента клиентов, склонных к уходу\n",
    "3. Формулировка и проверка гепотез\n",
    "\n",
    "- 3.1 Формулировка гипотезы 1\n",
    "- 3.2 Проверка гепотезы 1\n",
    "- 3.3 Формулировка гипотезы 2\n",
    "- 3.4 Проверка гепотезы 2\n",
    "\n",
    "4. Подведение итогов исследования, составление рекомендаций\n"
   ]
  },
  {
   "cell_type": "markdown",
   "metadata": {},
   "source": [
    "<b>1. Предобработка данных </b>"
   ]
  },
  {
   "cell_type": "code",
   "execution_count": 133,
   "metadata": {},
   "outputs": [],
   "source": [
    "import pandas as pd\n",
    "import seaborn as sns\n",
    "import matplotlib.pyplot as plt\n",
    "pd.options.mode.chained_assignment = None\n",
    "from scipy import stats as st"
   ]
  },
  {
   "cell_type": "code",
   "execution_count": 134,
   "metadata": {},
   "outputs": [
    {
     "data": {
      "text/html": [
       "<div>\n",
       "<style scoped>\n",
       "    .dataframe tbody tr th:only-of-type {\n",
       "        vertical-align: middle;\n",
       "    }\n",
       "\n",
       "    .dataframe tbody tr th {\n",
       "        vertical-align: top;\n",
       "    }\n",
       "\n",
       "    .dataframe thead th {\n",
       "        text-align: right;\n",
       "    }\n",
       "</style>\n",
       "<table border=\"1\" class=\"dataframe\">\n",
       "  <thead>\n",
       "    <tr style=\"text-align: right;\">\n",
       "      <th></th>\n",
       "      <th>userid</th>\n",
       "      <th>score</th>\n",
       "      <th>City</th>\n",
       "      <th>Gender</th>\n",
       "      <th>Age</th>\n",
       "      <th>Objects</th>\n",
       "      <th>Balance</th>\n",
       "      <th>Products</th>\n",
       "      <th>CreditCard</th>\n",
       "      <th>Loyalty</th>\n",
       "      <th>estimated_salary</th>\n",
       "      <th>Churn</th>\n",
       "    </tr>\n",
       "  </thead>\n",
       "  <tbody>\n",
       "    <tr>\n",
       "      <th>0</th>\n",
       "      <td>15677338</td>\n",
       "      <td>619</td>\n",
       "      <td>Ярославль</td>\n",
       "      <td>Ж</td>\n",
       "      <td>42</td>\n",
       "      <td>2</td>\n",
       "      <td>NaN</td>\n",
       "      <td>1</td>\n",
       "      <td>1</td>\n",
       "      <td>1</td>\n",
       "      <td>101348.88</td>\n",
       "      <td>1</td>\n",
       "    </tr>\n",
       "    <tr>\n",
       "      <th>1</th>\n",
       "      <td>15690047</td>\n",
       "      <td>608</td>\n",
       "      <td>Рыбинск</td>\n",
       "      <td>Ж</td>\n",
       "      <td>41</td>\n",
       "      <td>1</td>\n",
       "      <td>83807.86</td>\n",
       "      <td>1</td>\n",
       "      <td>0</td>\n",
       "      <td>1</td>\n",
       "      <td>112542.58</td>\n",
       "      <td>0</td>\n",
       "    </tr>\n",
       "    <tr>\n",
       "      <th>2</th>\n",
       "      <td>15662040</td>\n",
       "      <td>502</td>\n",
       "      <td>Ярославль</td>\n",
       "      <td>Ж</td>\n",
       "      <td>42</td>\n",
       "      <td>8</td>\n",
       "      <td>159660.80</td>\n",
       "      <td>3</td>\n",
       "      <td>1</td>\n",
       "      <td>0</td>\n",
       "      <td>113931.57</td>\n",
       "      <td>1</td>\n",
       "    </tr>\n",
       "    <tr>\n",
       "      <th>3</th>\n",
       "      <td>15744090</td>\n",
       "      <td>699</td>\n",
       "      <td>Ярославль</td>\n",
       "      <td>Ж</td>\n",
       "      <td>39</td>\n",
       "      <td>1</td>\n",
       "      <td>NaN</td>\n",
       "      <td>2</td>\n",
       "      <td>0</td>\n",
       "      <td>0</td>\n",
       "      <td>93826.63</td>\n",
       "      <td>0</td>\n",
       "    </tr>\n",
       "    <tr>\n",
       "      <th>4</th>\n",
       "      <td>15780624</td>\n",
       "      <td>850</td>\n",
       "      <td>Рыбинск</td>\n",
       "      <td>Ж</td>\n",
       "      <td>43</td>\n",
       "      <td>2</td>\n",
       "      <td>125510.82</td>\n",
       "      <td>1</td>\n",
       "      <td>1</td>\n",
       "      <td>1</td>\n",
       "      <td>79084.10</td>\n",
       "      <td>0</td>\n",
       "    </tr>\n",
       "    <tr>\n",
       "      <th>...</th>\n",
       "      <td>...</td>\n",
       "      <td>...</td>\n",
       "      <td>...</td>\n",
       "      <td>...</td>\n",
       "      <td>...</td>\n",
       "      <td>...</td>\n",
       "      <td>...</td>\n",
       "      <td>...</td>\n",
       "      <td>...</td>\n",
       "      <td>...</td>\n",
       "      <td>...</td>\n",
       "      <td>...</td>\n",
       "    </tr>\n",
       "    <tr>\n",
       "      <th>9995</th>\n",
       "      <td>15648965</td>\n",
       "      <td>771</td>\n",
       "      <td>Ярославль</td>\n",
       "      <td>М</td>\n",
       "      <td>39</td>\n",
       "      <td>5</td>\n",
       "      <td>NaN</td>\n",
       "      <td>2</td>\n",
       "      <td>1</td>\n",
       "      <td>0</td>\n",
       "      <td>96270.64</td>\n",
       "      <td>0</td>\n",
       "    </tr>\n",
       "    <tr>\n",
       "      <th>9996</th>\n",
       "      <td>15612628</td>\n",
       "      <td>516</td>\n",
       "      <td>Ярославль</td>\n",
       "      <td>М</td>\n",
       "      <td>35</td>\n",
       "      <td>10</td>\n",
       "      <td>57369.61</td>\n",
       "      <td>1</td>\n",
       "      <td>1</td>\n",
       "      <td>1</td>\n",
       "      <td>101699.77</td>\n",
       "      <td>0</td>\n",
       "    </tr>\n",
       "    <tr>\n",
       "      <th>9997</th>\n",
       "      <td>15627268</td>\n",
       "      <td>709</td>\n",
       "      <td>Ярославль</td>\n",
       "      <td>Ж</td>\n",
       "      <td>36</td>\n",
       "      <td>7</td>\n",
       "      <td>NaN</td>\n",
       "      <td>1</td>\n",
       "      <td>0</td>\n",
       "      <td>1</td>\n",
       "      <td>42085.58</td>\n",
       "      <td>1</td>\n",
       "    </tr>\n",
       "    <tr>\n",
       "      <th>9998</th>\n",
       "      <td>15725091</td>\n",
       "      <td>772</td>\n",
       "      <td>Ростов Великий</td>\n",
       "      <td>М</td>\n",
       "      <td>42</td>\n",
       "      <td>3</td>\n",
       "      <td>75075.31</td>\n",
       "      <td>2</td>\n",
       "      <td>1</td>\n",
       "      <td>0</td>\n",
       "      <td>92888.52</td>\n",
       "      <td>1</td>\n",
       "    </tr>\n",
       "    <tr>\n",
       "      <th>9999</th>\n",
       "      <td>15671055</td>\n",
       "      <td>792</td>\n",
       "      <td>Ярославль</td>\n",
       "      <td>Ж</td>\n",
       "      <td>28</td>\n",
       "      <td>4</td>\n",
       "      <td>130142.79</td>\n",
       "      <td>1</td>\n",
       "      <td>1</td>\n",
       "      <td>0</td>\n",
       "      <td>38190.78</td>\n",
       "      <td>0</td>\n",
       "    </tr>\n",
       "  </tbody>\n",
       "</table>\n",
       "<p>10000 rows × 12 columns</p>\n",
       "</div>"
      ],
      "text/plain": [
       "        userid  score            City Gender  Age  Objects    Balance  \\\n",
       "0     15677338    619       Ярославль      Ж   42        2        NaN   \n",
       "1     15690047    608         Рыбинск      Ж   41        1   83807.86   \n",
       "2     15662040    502       Ярославль      Ж   42        8  159660.80   \n",
       "3     15744090    699       Ярославль      Ж   39        1        NaN   \n",
       "4     15780624    850         Рыбинск      Ж   43        2  125510.82   \n",
       "...        ...    ...             ...    ...  ...      ...        ...   \n",
       "9995  15648965    771       Ярославль      М   39        5        NaN   \n",
       "9996  15612628    516       Ярославль      М   35       10   57369.61   \n",
       "9997  15627268    709       Ярославль      Ж   36        7        NaN   \n",
       "9998  15725091    772  Ростов Великий      М   42        3   75075.31   \n",
       "9999  15671055    792       Ярославль      Ж   28        4  130142.79   \n",
       "\n",
       "      Products  CreditCard  Loyalty  estimated_salary  Churn  \n",
       "0            1           1        1         101348.88      1  \n",
       "1            1           0        1         112542.58      0  \n",
       "2            3           1        0         113931.57      1  \n",
       "3            2           0        0          93826.63      0  \n",
       "4            1           1        1          79084.10      0  \n",
       "...        ...         ...      ...               ...    ...  \n",
       "9995         2           1        0          96270.64      0  \n",
       "9996         1           1        1         101699.77      0  \n",
       "9997         1           0        1          42085.58      1  \n",
       "9998         2           1        0          92888.52      1  \n",
       "9999         1           1        0          38190.78      0  \n",
       "\n",
       "[10000 rows x 12 columns]"
      ]
     },
     "execution_count": 134,
     "metadata": {},
     "output_type": "execute_result"
    }
   ],
   "source": [
    "try:\n",
    "    data = pd.read_csv(\"/datasets/bank_dataset.csv\")\n",
    "except FileNotFoundError:\n",
    "    data = pd.read_csv(r\"C:\\Users\\yakhutinma\\Documents\\bank_dataset.csv\")\n",
    "data"
   ]
  },
  {
   "cell_type": "markdown",
   "metadata": {},
   "source": [
    "<b>1.1 Исследование пропущенных значений </b>"
   ]
  },
  {
   "cell_type": "code",
   "execution_count": 135,
   "metadata": {},
   "outputs": [
    {
     "data": {
      "text/plain": [
       "userid                 0\n",
       "score                  0\n",
       "City                   0\n",
       "Gender                 0\n",
       "Age                    0\n",
       "Objects                0\n",
       "Balance             3617\n",
       "Products               0\n",
       "CreditCard             0\n",
       "Loyalty                0\n",
       "estimated_salary       0\n",
       "Churn                  0\n",
       "dtype: int64"
      ]
     },
     "execution_count": 135,
     "metadata": {},
     "output_type": "execute_result"
    }
   ],
   "source": [
    "data.isna().sum()"
   ]
  },
  {
   "cell_type": "code",
   "execution_count": 136,
   "metadata": {},
   "outputs": [
    {
     "data": {
      "text/html": [
       "<div>\n",
       "<style scoped>\n",
       "    .dataframe tbody tr th:only-of-type {\n",
       "        vertical-align: middle;\n",
       "    }\n",
       "\n",
       "    .dataframe tbody tr th {\n",
       "        vertical-align: top;\n",
       "    }\n",
       "\n",
       "    .dataframe thead th {\n",
       "        text-align: right;\n",
       "    }\n",
       "</style>\n",
       "<table border=\"1\" class=\"dataframe\">\n",
       "  <thead>\n",
       "    <tr style=\"text-align: right;\">\n",
       "      <th></th>\n",
       "      <th>City</th>\n",
       "      <th>Age</th>\n",
       "      <th>perc</th>\n",
       "    </tr>\n",
       "  </thead>\n",
       "  <tbody>\n",
       "    <tr>\n",
       "      <th>0</th>\n",
       "      <td>Рыбинск</td>\n",
       "      <td>1199</td>\n",
       "      <td>0.48</td>\n",
       "    </tr>\n",
       "    <tr>\n",
       "      <th>1</th>\n",
       "      <td>Ярославль</td>\n",
       "      <td>2418</td>\n",
       "      <td>0.98</td>\n",
       "    </tr>\n",
       "  </tbody>\n",
       "</table>\n",
       "</div>"
      ],
      "text/plain": [
       "        City   Age  perc\n",
       "0    Рыбинск  1199  0.48\n",
       "1  Ярославль  2418  0.98"
      ]
     },
     "execution_count": 136,
     "metadata": {},
     "output_type": "execute_result"
    }
   ],
   "source": [
    "tmp = data\n",
    "tmp['Balance'] = tmp['Balance'].fillna(-1)\n",
    "tmp = tmp[tmp['Balance'] == -1]\n",
    "tmp = tmp.groupby('City',as_index=False).agg({'Age':'count'})\n",
    "tmp1 = data.groupby('City',as_index=False).agg({'Age':'count'})\n",
    "tmp['perc'] = round(tmp['Age']/tmp1['Age'],2)\n",
    "tmp"
   ]
  },
  {
   "cell_type": "markdown",
   "metadata": {},
   "source": [
    "<b>Вывод:</b> Пропущенные значения есть только в 2 из трех городов: Рыбинск и Ярославль. Вероятно, по этим городам возникли технические проблемы со сбором данных или системные ошибки. В процентном соотношении пропусков очень много, нужно использовать заглушку"
   ]
  },
  {
   "cell_type": "code",
   "execution_count": 137,
   "metadata": {},
   "outputs": [],
   "source": [
    "data['Balance'] = data['Balance'].fillna(-1)"
   ]
  },
  {
   "cell_type": "code",
   "execution_count": 138,
   "metadata": {},
   "outputs": [
    {
     "data": {
      "text/plain": [
       "userid              0\n",
       "score               0\n",
       "City                0\n",
       "Gender              0\n",
       "Age                 0\n",
       "Objects             0\n",
       "Balance             0\n",
       "Products            0\n",
       "CreditCard          0\n",
       "Loyalty             0\n",
       "estimated_salary    0\n",
       "Churn               0\n",
       "dtype: int64"
      ]
     },
     "execution_count": 138,
     "metadata": {},
     "output_type": "execute_result"
    }
   ],
   "source": [
    "data.isna().sum()"
   ]
  },
  {
   "cell_type": "markdown",
   "metadata": {},
   "source": [
    "<b>Вывод: </b>Значения отсутствуют только в столбце \"Баланс\". Пустые значения в этом столбце были заменены заглушкой. Причиной пропусков могло послужить то, что клиенты решили скрыть данные о средствах на счету или системный сбой при получении данных"
   ]
  },
  {
   "cell_type": "markdown",
   "metadata": {},
   "source": [
    "<b>1.2 Исследование соответствия типов данных</b>"
   ]
  },
  {
   "cell_type": "code",
   "execution_count": 139,
   "metadata": {},
   "outputs": [
    {
     "name": "stdout",
     "output_type": "stream",
     "text": [
      "<class 'pandas.core.frame.DataFrame'>\n",
      "RangeIndex: 10000 entries, 0 to 9999\n",
      "Data columns (total 12 columns):\n",
      " #   Column            Non-Null Count  Dtype  \n",
      "---  ------            --------------  -----  \n",
      " 0   userid            10000 non-null  int64  \n",
      " 1   score             10000 non-null  int64  \n",
      " 2   City              10000 non-null  object \n",
      " 3   Gender            10000 non-null  object \n",
      " 4   Age               10000 non-null  int64  \n",
      " 5   Objects           10000 non-null  int64  \n",
      " 6   Balance           10000 non-null  float64\n",
      " 7   Products          10000 non-null  int64  \n",
      " 8   CreditCard        10000 non-null  int64  \n",
      " 9   Loyalty           10000 non-null  int64  \n",
      " 10  estimated_salary  10000 non-null  float64\n",
      " 11  Churn             10000 non-null  int64  \n",
      "dtypes: float64(2), int64(8), object(2)\n",
      "memory usage: 937.6+ KB\n"
     ]
    }
   ],
   "source": [
    "data.info()"
   ]
  },
  {
   "cell_type": "markdown",
   "metadata": {},
   "source": [
    "Преведение типов данных не требуется"
   ]
  },
  {
   "cell_type": "markdown",
   "metadata": {},
   "source": [
    "<b>1.3 Исследование дубликатов</b>"
   ]
  },
  {
   "cell_type": "code",
   "execution_count": 140,
   "metadata": {},
   "outputs": [
    {
     "data": {
      "text/plain": [
       "0"
      ]
     },
     "execution_count": 140,
     "metadata": {},
     "output_type": "execute_result"
    }
   ],
   "source": [
    "data.duplicated().sum()"
   ]
  },
  {
   "cell_type": "code",
   "execution_count": 141,
   "metadata": {},
   "outputs": [
    {
     "data": {
      "text/plain": [
       "0"
      ]
     },
     "execution_count": 141,
     "metadata": {},
     "output_type": "execute_result"
    }
   ],
   "source": [
    "data.duplicated(subset=['userid','City']).sum()"
   ]
  },
  {
   "cell_type": "code",
   "execution_count": 142,
   "metadata": {},
   "outputs": [
    {
     "data": {
      "text/plain": [
       "0"
      ]
     },
     "execution_count": 142,
     "metadata": {},
     "output_type": "execute_result"
    }
   ],
   "source": [
    "data.duplicated(subset=['userid']).sum()"
   ]
  },
  {
   "cell_type": "markdown",
   "metadata": {},
   "source": [
    "Дубликатов в датасете не обнаружено"
   ]
  },
  {
   "cell_type": "markdown",
   "metadata": {},
   "source": [
    "<b>1.4 Проверка корректности наименований колонок</b>"
   ]
  },
  {
   "cell_type": "code",
   "execution_count": 143,
   "metadata": {},
   "outputs": [
    {
     "data": {
      "text/plain": [
       "Index(['userid', 'score', 'City', 'Gender', 'Age', 'Objects', 'Balance',\n",
       "       'Products', 'CreditCard', 'Loyalty', 'estimated_salary', 'Churn'],\n",
       "      dtype='object')"
      ]
     },
     "execution_count": 143,
     "metadata": {},
     "output_type": "execute_result"
    }
   ],
   "source": [
    "data.columns"
   ]
  },
  {
   "cell_type": "code",
   "execution_count": 144,
   "metadata": {},
   "outputs": [],
   "source": [
    "data.columns = data.columns.str.lower()"
   ]
  },
  {
   "cell_type": "code",
   "execution_count": 145,
   "metadata": {},
   "outputs": [
    {
     "data": {
      "text/plain": [
       "Index(['userid', 'score', 'city', 'gender', 'age', 'objects', 'balance',\n",
       "       'products', 'creditcard', 'loyalty', 'estimated_salary', 'churn'],\n",
       "      dtype='object')"
      ]
     },
     "execution_count": 145,
     "metadata": {},
     "output_type": "execute_result"
    }
   ],
   "source": [
    "data.columns"
   ]
  },
  {
   "cell_type": "markdown",
   "metadata": {},
   "source": [
    "Столбцы названы достаточно информотивно, нет смысла их переименовывать. Названия столбцов были приведены к нижнему регистрку для удобства работы с ними."
   ]
  },
  {
   "cell_type": "code",
   "execution_count": 146,
   "metadata": {},
   "outputs": [
    {
     "data": {
      "text/html": [
       "<div>\n",
       "<style scoped>\n",
       "    .dataframe tbody tr th:only-of-type {\n",
       "        vertical-align: middle;\n",
       "    }\n",
       "\n",
       "    .dataframe tbody tr th {\n",
       "        vertical-align: top;\n",
       "    }\n",
       "\n",
       "    .dataframe thead th {\n",
       "        text-align: right;\n",
       "    }\n",
       "</style>\n",
       "<table border=\"1\" class=\"dataframe\">\n",
       "  <thead>\n",
       "    <tr style=\"text-align: right;\">\n",
       "      <th></th>\n",
       "      <th>userid</th>\n",
       "      <th>score</th>\n",
       "      <th>age</th>\n",
       "      <th>objects</th>\n",
       "      <th>balance</th>\n",
       "      <th>products</th>\n",
       "      <th>creditcard</th>\n",
       "      <th>loyalty</th>\n",
       "      <th>estimated_salary</th>\n",
       "      <th>churn</th>\n",
       "      <th>gender_Ж</th>\n",
       "      <th>gender_М</th>\n",
       "      <th>city_Ростов Великий</th>\n",
       "      <th>city_Рыбинск</th>\n",
       "      <th>city_Ярославль</th>\n",
       "    </tr>\n",
       "  </thead>\n",
       "  <tbody>\n",
       "    <tr>\n",
       "      <th>0</th>\n",
       "      <td>15677338</td>\n",
       "      <td>619</td>\n",
       "      <td>42</td>\n",
       "      <td>2</td>\n",
       "      <td>-1.00</td>\n",
       "      <td>1</td>\n",
       "      <td>1</td>\n",
       "      <td>1</td>\n",
       "      <td>101348.88</td>\n",
       "      <td>1</td>\n",
       "      <td>1</td>\n",
       "      <td>0</td>\n",
       "      <td>0</td>\n",
       "      <td>0</td>\n",
       "      <td>1</td>\n",
       "    </tr>\n",
       "    <tr>\n",
       "      <th>1</th>\n",
       "      <td>15690047</td>\n",
       "      <td>608</td>\n",
       "      <td>41</td>\n",
       "      <td>1</td>\n",
       "      <td>83807.86</td>\n",
       "      <td>1</td>\n",
       "      <td>0</td>\n",
       "      <td>1</td>\n",
       "      <td>112542.58</td>\n",
       "      <td>0</td>\n",
       "      <td>1</td>\n",
       "      <td>0</td>\n",
       "      <td>0</td>\n",
       "      <td>1</td>\n",
       "      <td>0</td>\n",
       "    </tr>\n",
       "    <tr>\n",
       "      <th>2</th>\n",
       "      <td>15662040</td>\n",
       "      <td>502</td>\n",
       "      <td>42</td>\n",
       "      <td>8</td>\n",
       "      <td>159660.80</td>\n",
       "      <td>3</td>\n",
       "      <td>1</td>\n",
       "      <td>0</td>\n",
       "      <td>113931.57</td>\n",
       "      <td>1</td>\n",
       "      <td>1</td>\n",
       "      <td>0</td>\n",
       "      <td>0</td>\n",
       "      <td>0</td>\n",
       "      <td>1</td>\n",
       "    </tr>\n",
       "    <tr>\n",
       "      <th>3</th>\n",
       "      <td>15744090</td>\n",
       "      <td>699</td>\n",
       "      <td>39</td>\n",
       "      <td>1</td>\n",
       "      <td>-1.00</td>\n",
       "      <td>2</td>\n",
       "      <td>0</td>\n",
       "      <td>0</td>\n",
       "      <td>93826.63</td>\n",
       "      <td>0</td>\n",
       "      <td>1</td>\n",
       "      <td>0</td>\n",
       "      <td>0</td>\n",
       "      <td>0</td>\n",
       "      <td>1</td>\n",
       "    </tr>\n",
       "    <tr>\n",
       "      <th>4</th>\n",
       "      <td>15780624</td>\n",
       "      <td>850</td>\n",
       "      <td>43</td>\n",
       "      <td>2</td>\n",
       "      <td>125510.82</td>\n",
       "      <td>1</td>\n",
       "      <td>1</td>\n",
       "      <td>1</td>\n",
       "      <td>79084.10</td>\n",
       "      <td>0</td>\n",
       "      <td>1</td>\n",
       "      <td>0</td>\n",
       "      <td>0</td>\n",
       "      <td>1</td>\n",
       "      <td>0</td>\n",
       "    </tr>\n",
       "    <tr>\n",
       "      <th>...</th>\n",
       "      <td>...</td>\n",
       "      <td>...</td>\n",
       "      <td>...</td>\n",
       "      <td>...</td>\n",
       "      <td>...</td>\n",
       "      <td>...</td>\n",
       "      <td>...</td>\n",
       "      <td>...</td>\n",
       "      <td>...</td>\n",
       "      <td>...</td>\n",
       "      <td>...</td>\n",
       "      <td>...</td>\n",
       "      <td>...</td>\n",
       "      <td>...</td>\n",
       "      <td>...</td>\n",
       "    </tr>\n",
       "    <tr>\n",
       "      <th>9995</th>\n",
       "      <td>15648965</td>\n",
       "      <td>771</td>\n",
       "      <td>39</td>\n",
       "      <td>5</td>\n",
       "      <td>-1.00</td>\n",
       "      <td>2</td>\n",
       "      <td>1</td>\n",
       "      <td>0</td>\n",
       "      <td>96270.64</td>\n",
       "      <td>0</td>\n",
       "      <td>0</td>\n",
       "      <td>1</td>\n",
       "      <td>0</td>\n",
       "      <td>0</td>\n",
       "      <td>1</td>\n",
       "    </tr>\n",
       "    <tr>\n",
       "      <th>9996</th>\n",
       "      <td>15612628</td>\n",
       "      <td>516</td>\n",
       "      <td>35</td>\n",
       "      <td>10</td>\n",
       "      <td>57369.61</td>\n",
       "      <td>1</td>\n",
       "      <td>1</td>\n",
       "      <td>1</td>\n",
       "      <td>101699.77</td>\n",
       "      <td>0</td>\n",
       "      <td>0</td>\n",
       "      <td>1</td>\n",
       "      <td>0</td>\n",
       "      <td>0</td>\n",
       "      <td>1</td>\n",
       "    </tr>\n",
       "    <tr>\n",
       "      <th>9997</th>\n",
       "      <td>15627268</td>\n",
       "      <td>709</td>\n",
       "      <td>36</td>\n",
       "      <td>7</td>\n",
       "      <td>-1.00</td>\n",
       "      <td>1</td>\n",
       "      <td>0</td>\n",
       "      <td>1</td>\n",
       "      <td>42085.58</td>\n",
       "      <td>1</td>\n",
       "      <td>1</td>\n",
       "      <td>0</td>\n",
       "      <td>0</td>\n",
       "      <td>0</td>\n",
       "      <td>1</td>\n",
       "    </tr>\n",
       "    <tr>\n",
       "      <th>9998</th>\n",
       "      <td>15725091</td>\n",
       "      <td>772</td>\n",
       "      <td>42</td>\n",
       "      <td>3</td>\n",
       "      <td>75075.31</td>\n",
       "      <td>2</td>\n",
       "      <td>1</td>\n",
       "      <td>0</td>\n",
       "      <td>92888.52</td>\n",
       "      <td>1</td>\n",
       "      <td>0</td>\n",
       "      <td>1</td>\n",
       "      <td>1</td>\n",
       "      <td>0</td>\n",
       "      <td>0</td>\n",
       "    </tr>\n",
       "    <tr>\n",
       "      <th>9999</th>\n",
       "      <td>15671055</td>\n",
       "      <td>792</td>\n",
       "      <td>28</td>\n",
       "      <td>4</td>\n",
       "      <td>130142.79</td>\n",
       "      <td>1</td>\n",
       "      <td>1</td>\n",
       "      <td>0</td>\n",
       "      <td>38190.78</td>\n",
       "      <td>0</td>\n",
       "      <td>1</td>\n",
       "      <td>0</td>\n",
       "      <td>0</td>\n",
       "      <td>0</td>\n",
       "      <td>1</td>\n",
       "    </tr>\n",
       "  </tbody>\n",
       "</table>\n",
       "<p>10000 rows × 15 columns</p>\n",
       "</div>"
      ],
      "text/plain": [
       "        userid  score  age  objects    balance  products  creditcard  loyalty  \\\n",
       "0     15677338    619   42        2      -1.00         1           1        1   \n",
       "1     15690047    608   41        1   83807.86         1           0        1   \n",
       "2     15662040    502   42        8  159660.80         3           1        0   \n",
       "3     15744090    699   39        1      -1.00         2           0        0   \n",
       "4     15780624    850   43        2  125510.82         1           1        1   \n",
       "...        ...    ...  ...      ...        ...       ...         ...      ...   \n",
       "9995  15648965    771   39        5      -1.00         2           1        0   \n",
       "9996  15612628    516   35       10   57369.61         1           1        1   \n",
       "9997  15627268    709   36        7      -1.00         1           0        1   \n",
       "9998  15725091    772   42        3   75075.31         2           1        0   \n",
       "9999  15671055    792   28        4  130142.79         1           1        0   \n",
       "\n",
       "      estimated_salary  churn  gender_Ж  gender_М  city_Ростов Великий  \\\n",
       "0            101348.88      1         1         0                    0   \n",
       "1            112542.58      0         1         0                    0   \n",
       "2            113931.57      1         1         0                    0   \n",
       "3             93826.63      0         1         0                    0   \n",
       "4             79084.10      0         1         0                    0   \n",
       "...                ...    ...       ...       ...                  ...   \n",
       "9995          96270.64      0         0         1                    0   \n",
       "9996         101699.77      0         0         1                    0   \n",
       "9997          42085.58      1         1         0                    0   \n",
       "9998          92888.52      1         0         1                    1   \n",
       "9999          38190.78      0         1         0                    0   \n",
       "\n",
       "      city_Рыбинск  city_Ярославль  \n",
       "0                0               1  \n",
       "1                1               0  \n",
       "2                0               1  \n",
       "3                0               1  \n",
       "4                1               0  \n",
       "...            ...             ...  \n",
       "9995             0               1  \n",
       "9996             0               1  \n",
       "9997             0               1  \n",
       "9998             0               0  \n",
       "9999             0               1  \n",
       "\n",
       "[10000 rows x 15 columns]"
      ]
     },
     "execution_count": 146,
     "metadata": {},
     "output_type": "execute_result"
    }
   ],
   "source": [
    "cat_data = pd.get_dummies(data, columns = ['gender','city'])\n",
    "cat_data"
   ]
  },
  {
   "cell_type": "markdown",
   "metadata": {},
   "source": [
    "<b>2. Исследовательский анализ данных </b>"
   ]
  },
  {
   "cell_type": "markdown",
   "metadata": {},
   "source": [
    "<b>2.1 Поиск корреляции признаков, которые определяют клиентов, склонных к уходу</b>"
   ]
  },
  {
   "cell_type": "code",
   "execution_count": 147,
   "metadata": {},
   "outputs": [
    {
     "data": {
      "text/html": [
       "<div>\n",
       "<style scoped>\n",
       "    .dataframe tbody tr th:only-of-type {\n",
       "        vertical-align: middle;\n",
       "    }\n",
       "\n",
       "    .dataframe tbody tr th {\n",
       "        vertical-align: top;\n",
       "    }\n",
       "\n",
       "    .dataframe thead th {\n",
       "        text-align: right;\n",
       "    }\n",
       "</style>\n",
       "<table border=\"1\" class=\"dataframe\">\n",
       "  <thead>\n",
       "    <tr style=\"text-align: right;\">\n",
       "      <th></th>\n",
       "      <th>userid</th>\n",
       "      <th>score</th>\n",
       "      <th>age</th>\n",
       "      <th>objects</th>\n",
       "      <th>balance</th>\n",
       "      <th>products</th>\n",
       "      <th>creditcard</th>\n",
       "      <th>loyalty</th>\n",
       "      <th>estimated_salary</th>\n",
       "      <th>churn</th>\n",
       "      <th>gender_Ж</th>\n",
       "      <th>gender_М</th>\n",
       "      <th>city_Ростов Великий</th>\n",
       "      <th>city_Рыбинск</th>\n",
       "      <th>city_Ярославль</th>\n",
       "    </tr>\n",
       "  </thead>\n",
       "  <tbody>\n",
       "    <tr>\n",
       "      <th>userid</th>\n",
       "      <td>1.000000</td>\n",
       "      <td>0.005308</td>\n",
       "      <td>0.009497</td>\n",
       "      <td>-0.014883</td>\n",
       "      <td>-0.012419</td>\n",
       "      <td>0.016972</td>\n",
       "      <td>-0.014025</td>\n",
       "      <td>0.001665</td>\n",
       "      <td>0.015271</td>\n",
       "      <td>-0.006248</td>\n",
       "      <td>0.002641</td>\n",
       "      <td>-0.002641</td>\n",
       "      <td>-0.003097</td>\n",
       "      <td>0.007800</td>\n",
       "      <td>-0.004049</td>\n",
       "    </tr>\n",
       "    <tr>\n",
       "      <th>score</th>\n",
       "      <td>0.005308</td>\n",
       "      <td>1.000000</td>\n",
       "      <td>-0.003965</td>\n",
       "      <td>0.000842</td>\n",
       "      <td>0.006268</td>\n",
       "      <td>0.012238</td>\n",
       "      <td>-0.005458</td>\n",
       "      <td>0.025651</td>\n",
       "      <td>-0.001384</td>\n",
       "      <td>-0.027094</td>\n",
       "      <td>0.002857</td>\n",
       "      <td>-0.002857</td>\n",
       "      <td>0.005538</td>\n",
       "      <td>0.004780</td>\n",
       "      <td>-0.008928</td>\n",
       "    </tr>\n",
       "    <tr>\n",
       "      <th>age</th>\n",
       "      <td>0.009497</td>\n",
       "      <td>-0.003965</td>\n",
       "      <td>1.000000</td>\n",
       "      <td>-0.009997</td>\n",
       "      <td>0.028308</td>\n",
       "      <td>-0.030680</td>\n",
       "      <td>-0.011721</td>\n",
       "      <td>0.085472</td>\n",
       "      <td>-0.007201</td>\n",
       "      <td>0.285323</td>\n",
       "      <td>0.027544</td>\n",
       "      <td>-0.027544</td>\n",
       "      <td>0.046897</td>\n",
       "      <td>-0.001685</td>\n",
       "      <td>-0.039208</td>\n",
       "    </tr>\n",
       "    <tr>\n",
       "      <th>objects</th>\n",
       "      <td>-0.014883</td>\n",
       "      <td>0.000842</td>\n",
       "      <td>-0.009997</td>\n",
       "      <td>1.000000</td>\n",
       "      <td>-0.012254</td>\n",
       "      <td>0.013444</td>\n",
       "      <td>0.022583</td>\n",
       "      <td>-0.028362</td>\n",
       "      <td>0.007784</td>\n",
       "      <td>-0.014001</td>\n",
       "      <td>-0.014733</td>\n",
       "      <td>0.014733</td>\n",
       "      <td>-0.000567</td>\n",
       "      <td>0.003868</td>\n",
       "      <td>-0.002848</td>\n",
       "    </tr>\n",
       "    <tr>\n",
       "      <th>balance</th>\n",
       "      <td>-0.012419</td>\n",
       "      <td>0.006268</td>\n",
       "      <td>0.028308</td>\n",
       "      <td>-0.012254</td>\n",
       "      <td>1.000000</td>\n",
       "      <td>-0.304180</td>\n",
       "      <td>-0.014858</td>\n",
       "      <td>-0.010084</td>\n",
       "      <td>0.012798</td>\n",
       "      <td>0.118533</td>\n",
       "      <td>-0.012087</td>\n",
       "      <td>0.012087</td>\n",
       "      <td>0.401111</td>\n",
       "      <td>-0.134892</td>\n",
       "      <td>-0.231329</td>\n",
       "    </tr>\n",
       "    <tr>\n",
       "      <th>products</th>\n",
       "      <td>0.016972</td>\n",
       "      <td>0.012238</td>\n",
       "      <td>-0.030680</td>\n",
       "      <td>0.013444</td>\n",
       "      <td>-0.304180</td>\n",
       "      <td>1.000000</td>\n",
       "      <td>0.003183</td>\n",
       "      <td>0.009612</td>\n",
       "      <td>0.014204</td>\n",
       "      <td>-0.047820</td>\n",
       "      <td>0.021859</td>\n",
       "      <td>-0.021859</td>\n",
       "      <td>-0.010419</td>\n",
       "      <td>0.009039</td>\n",
       "      <td>0.001230</td>\n",
       "    </tr>\n",
       "    <tr>\n",
       "      <th>creditcard</th>\n",
       "      <td>-0.014025</td>\n",
       "      <td>-0.005458</td>\n",
       "      <td>-0.011721</td>\n",
       "      <td>0.022583</td>\n",
       "      <td>-0.014858</td>\n",
       "      <td>0.003183</td>\n",
       "      <td>1.000000</td>\n",
       "      <td>-0.011866</td>\n",
       "      <td>-0.009933</td>\n",
       "      <td>-0.007138</td>\n",
       "      <td>-0.005766</td>\n",
       "      <td>0.005766</td>\n",
       "      <td>0.010577</td>\n",
       "      <td>-0.013480</td>\n",
       "      <td>0.002467</td>\n",
       "    </tr>\n",
       "    <tr>\n",
       "      <th>loyalty</th>\n",
       "      <td>0.001665</td>\n",
       "      <td>0.025651</td>\n",
       "      <td>0.085472</td>\n",
       "      <td>-0.028362</td>\n",
       "      <td>-0.010084</td>\n",
       "      <td>0.009612</td>\n",
       "      <td>-0.011866</td>\n",
       "      <td>1.000000</td>\n",
       "      <td>-0.011421</td>\n",
       "      <td>-0.156128</td>\n",
       "      <td>-0.022544</td>\n",
       "      <td>0.022544</td>\n",
       "      <td>-0.020486</td>\n",
       "      <td>0.016732</td>\n",
       "      <td>0.003317</td>\n",
       "    </tr>\n",
       "    <tr>\n",
       "      <th>estimated_salary</th>\n",
       "      <td>0.015271</td>\n",
       "      <td>-0.001384</td>\n",
       "      <td>-0.007201</td>\n",
       "      <td>0.007784</td>\n",
       "      <td>0.012798</td>\n",
       "      <td>0.014204</td>\n",
       "      <td>-0.009933</td>\n",
       "      <td>-0.011421</td>\n",
       "      <td>1.000000</td>\n",
       "      <td>0.012097</td>\n",
       "      <td>0.008112</td>\n",
       "      <td>-0.008112</td>\n",
       "      <td>0.010297</td>\n",
       "      <td>-0.006482</td>\n",
       "      <td>-0.003332</td>\n",
       "    </tr>\n",
       "    <tr>\n",
       "      <th>churn</th>\n",
       "      <td>-0.006248</td>\n",
       "      <td>-0.027094</td>\n",
       "      <td>0.285323</td>\n",
       "      <td>-0.014001</td>\n",
       "      <td>0.118533</td>\n",
       "      <td>-0.047820</td>\n",
       "      <td>-0.007138</td>\n",
       "      <td>-0.156128</td>\n",
       "      <td>0.012097</td>\n",
       "      <td>1.000000</td>\n",
       "      <td>0.106512</td>\n",
       "      <td>-0.106512</td>\n",
       "      <td>0.173488</td>\n",
       "      <td>-0.052667</td>\n",
       "      <td>-0.104955</td>\n",
       "    </tr>\n",
       "    <tr>\n",
       "      <th>gender_Ж</th>\n",
       "      <td>0.002641</td>\n",
       "      <td>0.002857</td>\n",
       "      <td>0.027544</td>\n",
       "      <td>-0.014733</td>\n",
       "      <td>-0.012087</td>\n",
       "      <td>0.021859</td>\n",
       "      <td>-0.005766</td>\n",
       "      <td>-0.022544</td>\n",
       "      <td>0.008112</td>\n",
       "      <td>0.106512</td>\n",
       "      <td>1.000000</td>\n",
       "      <td>-1.000000</td>\n",
       "      <td>0.024628</td>\n",
       "      <td>-0.016889</td>\n",
       "      <td>-0.006772</td>\n",
       "    </tr>\n",
       "    <tr>\n",
       "      <th>gender_М</th>\n",
       "      <td>-0.002641</td>\n",
       "      <td>-0.002857</td>\n",
       "      <td>-0.027544</td>\n",
       "      <td>0.014733</td>\n",
       "      <td>0.012087</td>\n",
       "      <td>-0.021859</td>\n",
       "      <td>0.005766</td>\n",
       "      <td>0.022544</td>\n",
       "      <td>-0.008112</td>\n",
       "      <td>-0.106512</td>\n",
       "      <td>-1.000000</td>\n",
       "      <td>1.000000</td>\n",
       "      <td>-0.024628</td>\n",
       "      <td>0.016889</td>\n",
       "      <td>0.006772</td>\n",
       "    </tr>\n",
       "    <tr>\n",
       "      <th>city_Ростов Великий</th>\n",
       "      <td>-0.003097</td>\n",
       "      <td>0.005538</td>\n",
       "      <td>0.046897</td>\n",
       "      <td>-0.000567</td>\n",
       "      <td>0.401111</td>\n",
       "      <td>-0.010419</td>\n",
       "      <td>0.010577</td>\n",
       "      <td>-0.020486</td>\n",
       "      <td>0.010297</td>\n",
       "      <td>0.173488</td>\n",
       "      <td>0.024628</td>\n",
       "      <td>-0.024628</td>\n",
       "      <td>1.000000</td>\n",
       "      <td>-0.332084</td>\n",
       "      <td>-0.580359</td>\n",
       "    </tr>\n",
       "    <tr>\n",
       "      <th>city_Рыбинск</th>\n",
       "      <td>0.007800</td>\n",
       "      <td>0.004780</td>\n",
       "      <td>-0.001685</td>\n",
       "      <td>0.003868</td>\n",
       "      <td>-0.134892</td>\n",
       "      <td>0.009039</td>\n",
       "      <td>-0.013480</td>\n",
       "      <td>0.016732</td>\n",
       "      <td>-0.006482</td>\n",
       "      <td>-0.052667</td>\n",
       "      <td>-0.016889</td>\n",
       "      <td>0.016889</td>\n",
       "      <td>-0.332084</td>\n",
       "      <td>1.000000</td>\n",
       "      <td>-0.575418</td>\n",
       "    </tr>\n",
       "    <tr>\n",
       "      <th>city_Ярославль</th>\n",
       "      <td>-0.004049</td>\n",
       "      <td>-0.008928</td>\n",
       "      <td>-0.039208</td>\n",
       "      <td>-0.002848</td>\n",
       "      <td>-0.231329</td>\n",
       "      <td>0.001230</td>\n",
       "      <td>0.002467</td>\n",
       "      <td>0.003317</td>\n",
       "      <td>-0.003332</td>\n",
       "      <td>-0.104955</td>\n",
       "      <td>-0.006772</td>\n",
       "      <td>0.006772</td>\n",
       "      <td>-0.580359</td>\n",
       "      <td>-0.575418</td>\n",
       "      <td>1.000000</td>\n",
       "    </tr>\n",
       "  </tbody>\n",
       "</table>\n",
       "</div>"
      ],
      "text/plain": [
       "                       userid     score       age   objects   balance  \\\n",
       "userid               1.000000  0.005308  0.009497 -0.014883 -0.012419   \n",
       "score                0.005308  1.000000 -0.003965  0.000842  0.006268   \n",
       "age                  0.009497 -0.003965  1.000000 -0.009997  0.028308   \n",
       "objects             -0.014883  0.000842 -0.009997  1.000000 -0.012254   \n",
       "balance             -0.012419  0.006268  0.028308 -0.012254  1.000000   \n",
       "products             0.016972  0.012238 -0.030680  0.013444 -0.304180   \n",
       "creditcard          -0.014025 -0.005458 -0.011721  0.022583 -0.014858   \n",
       "loyalty              0.001665  0.025651  0.085472 -0.028362 -0.010084   \n",
       "estimated_salary     0.015271 -0.001384 -0.007201  0.007784  0.012798   \n",
       "churn               -0.006248 -0.027094  0.285323 -0.014001  0.118533   \n",
       "gender_Ж             0.002641  0.002857  0.027544 -0.014733 -0.012087   \n",
       "gender_М            -0.002641 -0.002857 -0.027544  0.014733  0.012087   \n",
       "city_Ростов Великий -0.003097  0.005538  0.046897 -0.000567  0.401111   \n",
       "city_Рыбинск         0.007800  0.004780 -0.001685  0.003868 -0.134892   \n",
       "city_Ярославль      -0.004049 -0.008928 -0.039208 -0.002848 -0.231329   \n",
       "\n",
       "                     products  creditcard   loyalty  estimated_salary  \\\n",
       "userid               0.016972   -0.014025  0.001665          0.015271   \n",
       "score                0.012238   -0.005458  0.025651         -0.001384   \n",
       "age                 -0.030680   -0.011721  0.085472         -0.007201   \n",
       "objects              0.013444    0.022583 -0.028362          0.007784   \n",
       "balance             -0.304180   -0.014858 -0.010084          0.012798   \n",
       "products             1.000000    0.003183  0.009612          0.014204   \n",
       "creditcard           0.003183    1.000000 -0.011866         -0.009933   \n",
       "loyalty              0.009612   -0.011866  1.000000         -0.011421   \n",
       "estimated_salary     0.014204   -0.009933 -0.011421          1.000000   \n",
       "churn               -0.047820   -0.007138 -0.156128          0.012097   \n",
       "gender_Ж             0.021859   -0.005766 -0.022544          0.008112   \n",
       "gender_М            -0.021859    0.005766  0.022544         -0.008112   \n",
       "city_Ростов Великий -0.010419    0.010577 -0.020486          0.010297   \n",
       "city_Рыбинск         0.009039   -0.013480  0.016732         -0.006482   \n",
       "city_Ярославль       0.001230    0.002467  0.003317         -0.003332   \n",
       "\n",
       "                        churn  gender_Ж  gender_М  city_Ростов Великий  \\\n",
       "userid              -0.006248  0.002641 -0.002641            -0.003097   \n",
       "score               -0.027094  0.002857 -0.002857             0.005538   \n",
       "age                  0.285323  0.027544 -0.027544             0.046897   \n",
       "objects             -0.014001 -0.014733  0.014733            -0.000567   \n",
       "balance              0.118533 -0.012087  0.012087             0.401111   \n",
       "products            -0.047820  0.021859 -0.021859            -0.010419   \n",
       "creditcard          -0.007138 -0.005766  0.005766             0.010577   \n",
       "loyalty             -0.156128 -0.022544  0.022544            -0.020486   \n",
       "estimated_salary     0.012097  0.008112 -0.008112             0.010297   \n",
       "churn                1.000000  0.106512 -0.106512             0.173488   \n",
       "gender_Ж             0.106512  1.000000 -1.000000             0.024628   \n",
       "gender_М            -0.106512 -1.000000  1.000000            -0.024628   \n",
       "city_Ростов Великий  0.173488  0.024628 -0.024628             1.000000   \n",
       "city_Рыбинск        -0.052667 -0.016889  0.016889            -0.332084   \n",
       "city_Ярославль      -0.104955 -0.006772  0.006772            -0.580359   \n",
       "\n",
       "                     city_Рыбинск  city_Ярославль  \n",
       "userid                   0.007800       -0.004049  \n",
       "score                    0.004780       -0.008928  \n",
       "age                     -0.001685       -0.039208  \n",
       "objects                  0.003868       -0.002848  \n",
       "balance                 -0.134892       -0.231329  \n",
       "products                 0.009039        0.001230  \n",
       "creditcard              -0.013480        0.002467  \n",
       "loyalty                  0.016732        0.003317  \n",
       "estimated_salary        -0.006482       -0.003332  \n",
       "churn                   -0.052667       -0.104955  \n",
       "gender_Ж                -0.016889       -0.006772  \n",
       "gender_М                 0.016889        0.006772  \n",
       "city_Ростов Великий     -0.332084       -0.580359  \n",
       "city_Рыбинск             1.000000       -0.575418  \n",
       "city_Ярославль          -0.575418        1.000000  "
      ]
     },
     "execution_count": 147,
     "metadata": {},
     "output_type": "execute_result"
    }
   ],
   "source": [
    "cat_data.corr()"
   ]
  },
  {
   "cell_type": "code",
   "execution_count": 148,
   "metadata": {},
   "outputs": [
    {
     "data": {
      "image/png": "[encoded data removed]",
      "text/plain": [
       "<Figure size 1500x1000 with 2 Axes>"
      ]
     },
     "metadata": {},
     "output_type": "display_data"
    }
   ],
   "source": [
    "plt.figure(figsize=(15,10))\n",
    "sns.heatmap(cat_data.corr().loc[:,['churn']].drop('churn').sort_values('churn'),fmt=\".0%\",cmap='vlag',annot=True)\n",
    "plt.show()"
   ]
  },
  {
   "cell_type": "markdown",
   "metadata": {},
   "source": [
    "<b>Вывод:</b> Исходя из графика корреляции можно предположить, что есть зависимость оттока клиентов от:\n",
    "\n",
    "1) Возраста\n",
    "\n",
    "2) Город: Ростов Великий\n",
    "\n",
    "3) Баланса\n",
    "\n",
    "4) Пол: Женский"
   ]
  },
  {
   "cell_type": "markdown",
   "metadata": {},
   "source": [
    "<b>2.2 Формирование портрета клиента, склонного к уходу</b>"
   ]
  },
  {
   "cell_type": "code",
   "execution_count": 149,
   "metadata": {},
   "outputs": [
    {
     "data": {
      "text/html": [
       "<div>\n",
       "<style scoped>\n",
       "    .dataframe tbody tr th:only-of-type {\n",
       "        vertical-align: middle;\n",
       "    }\n",
       "\n",
       "    .dataframe tbody tr th {\n",
       "        vertical-align: top;\n",
       "    }\n",
       "\n",
       "    .dataframe thead th {\n",
       "        text-align: right;\n",
       "    }\n",
       "</style>\n",
       "<table border=\"1\" class=\"dataframe\">\n",
       "  <thead>\n",
       "    <tr style=\"text-align: right;\">\n",
       "      <th></th>\n",
       "      <th>age</th>\n",
       "      <th>churn</th>\n",
       "    </tr>\n",
       "  </thead>\n",
       "  <tbody>\n",
       "    <tr>\n",
       "      <th>28</th>\n",
       "      <td>46</td>\n",
       "      <td>91</td>\n",
       "    </tr>\n",
       "    <tr>\n",
       "      <th>22</th>\n",
       "      <td>40</td>\n",
       "      <td>89</td>\n",
       "    </tr>\n",
       "    <tr>\n",
       "      <th>25</th>\n",
       "      <td>43</td>\n",
       "      <td>88</td>\n",
       "    </tr>\n",
       "    <tr>\n",
       "      <th>27</th>\n",
       "      <td>45</td>\n",
       "      <td>87</td>\n",
       "    </tr>\n",
       "    <tr>\n",
       "      <th>30</th>\n",
       "      <td>48</td>\n",
       "      <td>80</td>\n",
       "    </tr>\n",
       "    <tr>\n",
       "      <th>24</th>\n",
       "      <td>42</td>\n",
       "      <td>77</td>\n",
       "    </tr>\n",
       "    <tr>\n",
       "      <th>29</th>\n",
       "      <td>47</td>\n",
       "      <td>77</td>\n",
       "    </tr>\n",
       "    <tr>\n",
       "      <th>31</th>\n",
       "      <td>49</td>\n",
       "      <td>75</td>\n",
       "    </tr>\n",
       "    <tr>\n",
       "      <th>26</th>\n",
       "      <td>44</td>\n",
       "      <td>73</td>\n",
       "    </tr>\n",
       "    <tr>\n",
       "      <th>21</th>\n",
       "      <td>39</td>\n",
       "      <td>72</td>\n",
       "    </tr>\n",
       "    <tr>\n",
       "      <th>32</th>\n",
       "      <td>50</td>\n",
       "      <td>71</td>\n",
       "    </tr>\n",
       "    <tr>\n",
       "      <th>23</th>\n",
       "      <td>41</td>\n",
       "      <td>69</td>\n",
       "    </tr>\n",
       "    <tr>\n",
       "      <th>33</th>\n",
       "      <td>51</td>\n",
       "      <td>66</td>\n",
       "    </tr>\n",
       "    <tr>\n",
       "      <th>34</th>\n",
       "      <td>52</td>\n",
       "      <td>64</td>\n",
       "    </tr>\n",
       "    <tr>\n",
       "      <th>20</th>\n",
       "      <td>38</td>\n",
       "      <td>63</td>\n",
       "    </tr>\n",
       "    <tr>\n",
       "      <th>19</th>\n",
       "      <td>37</td>\n",
       "      <td>62</td>\n",
       "    </tr>\n",
       "    <tr>\n",
       "      <th>17</th>\n",
       "      <td>35</td>\n",
       "      <td>57</td>\n",
       "    </tr>\n",
       "    <tr>\n",
       "      <th>18</th>\n",
       "      <td>36</td>\n",
       "      <td>53</td>\n",
       "    </tr>\n",
       "    <tr>\n",
       "      <th>36</th>\n",
       "      <td>54</td>\n",
       "      <td>51</td>\n",
       "    </tr>\n",
       "    <tr>\n",
       "      <th>38</th>\n",
       "      <td>56</td>\n",
       "      <td>50</td>\n",
       "    </tr>\n",
       "    <tr>\n",
       "      <th>37</th>\n",
       "      <td>55</td>\n",
       "      <td>48</td>\n",
       "    </tr>\n",
       "    <tr>\n",
       "      <th>15</th>\n",
       "      <td>33</td>\n",
       "      <td>44</td>\n",
       "    </tr>\n",
       "    <tr>\n",
       "      <th>35</th>\n",
       "      <td>53</td>\n",
       "      <td>40</td>\n",
       "    </tr>\n",
       "    <tr>\n",
       "      <th>39</th>\n",
       "      <td>57</td>\n",
       "      <td>38</td>\n",
       "    </tr>\n",
       "    <tr>\n",
       "      <th>13</th>\n",
       "      <td>31</td>\n",
       "      <td>33</td>\n",
       "    </tr>\n",
       "    <tr>\n",
       "      <th>16</th>\n",
       "      <td>34</td>\n",
       "      <td>33</td>\n",
       "    </tr>\n",
       "    <tr>\n",
       "      <th>14</th>\n",
       "      <td>32</td>\n",
       "      <td>32</td>\n",
       "    </tr>\n",
       "    <tr>\n",
       "      <th>42</th>\n",
       "      <td>60</td>\n",
       "      <td>32</td>\n",
       "    </tr>\n",
       "    <tr>\n",
       "      <th>41</th>\n",
       "      <td>59</td>\n",
       "      <td>30</td>\n",
       "    </tr>\n",
       "    <tr>\n",
       "      <th>40</th>\n",
       "      <td>58</td>\n",
       "      <td>29</td>\n",
       "    </tr>\n",
       "    <tr>\n",
       "      <th>11</th>\n",
       "      <td>29</td>\n",
       "      <td>28</td>\n",
       "    </tr>\n",
       "    <tr>\n",
       "      <th>12</th>\n",
       "      <td>30</td>\n",
       "      <td>24</td>\n",
       "    </tr>\n",
       "    <tr>\n",
       "      <th>10</th>\n",
       "      <td>28</td>\n",
       "      <td>23</td>\n",
       "    </tr>\n",
       "    <tr>\n",
       "      <th>43</th>\n",
       "      <td>61</td>\n",
       "      <td>21</td>\n",
       "    </tr>\n",
       "    <tr>\n",
       "      <th>44</th>\n",
       "      <td>62</td>\n",
       "      <td>21</td>\n",
       "    </tr>\n",
       "    <tr>\n",
       "      <th>45</th>\n",
       "      <td>63</td>\n",
       "      <td>18</td>\n",
       "    </tr>\n",
       "    <tr>\n",
       "      <th>8</th>\n",
       "      <td>26</td>\n",
       "      <td>14</td>\n",
       "    </tr>\n",
       "    <tr>\n",
       "      <th>6</th>\n",
       "      <td>24</td>\n",
       "      <td>14</td>\n",
       "    </tr>\n",
       "    <tr>\n",
       "      <th>9</th>\n",
       "      <td>27</td>\n",
       "      <td>13</td>\n",
       "    </tr>\n",
       "    <tr>\n",
       "      <th>46</th>\n",
       "      <td>64</td>\n",
       "      <td>12</td>\n",
       "    </tr>\n",
       "    <tr>\n",
       "      <th>4</th>\n",
       "      <td>22</td>\n",
       "      <td>12</td>\n",
       "    </tr>\n",
       "    <tr>\n",
       "      <th>47</th>\n",
       "      <td>65</td>\n",
       "      <td>8</td>\n",
       "    </tr>\n",
       "    <tr>\n",
       "      <th>53</th>\n",
       "      <td>71</td>\n",
       "      <td>7</td>\n",
       "    </tr>\n",
       "    <tr>\n",
       "      <th>48</th>\n",
       "      <td>66</td>\n",
       "      <td>7</td>\n",
       "    </tr>\n",
       "    <tr>\n",
       "      <th>7</th>\n",
       "      <td>25</td>\n",
       "      <td>6</td>\n",
       "    </tr>\n",
       "    <tr>\n",
       "      <th>50</th>\n",
       "      <td>68</td>\n",
       "      <td>6</td>\n",
       "    </tr>\n",
       "    <tr>\n",
       "      <th>5</th>\n",
       "      <td>23</td>\n",
       "      <td>6</td>\n",
       "    </tr>\n",
       "    <tr>\n",
       "      <th>49</th>\n",
       "      <td>67</td>\n",
       "      <td>5</td>\n",
       "    </tr>\n",
       "    <tr>\n",
       "      <th>52</th>\n",
       "      <td>70</td>\n",
       "      <td>4</td>\n",
       "    </tr>\n",
       "    <tr>\n",
       "      <th>3</th>\n",
       "      <td>21</td>\n",
       "      <td>3</td>\n",
       "    </tr>\n",
       "    <tr>\n",
       "      <th>51</th>\n",
       "      <td>69</td>\n",
       "      <td>2</td>\n",
       "    </tr>\n",
       "    <tr>\n",
       "      <th>0</th>\n",
       "      <td>18</td>\n",
       "      <td>2</td>\n",
       "    </tr>\n",
       "    <tr>\n",
       "      <th>2</th>\n",
       "      <td>20</td>\n",
       "      <td>2</td>\n",
       "    </tr>\n",
       "    <tr>\n",
       "      <th>1</th>\n",
       "      <td>19</td>\n",
       "      <td>1</td>\n",
       "    </tr>\n",
       "    <tr>\n",
       "      <th>54</th>\n",
       "      <td>72</td>\n",
       "      <td>1</td>\n",
       "    </tr>\n",
       "    <tr>\n",
       "      <th>55</th>\n",
       "      <td>73</td>\n",
       "      <td>1</td>\n",
       "    </tr>\n",
       "    <tr>\n",
       "      <th>56</th>\n",
       "      <td>74</td>\n",
       "      <td>1</td>\n",
       "    </tr>\n",
       "    <tr>\n",
       "      <th>57</th>\n",
       "      <td>84</td>\n",
       "      <td>1</td>\n",
       "    </tr>\n",
       "  </tbody>\n",
       "</table>\n",
       "</div>"
      ],
      "text/plain": [
       "    age  churn\n",
       "28   46     91\n",
       "22   40     89\n",
       "25   43     88\n",
       "27   45     87\n",
       "30   48     80\n",
       "24   42     77\n",
       "29   47     77\n",
       "31   49     75\n",
       "26   44     73\n",
       "21   39     72\n",
       "32   50     71\n",
       "23   41     69\n",
       "33   51     66\n",
       "34   52     64\n",
       "20   38     63\n",
       "19   37     62\n",
       "17   35     57\n",
       "18   36     53\n",
       "36   54     51\n",
       "38   56     50\n",
       "37   55     48\n",
       "15   33     44\n",
       "35   53     40\n",
       "39   57     38\n",
       "13   31     33\n",
       "16   34     33\n",
       "14   32     32\n",
       "42   60     32\n",
       "41   59     30\n",
       "40   58     29\n",
       "11   29     28\n",
       "12   30     24\n",
       "10   28     23\n",
       "43   61     21\n",
       "44   62     21\n",
       "45   63     18\n",
       "8    26     14\n",
       "6    24     14\n",
       "9    27     13\n",
       "46   64     12\n",
       "4    22     12\n",
       "47   65      8\n",
       "53   71      7\n",
       "48   66      7\n",
       "7    25      6\n",
       "50   68      6\n",
       "5    23      6\n",
       "49   67      5\n",
       "52   70      4\n",
       "3    21      3\n",
       "51   69      2\n",
       "0    18      2\n",
       "2    20      2\n",
       "1    19      1\n",
       "54   72      1\n",
       "55   73      1\n",
       "56   74      1\n",
       "57   84      1"
      ]
     },
     "execution_count": 149,
     "metadata": {},
     "output_type": "execute_result"
    }
   ],
   "source": [
    "tmp = cat_data[cat_data['churn'] == 1]\n",
    "tmp.groupby('age',as_index = False).agg({'churn':'count'}).sort_values(by = 'churn',ascending = False)"
   ]
  },
  {
   "cell_type": "code",
   "execution_count": 150,
   "metadata": {},
   "outputs": [
    {
     "data": {
      "text/html": [
       "<div>\n",
       "<style scoped>\n",
       "    .dataframe tbody tr th:only-of-type {\n",
       "        vertical-align: middle;\n",
       "    }\n",
       "\n",
       "    .dataframe tbody tr th {\n",
       "        vertical-align: top;\n",
       "    }\n",
       "\n",
       "    .dataframe thead th {\n",
       "        text-align: right;\n",
       "    }\n",
       "</style>\n",
       "<table border=\"1\" class=\"dataframe\">\n",
       "  <thead>\n",
       "    <tr style=\"text-align: right;\">\n",
       "      <th></th>\n",
       "      <th>userid</th>\n",
       "      <th>score</th>\n",
       "      <th>age</th>\n",
       "      <th>objects</th>\n",
       "      <th>balance</th>\n",
       "      <th>products</th>\n",
       "      <th>creditcard</th>\n",
       "      <th>loyalty</th>\n",
       "      <th>estimated_salary</th>\n",
       "      <th>churn</th>\n",
       "      <th>gender_Ж</th>\n",
       "      <th>gender_М</th>\n",
       "      <th>city_Ростов Великий</th>\n",
       "      <th>city_Рыбинск</th>\n",
       "      <th>city_Ярославль</th>\n",
       "      <th>age_group</th>\n",
       "    </tr>\n",
       "  </thead>\n",
       "  <tbody>\n",
       "    <tr>\n",
       "      <th>0</th>\n",
       "      <td>15677338</td>\n",
       "      <td>619</td>\n",
       "      <td>42</td>\n",
       "      <td>2</td>\n",
       "      <td>-1.00</td>\n",
       "      <td>1</td>\n",
       "      <td>1</td>\n",
       "      <td>1</td>\n",
       "      <td>101348.88</td>\n",
       "      <td>1</td>\n",
       "      <td>1</td>\n",
       "      <td>0</td>\n",
       "      <td>0</td>\n",
       "      <td>0</td>\n",
       "      <td>1</td>\n",
       "      <td>2</td>\n",
       "    </tr>\n",
       "    <tr>\n",
       "      <th>1</th>\n",
       "      <td>15690047</td>\n",
       "      <td>608</td>\n",
       "      <td>41</td>\n",
       "      <td>1</td>\n",
       "      <td>83807.86</td>\n",
       "      <td>1</td>\n",
       "      <td>0</td>\n",
       "      <td>1</td>\n",
       "      <td>112542.58</td>\n",
       "      <td>0</td>\n",
       "      <td>1</td>\n",
       "      <td>0</td>\n",
       "      <td>0</td>\n",
       "      <td>1</td>\n",
       "      <td>0</td>\n",
       "      <td>2</td>\n",
       "    </tr>\n",
       "    <tr>\n",
       "      <th>2</th>\n",
       "      <td>15662040</td>\n",
       "      <td>502</td>\n",
       "      <td>42</td>\n",
       "      <td>8</td>\n",
       "      <td>159660.80</td>\n",
       "      <td>3</td>\n",
       "      <td>1</td>\n",
       "      <td>0</td>\n",
       "      <td>113931.57</td>\n",
       "      <td>1</td>\n",
       "      <td>1</td>\n",
       "      <td>0</td>\n",
       "      <td>0</td>\n",
       "      <td>0</td>\n",
       "      <td>1</td>\n",
       "      <td>2</td>\n",
       "    </tr>\n",
       "    <tr>\n",
       "      <th>3</th>\n",
       "      <td>15744090</td>\n",
       "      <td>699</td>\n",
       "      <td>39</td>\n",
       "      <td>1</td>\n",
       "      <td>-1.00</td>\n",
       "      <td>2</td>\n",
       "      <td>0</td>\n",
       "      <td>0</td>\n",
       "      <td>93826.63</td>\n",
       "      <td>0</td>\n",
       "      <td>1</td>\n",
       "      <td>0</td>\n",
       "      <td>0</td>\n",
       "      <td>0</td>\n",
       "      <td>1</td>\n",
       "      <td>2</td>\n",
       "    </tr>\n",
       "    <tr>\n",
       "      <th>4</th>\n",
       "      <td>15780624</td>\n",
       "      <td>850</td>\n",
       "      <td>43</td>\n",
       "      <td>2</td>\n",
       "      <td>125510.82</td>\n",
       "      <td>1</td>\n",
       "      <td>1</td>\n",
       "      <td>1</td>\n",
       "      <td>79084.10</td>\n",
       "      <td>0</td>\n",
       "      <td>1</td>\n",
       "      <td>0</td>\n",
       "      <td>0</td>\n",
       "      <td>1</td>\n",
       "      <td>0</td>\n",
       "      <td>2</td>\n",
       "    </tr>\n",
       "  </tbody>\n",
       "</table>\n",
       "</div>"
      ],
      "text/plain": [
       "     userid  score  age  objects    balance  products  creditcard  loyalty  \\\n",
       "0  15677338    619   42        2      -1.00         1           1        1   \n",
       "1  15690047    608   41        1   83807.86         1           0        1   \n",
       "2  15662040    502   42        8  159660.80         3           1        0   \n",
       "3  15744090    699   39        1      -1.00         2           0        0   \n",
       "4  15780624    850   43        2  125510.82         1           1        1   \n",
       "\n",
       "   estimated_salary  churn  gender_Ж  gender_М  city_Ростов Великий  \\\n",
       "0         101348.88      1         1         0                    0   \n",
       "1         112542.58      0         1         0                    0   \n",
       "2         113931.57      1         1         0                    0   \n",
       "3          93826.63      0         1         0                    0   \n",
       "4          79084.10      0         1         0                    0   \n",
       "\n",
       "   city_Рыбинск  city_Ярославль  age_group  \n",
       "0             0               1          2  \n",
       "1             1               0          2  \n",
       "2             0               1          2  \n",
       "3             0               1          2  \n",
       "4             1               0          2  "
      ]
     },
     "execution_count": 150,
     "metadata": {},
     "output_type": "execute_result"
    }
   ],
   "source": [
    "cat_data['age_group'] = 0\n",
    "for i in range(len(cat_data)):\n",
    "    if cat_data['age'][i] >= 18 and cat_data['age'][i] <= 33:\n",
    "        cat_data['age_group'][i] = 1\n",
    "    elif cat_data['age'][i] >= 34 and cat_data['age'][i] <= 49:\n",
    "        cat_data['age_group'][i] = 2\n",
    "    elif cat_data['age'][i] >= 50 and cat_data['age'][i] <= 65:\n",
    "        cat_data['age_group'][i] = 3\n",
    "    else:\n",
    "        cat_data['age_group'][i] = 4\n",
    "cat_data.head()"
   ]
  },
  {
   "cell_type": "markdown",
   "metadata": {},
   "source": [
    "В датасет были добавлены группы возраста:\n",
    "- 1 - с 18 до 33 лет\n",
    "- 2 - с 34 до 49 лет\n",
    "- 3 - с 50 до 65 лет\n",
    "- 4 - старше 65 лет"
   ]
  },
  {
   "cell_type": "code",
   "execution_count": 202,
   "metadata": {},
   "outputs": [
    {
     "data": {
      "text/html": [
       "<div>\n",
       "<style scoped>\n",
       "    .dataframe tbody tr th:only-of-type {\n",
       "        vertical-align: middle;\n",
       "    }\n",
       "\n",
       "    .dataframe tbody tr th {\n",
       "        vertical-align: top;\n",
       "    }\n",
       "\n",
       "    .dataframe thead th {\n",
       "        text-align: right;\n",
       "    }\n",
       "</style>\n",
       "<table border=\"1\" class=\"dataframe\">\n",
       "  <thead>\n",
       "    <tr style=\"text-align: right;\">\n",
       "      <th></th>\n",
       "      <th>Возрастная группа №</th>\n",
       "      <th>Ушло клиентов</th>\n",
       "      <th>Размер группы</th>\n",
       "      <th>Доля ушедших</th>\n",
       "      <th>Доля от общего числа ушедших</th>\n",
       "    </tr>\n",
       "  </thead>\n",
       "  <tbody>\n",
       "    <tr>\n",
       "      <th>0</th>\n",
       "      <td>1</td>\n",
       "      <td>257</td>\n",
       "      <td>3232</td>\n",
       "      <td>0.08</td>\n",
       "      <td>0.126</td>\n",
       "    </tr>\n",
       "    <tr>\n",
       "      <th>1</th>\n",
       "      <td>2</td>\n",
       "      <td>1146</td>\n",
       "      <td>5373</td>\n",
       "      <td>0.21</td>\n",
       "      <td>0.563</td>\n",
       "    </tr>\n",
       "    <tr>\n",
       "      <th>2</th>\n",
       "      <td>3</td>\n",
       "      <td>599</td>\n",
       "      <td>1131</td>\n",
       "      <td>0.53</td>\n",
       "      <td>0.294</td>\n",
       "    </tr>\n",
       "    <tr>\n",
       "      <th>3</th>\n",
       "      <td>4</td>\n",
       "      <td>35</td>\n",
       "      <td>264</td>\n",
       "      <td>0.13</td>\n",
       "      <td>0.017</td>\n",
       "    </tr>\n",
       "  </tbody>\n",
       "</table>\n",
       "</div>"
      ],
      "text/plain": [
       "   Возрастная группа №  Ушло клиентов  Размер группы  Доля ушедших  \\\n",
       "0                    1            257           3232          0.08   \n",
       "1                    2           1146           5373          0.21   \n",
       "2                    3            599           1131          0.53   \n",
       "3                    4             35            264          0.13   \n",
       "\n",
       "   Доля от общего числа ушедших  \n",
       "0                         0.126  \n",
       "1                         0.563  \n",
       "2                         0.294  \n",
       "3                         0.017  "
      ]
     },
     "execution_count": 202,
     "metadata": {},
     "output_type": "execute_result"
    }
   ],
   "source": [
    "tmp = cat_data.groupby('age_group',as_index=False).agg({'churn':'sum','age':'count'})\n",
    "tmp['perc'] = round(tmp['churn'] / tmp['age'],2)\n",
    "tmp['churn_overall'] = round(tmp['churn']/cat_data['churn'].sum(),3)\n",
    "tmp.columns=('Возрастная группа №','Ушло клиентов','Размер группы','Доля ушедших','Доля от общего числа ушедших')\n",
    "tmp"
   ]
  },
  {
   "cell_type": "markdown",
   "metadata": {},
   "source": [
    "<b>Вывод:</b> исходя из таблицы можно сделать вывод о том, что наиболее часто уходят клиенты в возрасте 34-49(более 50%)"
   ]
  },
  {
   "cell_type": "code",
   "execution_count": 203,
   "metadata": {},
   "outputs": [
    {
     "data": {
      "image/png": "[encoded data removed]",
      "text/plain": [
       "<Figure size 1000x500 with 1 Axes>"
      ]
     },
     "metadata": {},
     "output_type": "display_data"
    }
   ],
   "source": [
    "tmp.index = ['18-33 года','34-49 лет','50-65 лет','старше 65']\n",
    "tmp = tmp.sort_values(by='Доля от общего числа ушедших',ascending=False)\n",
    "\n",
    "tmp.plot(y='Доля от общего числа ушедших',kind='bar',figsize=(10,5))\n",
    "plt.xticks(rotation = 0)\n",
    "plt.show()"
   ]
  },
  {
   "cell_type": "code",
   "execution_count": 152,
   "metadata": {},
   "outputs": [
    {
     "data": {
      "image/png": "[encoded data removed]",
      "text/plain": [
       "<Figure size 1500x1000 with 1 Axes>"
      ]
     },
     "metadata": {},
     "output_type": "display_data"
    }
   ],
   "source": [
    "plt.figure(figsize=(15,10))\n",
    "sns.histplot(data=data, hue=\"churn\", x=\"balance\",stat=\"density\",common_norm=False,palette=\"flag\") \n",
    "plt.show()"
   ]
  },
  {
   "cell_type": "code",
   "execution_count": 161,
   "metadata": {},
   "outputs": [],
   "source": [
    "balance_data = cat_data\n",
    "balance_data = balance_data[balance_data['balance'] != -1].reset_index(drop=True)\n",
    "balance_data['balance_group'] = 0"
   ]
  },
  {
   "cell_type": "code",
   "execution_count": 162,
   "metadata": {},
   "outputs": [
    {
     "data": {
      "text/html": [
       "<div>\n",
       "<style scoped>\n",
       "    .dataframe tbody tr th:only-of-type {\n",
       "        vertical-align: middle;\n",
       "    }\n",
       "\n",
       "    .dataframe tbody tr th {\n",
       "        vertical-align: top;\n",
       "    }\n",
       "\n",
       "    .dataframe thead th {\n",
       "        text-align: right;\n",
       "    }\n",
       "</style>\n",
       "<table border=\"1\" class=\"dataframe\">\n",
       "  <thead>\n",
       "    <tr style=\"text-align: right;\">\n",
       "      <th></th>\n",
       "      <th>userid</th>\n",
       "      <th>score</th>\n",
       "      <th>age</th>\n",
       "      <th>objects</th>\n",
       "      <th>balance</th>\n",
       "      <th>products</th>\n",
       "      <th>creditcard</th>\n",
       "      <th>loyalty</th>\n",
       "      <th>estimated_salary</th>\n",
       "      <th>churn</th>\n",
       "      <th>gender_Ж</th>\n",
       "      <th>gender_М</th>\n",
       "      <th>city_Ростов Великий</th>\n",
       "      <th>city_Рыбинск</th>\n",
       "      <th>city_Ярославль</th>\n",
       "      <th>age_group</th>\n",
       "      <th>balance_group</th>\n",
       "    </tr>\n",
       "  </thead>\n",
       "  <tbody>\n",
       "    <tr>\n",
       "      <th>0</th>\n",
       "      <td>15690047</td>\n",
       "      <td>608</td>\n",
       "      <td>41</td>\n",
       "      <td>1</td>\n",
       "      <td>83807.86</td>\n",
       "      <td>1</td>\n",
       "      <td>0</td>\n",
       "      <td>1</td>\n",
       "      <td>112542.58</td>\n",
       "      <td>0</td>\n",
       "      <td>1</td>\n",
       "      <td>0</td>\n",
       "      <td>0</td>\n",
       "      <td>1</td>\n",
       "      <td>0</td>\n",
       "      <td>2</td>\n",
       "      <td>2</td>\n",
       "    </tr>\n",
       "    <tr>\n",
       "      <th>1</th>\n",
       "      <td>15662040</td>\n",
       "      <td>502</td>\n",
       "      <td>42</td>\n",
       "      <td>8</td>\n",
       "      <td>159660.80</td>\n",
       "      <td>3</td>\n",
       "      <td>1</td>\n",
       "      <td>0</td>\n",
       "      <td>113931.57</td>\n",
       "      <td>1</td>\n",
       "      <td>1</td>\n",
       "      <td>0</td>\n",
       "      <td>0</td>\n",
       "      <td>0</td>\n",
       "      <td>1</td>\n",
       "      <td>2</td>\n",
       "      <td>4</td>\n",
       "    </tr>\n",
       "    <tr>\n",
       "      <th>2</th>\n",
       "      <td>15780624</td>\n",
       "      <td>850</td>\n",
       "      <td>43</td>\n",
       "      <td>2</td>\n",
       "      <td>125510.82</td>\n",
       "      <td>1</td>\n",
       "      <td>1</td>\n",
       "      <td>1</td>\n",
       "      <td>79084.10</td>\n",
       "      <td>0</td>\n",
       "      <td>1</td>\n",
       "      <td>0</td>\n",
       "      <td>0</td>\n",
       "      <td>1</td>\n",
       "      <td>0</td>\n",
       "      <td>2</td>\n",
       "      <td>3</td>\n",
       "    </tr>\n",
       "    <tr>\n",
       "      <th>3</th>\n",
       "      <td>15616748</td>\n",
       "      <td>645</td>\n",
       "      <td>44</td>\n",
       "      <td>8</td>\n",
       "      <td>113755.78</td>\n",
       "      <td>2</td>\n",
       "      <td>1</td>\n",
       "      <td>0</td>\n",
       "      <td>149756.71</td>\n",
       "      <td>1</td>\n",
       "      <td>0</td>\n",
       "      <td>1</td>\n",
       "      <td>0</td>\n",
       "      <td>1</td>\n",
       "      <td>0</td>\n",
       "      <td>2</td>\n",
       "      <td>3</td>\n",
       "    </tr>\n",
       "    <tr>\n",
       "      <th>4</th>\n",
       "      <td>15698884</td>\n",
       "      <td>376</td>\n",
       "      <td>29</td>\n",
       "      <td>4</td>\n",
       "      <td>115046.74</td>\n",
       "      <td>4</td>\n",
       "      <td>1</td>\n",
       "      <td>0</td>\n",
       "      <td>119346.88</td>\n",
       "      <td>1</td>\n",
       "      <td>1</td>\n",
       "      <td>0</td>\n",
       "      <td>1</td>\n",
       "      <td>0</td>\n",
       "      <td>0</td>\n",
       "      <td>1</td>\n",
       "      <td>3</td>\n",
       "    </tr>\n",
       "  </tbody>\n",
       "</table>\n",
       "</div>"
      ],
      "text/plain": [
       "     userid  score  age  objects    balance  products  creditcard  loyalty  \\\n",
       "0  15690047    608   41        1   83807.86         1           0        1   \n",
       "1  15662040    502   42        8  159660.80         3           1        0   \n",
       "2  15780624    850   43        2  125510.82         1           1        1   \n",
       "3  15616748    645   44        8  113755.78         2           1        0   \n",
       "4  15698884    376   29        4  115046.74         4           1        0   \n",
       "\n",
       "   estimated_salary  churn  gender_Ж  gender_М  city_Ростов Великий  \\\n",
       "0         112542.58      0         1         0                    0   \n",
       "1         113931.57      1         1         0                    0   \n",
       "2          79084.10      0         1         0                    0   \n",
       "3         149756.71      1         0         1                    0   \n",
       "4         119346.88      1         1         0                    1   \n",
       "\n",
       "   city_Рыбинск  city_Ярославль  age_group  balance_group  \n",
       "0             1               0          2              2  \n",
       "1             0               1          2              4  \n",
       "2             1               0          2              3  \n",
       "3             1               0          2              3  \n",
       "4             0               0          1              3  "
      ]
     },
     "execution_count": 162,
     "metadata": {},
     "output_type": "execute_result"
    }
   ],
   "source": [
    "for i in range(len(balance_data)):\n",
    "    if balance_data['balance'][i] >= 0 and balance_data['balance'][i] <= 50000:\n",
    "        balance_data['balance_group'][i] = 1\n",
    "    elif balance_data['balance'][i] > 50000 and balance_data['balance'][i] <= 100000:\n",
    "        balance_data['balance_group'][i] = 2\n",
    "    elif balance_data['balance'][i] > 100000 and balance_data['balance'][i] <= 150000:\n",
    "        balance_data['balance_group'][i] = 3\n",
    "    elif balance_data['balance'][i] > 150000 and balance_data['balance'][i] <= 200000:\n",
    "        balance_data['balance_group'][i] = 4\n",
    "    else:\n",
    "        balance_data['balance_group'][i] = 5\n",
    "balance_data.head()"
   ]
  },
  {
   "cell_type": "markdown",
   "metadata": {},
   "source": [
    "В дата сет был добавлен столбец разделяющий его на группы по уровню баланса:\n",
    "- 1 - от 0 до 50000\n",
    "- 2 - от 50000 до 100000\n",
    "- 3 - от 100000 до 150000\n",
    "- 4 - от 150000 до 200000\n",
    "- 5 - более 200000"
   ]
  },
  {
   "cell_type": "code",
   "execution_count": 163,
   "metadata": {},
   "outputs": [
    {
     "data": {
      "text/html": [
       "<div>\n",
       "<style scoped>\n",
       "    .dataframe tbody tr th:only-of-type {\n",
       "        vertical-align: middle;\n",
       "    }\n",
       "\n",
       "    .dataframe tbody tr th {\n",
       "        vertical-align: top;\n",
       "    }\n",
       "\n",
       "    .dataframe thead th {\n",
       "        text-align: right;\n",
       "    }\n",
       "</style>\n",
       "<table border=\"1\" class=\"dataframe\">\n",
       "  <thead>\n",
       "    <tr style=\"text-align: right;\">\n",
       "      <th></th>\n",
       "      <th>Группа баланса №</th>\n",
       "      <th>Ушло клиентов</th>\n",
       "      <th>Размер группы</th>\n",
       "      <th>Доля ушедших</th>\n",
       "      <th>Доля от общего числа ушедших</th>\n",
       "    </tr>\n",
       "  </thead>\n",
       "  <tbody>\n",
       "    <tr>\n",
       "      <th>0</th>\n",
       "      <td>1</td>\n",
       "      <td>26</td>\n",
       "      <td>75</td>\n",
       "      <td>0.35</td>\n",
       "      <td>0.017</td>\n",
       "    </tr>\n",
       "    <tr>\n",
       "      <th>1</th>\n",
       "      <td>2</td>\n",
       "      <td>300</td>\n",
       "      <td>1509</td>\n",
       "      <td>0.20</td>\n",
       "      <td>0.195</td>\n",
       "    </tr>\n",
       "    <tr>\n",
       "      <th>2</th>\n",
       "      <td>3</td>\n",
       "      <td>987</td>\n",
       "      <td>3830</td>\n",
       "      <td>0.26</td>\n",
       "      <td>0.642</td>\n",
       "    </tr>\n",
       "    <tr>\n",
       "      <th>3</th>\n",
       "      <td>4</td>\n",
       "      <td>205</td>\n",
       "      <td>935</td>\n",
       "      <td>0.22</td>\n",
       "      <td>0.133</td>\n",
       "    </tr>\n",
       "    <tr>\n",
       "      <th>4</th>\n",
       "      <td>5</td>\n",
       "      <td>19</td>\n",
       "      <td>34</td>\n",
       "      <td>0.56</td>\n",
       "      <td>0.012</td>\n",
       "    </tr>\n",
       "  </tbody>\n",
       "</table>\n",
       "</div>"
      ],
      "text/plain": [
       "   Группа баланса №  Ушло клиентов  Размер группы  Доля ушедших  \\\n",
       "0                 1             26             75          0.35   \n",
       "1                 2            300           1509          0.20   \n",
       "2                 3            987           3830          0.26   \n",
       "3                 4            205            935          0.22   \n",
       "4                 5             19             34          0.56   \n",
       "\n",
       "   Доля от общего числа ушедших  \n",
       "0                         0.017  \n",
       "1                         0.195  \n",
       "2                         0.642  \n",
       "3                         0.133  \n",
       "4                         0.012  "
      ]
     },
     "execution_count": 163,
     "metadata": {},
     "output_type": "execute_result"
    }
   ],
   "source": [
    "tmp = balance_data.groupby('balance_group',as_index=False).agg({'churn':'sum','age':'count'})\n",
    "tmp['perc'] = round(tmp['churn'] / tmp['age'],2)\n",
    "tmp['churn_overall'] = round(tmp['churn']/balance_data['churn'].sum(),3)\n",
    "tmp.columns=('Группа баланса №','Ушло клиентов','Размер группы','Доля ушедших','Доля от общего числа ушедших')\n",
    "tmp"
   ]
  },
  {
   "cell_type": "markdown",
   "metadata": {},
   "source": [
    "<b>Вывод:</b> наибольший процент ухода клиентов с балансом более 200000, но в этой группе всего 34 клиента. Эту группу можно принять к сведению, но основной группой для изучения стоит взять группу 3(100-150к), процент ухода клиентов которой составляет 26%, при этом 64% из всех ушедших клиентов"
   ]
  },
  {
   "cell_type": "code",
   "execution_count": 176,
   "metadata": {},
   "outputs": [
    {
     "data": {
      "image/png": "[encoded data removed]",
      "text/plain": [
       "<Figure size 1000x1300 with 1 Axes>"
      ]
     },
     "metadata": {},
     "output_type": "display_data"
    }
   ],
   "source": [
    "tmp.index = ['0-50k','50-100k','100-150k','150-200k','200k+']\n",
    "tmp.plot(y='Доля от общего числа ушедших',kind='pie',figsize=(10,13))\n",
    "plt.show()"
   ]
  },
  {
   "cell_type": "code",
   "execution_count": 205,
   "metadata": {},
   "outputs": [
    {
     "data": {
      "text/html": [
       "<div>\n",
       "<style scoped>\n",
       "    .dataframe tbody tr th:only-of-type {\n",
       "        vertical-align: middle;\n",
       "    }\n",
       "\n",
       "    .dataframe tbody tr th {\n",
       "        vertical-align: top;\n",
       "    }\n",
       "\n",
       "    .dataframe thead th {\n",
       "        text-align: right;\n",
       "    }\n",
       "</style>\n",
       "<table border=\"1\" class=\"dataframe\">\n",
       "  <thead>\n",
       "    <tr style=\"text-align: right;\">\n",
       "      <th></th>\n",
       "      <th>Количество объектов</th>\n",
       "      <th>Размер группы</th>\n",
       "      <th>Ушло клиентов</th>\n",
       "      <th>Доля ушедших</th>\n",
       "      <th>Доля от общего числа ушедших</th>\n",
       "    </tr>\n",
       "  </thead>\n",
       "  <tbody>\n",
       "    <tr>\n",
       "      <th>0</th>\n",
       "      <td>0</td>\n",
       "      <td>413</td>\n",
       "      <td>95</td>\n",
       "      <td>0.23</td>\n",
       "      <td>0.047</td>\n",
       "    </tr>\n",
       "    <tr>\n",
       "      <th>1</th>\n",
       "      <td>1</td>\n",
       "      <td>1035</td>\n",
       "      <td>232</td>\n",
       "      <td>0.22</td>\n",
       "      <td>0.114</td>\n",
       "    </tr>\n",
       "    <tr>\n",
       "      <th>2</th>\n",
       "      <td>2</td>\n",
       "      <td>1048</td>\n",
       "      <td>201</td>\n",
       "      <td>0.19</td>\n",
       "      <td>0.099</td>\n",
       "    </tr>\n",
       "    <tr>\n",
       "      <th>3</th>\n",
       "      <td>3</td>\n",
       "      <td>1009</td>\n",
       "      <td>213</td>\n",
       "      <td>0.21</td>\n",
       "      <td>0.105</td>\n",
       "    </tr>\n",
       "    <tr>\n",
       "      <th>4</th>\n",
       "      <td>4</td>\n",
       "      <td>989</td>\n",
       "      <td>203</td>\n",
       "      <td>0.21</td>\n",
       "      <td>0.100</td>\n",
       "    </tr>\n",
       "    <tr>\n",
       "      <th>5</th>\n",
       "      <td>5</td>\n",
       "      <td>1012</td>\n",
       "      <td>209</td>\n",
       "      <td>0.21</td>\n",
       "      <td>0.103</td>\n",
       "    </tr>\n",
       "    <tr>\n",
       "      <th>6</th>\n",
       "      <td>6</td>\n",
       "      <td>967</td>\n",
       "      <td>196</td>\n",
       "      <td>0.20</td>\n",
       "      <td>0.096</td>\n",
       "    </tr>\n",
       "    <tr>\n",
       "      <th>7</th>\n",
       "      <td>7</td>\n",
       "      <td>1028</td>\n",
       "      <td>177</td>\n",
       "      <td>0.17</td>\n",
       "      <td>0.087</td>\n",
       "    </tr>\n",
       "    <tr>\n",
       "      <th>8</th>\n",
       "      <td>8</td>\n",
       "      <td>1025</td>\n",
       "      <td>197</td>\n",
       "      <td>0.19</td>\n",
       "      <td>0.097</td>\n",
       "    </tr>\n",
       "    <tr>\n",
       "      <th>9</th>\n",
       "      <td>9</td>\n",
       "      <td>984</td>\n",
       "      <td>213</td>\n",
       "      <td>0.22</td>\n",
       "      <td>0.105</td>\n",
       "    </tr>\n",
       "    <tr>\n",
       "      <th>10</th>\n",
       "      <td>10</td>\n",
       "      <td>490</td>\n",
       "      <td>101</td>\n",
       "      <td>0.21</td>\n",
       "      <td>0.050</td>\n",
       "    </tr>\n",
       "  </tbody>\n",
       "</table>\n",
       "</div>"
      ],
      "text/plain": [
       "    Количество объектов  Размер группы  Ушло клиентов  Доля ушедших  \\\n",
       "0                     0            413             95          0.23   \n",
       "1                     1           1035            232          0.22   \n",
       "2                     2           1048            201          0.19   \n",
       "3                     3           1009            213          0.21   \n",
       "4                     4            989            203          0.21   \n",
       "5                     5           1012            209          0.21   \n",
       "6                     6            967            196          0.20   \n",
       "7                     7           1028            177          0.17   \n",
       "8                     8           1025            197          0.19   \n",
       "9                     9            984            213          0.22   \n",
       "10                   10            490            101          0.21   \n",
       "\n",
       "    Доля от общего числа ушедших  \n",
       "0                          0.047  \n",
       "1                          0.114  \n",
       "2                          0.099  \n",
       "3                          0.105  \n",
       "4                          0.100  \n",
       "5                          0.103  \n",
       "6                          0.096  \n",
       "7                          0.087  \n",
       "8                          0.097  \n",
       "9                          0.105  \n",
       "10                         0.050  "
      ]
     },
     "execution_count": 205,
     "metadata": {},
     "output_type": "execute_result"
    }
   ],
   "source": [
    "tmp = cat_data.groupby('objects',as_index=False).agg({'age':'count','churn':'sum'})\n",
    "tmp['perc_of_churn'] = round(tmp['churn']/tmp['age'],2)\n",
    "tmp['churn_overall'] = round(tmp['churn']/cat_data['churn'].sum(),3)\n",
    "tmp.columns=('Количество объектов','Размер группы','Ушло клиентов','Доля ушедших','Доля от общего числа ушедших')\n",
    "tmp"
   ]
  },
  {
   "cell_type": "markdown",
   "metadata": {},
   "source": [
    "<b>Вывод: </b>Самый большой процент ухода у клиентов без объектов в собственности, при делении по группам, но эта группа слишком мала, а значит не репрезентативна. Для изучения будет браться группа с 1 объектом собственности т.к. процент ухода по группам у нее 22%, а так же 11% от всех ушедших клиентов"
   ]
  },
  {
   "cell_type": "code",
   "execution_count": 206,
   "metadata": {},
   "outputs": [
    {
     "data": {
      "image/png": "[encoded data removed]",
      "text/plain": [
       "<Figure size 1000x500 with 1 Axes>"
      ]
     },
     "metadata": {},
     "output_type": "display_data"
    }
   ],
   "source": [
    "tmp = tmp.sort_values(by='Доля от общего числа ушедших',ascending=False)\n",
    "tmp.plot(y='Доля от общего числа ушедших',kind='bar',figsize=(10,5))\n",
    "plt.xticks(rotation = 0)\n",
    "plt.show()"
   ]
  },
  {
   "cell_type": "code",
   "execution_count": 212,
   "metadata": {},
   "outputs": [
    {
     "data": {
      "text/html": [
       "<div>\n",
       "<style scoped>\n",
       "    .dataframe tbody tr th:only-of-type {\n",
       "        vertical-align: middle;\n",
       "    }\n",
       "\n",
       "    .dataframe tbody tr th {\n",
       "        vertical-align: top;\n",
       "    }\n",
       "\n",
       "    .dataframe thead th {\n",
       "        text-align: right;\n",
       "    }\n",
       "</style>\n",
       "<table border=\"1\" class=\"dataframe\">\n",
       "  <thead>\n",
       "    <tr style=\"text-align: right;\">\n",
       "      <th></th>\n",
       "      <th>Количество продуктов</th>\n",
       "      <th>Размер группы</th>\n",
       "      <th>Ушло клиентов</th>\n",
       "      <th>Доля ушедших</th>\n",
       "      <th>Доля от общего числа ушедших</th>\n",
       "    </tr>\n",
       "  </thead>\n",
       "  <tbody>\n",
       "    <tr>\n",
       "      <th>0</th>\n",
       "      <td>1</td>\n",
       "      <td>5084</td>\n",
       "      <td>1409</td>\n",
       "      <td>0.28</td>\n",
       "      <td>0.692</td>\n",
       "    </tr>\n",
       "    <tr>\n",
       "      <th>1</th>\n",
       "      <td>2</td>\n",
       "      <td>4590</td>\n",
       "      <td>348</td>\n",
       "      <td>0.08</td>\n",
       "      <td>0.171</td>\n",
       "    </tr>\n",
       "    <tr>\n",
       "      <th>2</th>\n",
       "      <td>3</td>\n",
       "      <td>266</td>\n",
       "      <td>220</td>\n",
       "      <td>0.83</td>\n",
       "      <td>0.108</td>\n",
       "    </tr>\n",
       "    <tr>\n",
       "      <th>3</th>\n",
       "      <td>4</td>\n",
       "      <td>60</td>\n",
       "      <td>60</td>\n",
       "      <td>1.00</td>\n",
       "      <td>0.029</td>\n",
       "    </tr>\n",
       "  </tbody>\n",
       "</table>\n",
       "</div>"
      ],
      "text/plain": [
       "   Количество продуктов  Размер группы  Ушло клиентов  Доля ушедших  \\\n",
       "0                     1           5084           1409          0.28   \n",
       "1                     2           4590            348          0.08   \n",
       "2                     3            266            220          0.83   \n",
       "3                     4             60             60          1.00   \n",
       "\n",
       "   Доля от общего числа ушедших  \n",
       "0                         0.692  \n",
       "1                         0.171  \n",
       "2                         0.108  \n",
       "3                         0.029  "
      ]
     },
     "execution_count": 212,
     "metadata": {},
     "output_type": "execute_result"
    }
   ],
   "source": [
    "tmp = cat_data.groupby('products',as_index=False).agg({'age':'count','churn':'sum'})\n",
    "tmp['perc of churn'] = round(tmp['churn']/tmp['age'],2)\n",
    "tmp['churn_overall'] = round(tmp['churn']/cat_data['churn'].sum(),3)\n",
    "tmp.columns=('Количество продуктов','Размер группы','Ушло клиентов','Доля ушедших','Доля от общего числа ушедших')\n",
    "tmp"
   ]
  },
  {
   "cell_type": "markdown",
   "metadata": {},
   "source": [
    "<b>Вывод:</b> Чаще всего уходят люди(100%), у которых 4 продукта, но эта группа крайне мала(60 чел), можно принять эту группу к сведению. У наибольшего числа ушедших клиентов(70% от общего числа ушедших) был подключен всего 1 продукт. "
   ]
  },
  {
   "cell_type": "code",
   "execution_count": 211,
   "metadata": {},
   "outputs": [
    {
     "data": {
      "image/png": "[encoded data removed]",
      "text/plain": [
       "<Figure size 1000x1300 with 1 Axes>"
      ]
     },
     "metadata": {},
     "output_type": "display_data"
    }
   ],
   "source": [
    "tmp.index = ['1 продукт','2 продукта','3 продукта','4 продукта']\n",
    "tmp.plot(y='Доля от общего числа ушедших',kind='pie',figsize=(10,13))\n",
    "plt.show()"
   ]
  },
  {
   "cell_type": "code",
   "execution_count": 119,
   "metadata": {},
   "outputs": [
    {
     "data": {
      "image/png": "[encoded data removed]",
      "text/plain": [
       "<Figure size 1500x1000 with 1 Axes>"
      ]
     },
     "metadata": {},
     "output_type": "display_data"
    }
   ],
   "source": [
    "plt.figure(figsize=(15,10))\n",
    "sns.histplot(data=cat_data, hue=\"churn\", x=\"score\",stat=\"density\",common_norm=False,palette=\"flag\") \n",
    "plt.show()"
   ]
  },
  {
   "cell_type": "code",
   "execution_count": 214,
   "metadata": {},
   "outputs": [
    {
     "data": {
      "text/html": [
       "<div>\n",
       "<style scoped>\n",
       "    .dataframe tbody tr th:only-of-type {\n",
       "        vertical-align: middle;\n",
       "    }\n",
       "\n",
       "    .dataframe tbody tr th {\n",
       "        vertical-align: top;\n",
       "    }\n",
       "\n",
       "    .dataframe thead th {\n",
       "        text-align: right;\n",
       "    }\n",
       "</style>\n",
       "<table border=\"1\" class=\"dataframe\">\n",
       "  <thead>\n",
       "    <tr style=\"text-align: right;\">\n",
       "      <th></th>\n",
       "      <th>userid</th>\n",
       "      <th>score</th>\n",
       "      <th>age</th>\n",
       "      <th>objects</th>\n",
       "      <th>balance</th>\n",
       "      <th>products</th>\n",
       "      <th>creditcard</th>\n",
       "      <th>loyalty</th>\n",
       "      <th>estimated_salary</th>\n",
       "      <th>churn</th>\n",
       "      <th>gender_Ж</th>\n",
       "      <th>gender_М</th>\n",
       "      <th>city_Ростов Великий</th>\n",
       "      <th>city_Рыбинск</th>\n",
       "      <th>city_Ярославль</th>\n",
       "      <th>age_group</th>\n",
       "      <th>score_group</th>\n",
       "    </tr>\n",
       "  </thead>\n",
       "  <tbody>\n",
       "    <tr>\n",
       "      <th>0</th>\n",
       "      <td>15677338</td>\n",
       "      <td>619</td>\n",
       "      <td>42</td>\n",
       "      <td>2</td>\n",
       "      <td>-1.00</td>\n",
       "      <td>1</td>\n",
       "      <td>1</td>\n",
       "      <td>1</td>\n",
       "      <td>101348.88</td>\n",
       "      <td>1</td>\n",
       "      <td>1</td>\n",
       "      <td>0</td>\n",
       "      <td>0</td>\n",
       "      <td>0</td>\n",
       "      <td>1</td>\n",
       "      <td>2</td>\n",
       "      <td>3</td>\n",
       "    </tr>\n",
       "    <tr>\n",
       "      <th>1</th>\n",
       "      <td>15690047</td>\n",
       "      <td>608</td>\n",
       "      <td>41</td>\n",
       "      <td>1</td>\n",
       "      <td>83807.86</td>\n",
       "      <td>1</td>\n",
       "      <td>0</td>\n",
       "      <td>1</td>\n",
       "      <td>112542.58</td>\n",
       "      <td>0</td>\n",
       "      <td>1</td>\n",
       "      <td>0</td>\n",
       "      <td>0</td>\n",
       "      <td>1</td>\n",
       "      <td>0</td>\n",
       "      <td>2</td>\n",
       "      <td>3</td>\n",
       "    </tr>\n",
       "    <tr>\n",
       "      <th>2</th>\n",
       "      <td>15662040</td>\n",
       "      <td>502</td>\n",
       "      <td>42</td>\n",
       "      <td>8</td>\n",
       "      <td>159660.80</td>\n",
       "      <td>3</td>\n",
       "      <td>1</td>\n",
       "      <td>0</td>\n",
       "      <td>113931.57</td>\n",
       "      <td>1</td>\n",
       "      <td>1</td>\n",
       "      <td>0</td>\n",
       "      <td>0</td>\n",
       "      <td>0</td>\n",
       "      <td>1</td>\n",
       "      <td>2</td>\n",
       "      <td>2</td>\n",
       "    </tr>\n",
       "    <tr>\n",
       "      <th>3</th>\n",
       "      <td>15744090</td>\n",
       "      <td>699</td>\n",
       "      <td>39</td>\n",
       "      <td>1</td>\n",
       "      <td>-1.00</td>\n",
       "      <td>2</td>\n",
       "      <td>0</td>\n",
       "      <td>0</td>\n",
       "      <td>93826.63</td>\n",
       "      <td>0</td>\n",
       "      <td>1</td>\n",
       "      <td>0</td>\n",
       "      <td>0</td>\n",
       "      <td>0</td>\n",
       "      <td>1</td>\n",
       "      <td>2</td>\n",
       "      <td>3</td>\n",
       "    </tr>\n",
       "    <tr>\n",
       "      <th>4</th>\n",
       "      <td>15780624</td>\n",
       "      <td>850</td>\n",
       "      <td>43</td>\n",
       "      <td>2</td>\n",
       "      <td>125510.82</td>\n",
       "      <td>1</td>\n",
       "      <td>1</td>\n",
       "      <td>1</td>\n",
       "      <td>79084.10</td>\n",
       "      <td>0</td>\n",
       "      <td>1</td>\n",
       "      <td>0</td>\n",
       "      <td>0</td>\n",
       "      <td>1</td>\n",
       "      <td>0</td>\n",
       "      <td>2</td>\n",
       "      <td>4</td>\n",
       "    </tr>\n",
       "  </tbody>\n",
       "</table>\n",
       "</div>"
      ],
      "text/plain": [
       "     userid  score  age  objects    balance  products  creditcard  loyalty  \\\n",
       "0  15677338    619   42        2      -1.00         1           1        1   \n",
       "1  15690047    608   41        1   83807.86         1           0        1   \n",
       "2  15662040    502   42        8  159660.80         3           1        0   \n",
       "3  15744090    699   39        1      -1.00         2           0        0   \n",
       "4  15780624    850   43        2  125510.82         1           1        1   \n",
       "\n",
       "   estimated_salary  churn  gender_Ж  gender_М  city_Ростов Великий  \\\n",
       "0         101348.88      1         1         0                    0   \n",
       "1         112542.58      0         1         0                    0   \n",
       "2         113931.57      1         1         0                    0   \n",
       "3          93826.63      0         1         0                    0   \n",
       "4          79084.10      0         1         0                    0   \n",
       "\n",
       "   city_Рыбинск  city_Ярославль  age_group  score_group  \n",
       "0             0               1          2            3  \n",
       "1             1               0          2            3  \n",
       "2             0               1          2            2  \n",
       "3             0               1          2            3  \n",
       "4             1               0          2            4  "
      ]
     },
     "execution_count": 214,
     "metadata": {},
     "output_type": "execute_result"
    }
   ],
   "source": [
    "cat_data['score_group'] = 0\n",
    "for i in range(len(cat_data)):\n",
    "    if cat_data['score'][i] >= 0 and cat_data['score'][i] <= 350:\n",
    "        cat_data['score_group'][i] = 1\n",
    "    elif cat_data['score'][i] > 350 and cat_data['score'][i] <= 550:\n",
    "        cat_data['score_group'][i] = 2\n",
    "    elif cat_data['score'][i] > 550 and cat_data['score'][i] <= 800:\n",
    "        cat_data['score_group'][i] = 3\n",
    "    else:\n",
    "        cat_data['score_group'][i] = 4\n",
    "cat_data.head()"
   ]
  },
  {
   "cell_type": "markdown",
   "metadata": {},
   "source": [
    "В дата сет был добавлен столбец разделяющий его на группы по уровню кредитных очков:\n",
    "- 1 - от 0 до 350\n",
    "- 2 - от 351 до 550\n",
    "- 3 - от 551 до 800\n",
    "- 4 - более 800"
   ]
  },
  {
   "cell_type": "code",
   "execution_count": 220,
   "metadata": {},
   "outputs": [
    {
     "data": {
      "text/html": [
       "<div>\n",
       "<style scoped>\n",
       "    .dataframe tbody tr th:only-of-type {\n",
       "        vertical-align: middle;\n",
       "    }\n",
       "\n",
       "    .dataframe tbody tr th {\n",
       "        vertical-align: top;\n",
       "    }\n",
       "\n",
       "    .dataframe thead th {\n",
       "        text-align: right;\n",
       "    }\n",
       "</style>\n",
       "<table border=\"1\" class=\"dataframe\">\n",
       "  <thead>\n",
       "    <tr style=\"text-align: right;\">\n",
       "      <th></th>\n",
       "      <th>Кредитная группа №</th>\n",
       "      <th>Размер группы</th>\n",
       "      <th>Ушло клиентов</th>\n",
       "      <th>Доля ушедших</th>\n",
       "      <th>Доля от общего числа ушедших</th>\n",
       "    </tr>\n",
       "  </thead>\n",
       "  <tbody>\n",
       "    <tr>\n",
       "      <th>0</th>\n",
       "      <td>1</td>\n",
       "      <td>5</td>\n",
       "      <td>5</td>\n",
       "      <td>1.00</td>\n",
       "      <td>0.002</td>\n",
       "    </tr>\n",
       "    <tr>\n",
       "      <th>1</th>\n",
       "      <td>2</td>\n",
       "      <td>1616</td>\n",
       "      <td>363</td>\n",
       "      <td>0.22</td>\n",
       "      <td>0.178</td>\n",
       "    </tr>\n",
       "    <tr>\n",
       "      <th>2</th>\n",
       "      <td>3</td>\n",
       "      <td>7734</td>\n",
       "      <td>1542</td>\n",
       "      <td>0.20</td>\n",
       "      <td>0.757</td>\n",
       "    </tr>\n",
       "    <tr>\n",
       "      <th>3</th>\n",
       "      <td>4</td>\n",
       "      <td>645</td>\n",
       "      <td>127</td>\n",
       "      <td>0.20</td>\n",
       "      <td>0.062</td>\n",
       "    </tr>\n",
       "  </tbody>\n",
       "</table>\n",
       "</div>"
      ],
      "text/plain": [
       "   Кредитная группа №  Размер группы  Ушло клиентов  Доля ушедших  \\\n",
       "0                   1              5              5          1.00   \n",
       "1                   2           1616            363          0.22   \n",
       "2                   3           7734           1542          0.20   \n",
       "3                   4            645            127          0.20   \n",
       "\n",
       "   Доля от общего числа ушедших  \n",
       "0                         0.002  \n",
       "1                         0.178  \n",
       "2                         0.757  \n",
       "3                         0.062  "
      ]
     },
     "execution_count": 220,
     "metadata": {},
     "output_type": "execute_result"
    }
   ],
   "source": [
    "tmp = cat_data.groupby('score_group',as_index=False).agg({'age':'count','churn':'sum'})\n",
    "tmp['perc of churn'] = round(tmp['churn']/tmp['age'],2)\n",
    "tmp['churn_overall'] = round(tmp['churn']/cat_data['churn'].sum(),3)\n",
    "tmp.columns=('Кредитная группа №','Размер группы','Ушло клиентов','Доля ушедших','Доля от общего числа ушедших')\n",
    "tmp"
   ]
  },
  {
   "cell_type": "markdown",
   "metadata": {},
   "source": [
    "<b>Вывод:</b> Больше всего ушедших относительно общего количества ушедших клиентов(75%) имели количество кредитных очков от 551 до 800. "
   ]
  },
  {
   "cell_type": "code",
   "execution_count": 221,
   "metadata": {},
   "outputs": [
    {
     "data": {
      "image/png": "[encoded data removed]",
      "text/plain": [
       "<Figure size 1000x500 with 1 Axes>"
      ]
     },
     "metadata": {},
     "output_type": "display_data"
    }
   ],
   "source": [
    "tmp.index = ['0-350 очков','351-550 очков','551-800 очков','свыше 800 очков']\n",
    "\n",
    "tmp = tmp.sort_values(by='Доля от общего числа ушедших',ascending=False)\n",
    "tmp.plot(y='Доля от общего числа ушедших',kind='bar',figsize=(10,5))\n",
    "plt.xticks(rotation = 0)\n",
    "plt.show()"
   ]
  },
  {
   "cell_type": "code",
   "execution_count": 122,
   "metadata": {},
   "outputs": [
    {
     "data": {
      "image/png": "[encoded data removed]",
      "text/plain": [
       "<Figure size 1500x1000 with 1 Axes>"
      ]
     },
     "metadata": {},
     "output_type": "display_data"
    }
   ],
   "source": [
    "plt.figure(figsize=(15,10))\n",
    "sns.histplot(data=cat_data, hue=\"churn\", x=\"estimated_salary\",stat=\"density\",common_norm=False,palette=\"flag\") \n",
    "plt.show()"
   ]
  },
  {
   "cell_type": "code",
   "execution_count": 223,
   "metadata": {},
   "outputs": [
    {
     "data": {
      "text/html": [
       "<div>\n",
       "<style scoped>\n",
       "    .dataframe tbody tr th:only-of-type {\n",
       "        vertical-align: middle;\n",
       "    }\n",
       "\n",
       "    .dataframe tbody tr th {\n",
       "        vertical-align: top;\n",
       "    }\n",
       "\n",
       "    .dataframe thead th {\n",
       "        text-align: right;\n",
       "    }\n",
       "</style>\n",
       "<table border=\"1\" class=\"dataframe\">\n",
       "  <thead>\n",
       "    <tr style=\"text-align: right;\">\n",
       "      <th></th>\n",
       "      <th>userid</th>\n",
       "      <th>score</th>\n",
       "      <th>age</th>\n",
       "      <th>objects</th>\n",
       "      <th>balance</th>\n",
       "      <th>products</th>\n",
       "      <th>creditcard</th>\n",
       "      <th>loyalty</th>\n",
       "      <th>estimated_salary</th>\n",
       "      <th>churn</th>\n",
       "      <th>gender_Ж</th>\n",
       "      <th>gender_М</th>\n",
       "      <th>city_Ростов Великий</th>\n",
       "      <th>city_Рыбинск</th>\n",
       "      <th>city_Ярославль</th>\n",
       "      <th>age_group</th>\n",
       "      <th>score_group</th>\n",
       "      <th>salary_group</th>\n",
       "    </tr>\n",
       "  </thead>\n",
       "  <tbody>\n",
       "    <tr>\n",
       "      <th>0</th>\n",
       "      <td>15677338</td>\n",
       "      <td>619</td>\n",
       "      <td>42</td>\n",
       "      <td>2</td>\n",
       "      <td>-1.00</td>\n",
       "      <td>1</td>\n",
       "      <td>1</td>\n",
       "      <td>1</td>\n",
       "      <td>101348.88</td>\n",
       "      <td>1</td>\n",
       "      <td>1</td>\n",
       "      <td>0</td>\n",
       "      <td>0</td>\n",
       "      <td>0</td>\n",
       "      <td>1</td>\n",
       "      <td>2</td>\n",
       "      <td>3</td>\n",
       "      <td>3</td>\n",
       "    </tr>\n",
       "    <tr>\n",
       "      <th>1</th>\n",
       "      <td>15690047</td>\n",
       "      <td>608</td>\n",
       "      <td>41</td>\n",
       "      <td>1</td>\n",
       "      <td>83807.86</td>\n",
       "      <td>1</td>\n",
       "      <td>0</td>\n",
       "      <td>1</td>\n",
       "      <td>112542.58</td>\n",
       "      <td>0</td>\n",
       "      <td>1</td>\n",
       "      <td>0</td>\n",
       "      <td>0</td>\n",
       "      <td>1</td>\n",
       "      <td>0</td>\n",
       "      <td>2</td>\n",
       "      <td>3</td>\n",
       "      <td>3</td>\n",
       "    </tr>\n",
       "    <tr>\n",
       "      <th>2</th>\n",
       "      <td>15662040</td>\n",
       "      <td>502</td>\n",
       "      <td>42</td>\n",
       "      <td>8</td>\n",
       "      <td>159660.80</td>\n",
       "      <td>3</td>\n",
       "      <td>1</td>\n",
       "      <td>0</td>\n",
       "      <td>113931.57</td>\n",
       "      <td>1</td>\n",
       "      <td>1</td>\n",
       "      <td>0</td>\n",
       "      <td>0</td>\n",
       "      <td>0</td>\n",
       "      <td>1</td>\n",
       "      <td>2</td>\n",
       "      <td>2</td>\n",
       "      <td>3</td>\n",
       "    </tr>\n",
       "    <tr>\n",
       "      <th>3</th>\n",
       "      <td>15744090</td>\n",
       "      <td>699</td>\n",
       "      <td>39</td>\n",
       "      <td>1</td>\n",
       "      <td>-1.00</td>\n",
       "      <td>2</td>\n",
       "      <td>0</td>\n",
       "      <td>0</td>\n",
       "      <td>93826.63</td>\n",
       "      <td>0</td>\n",
       "      <td>1</td>\n",
       "      <td>0</td>\n",
       "      <td>0</td>\n",
       "      <td>0</td>\n",
       "      <td>1</td>\n",
       "      <td>2</td>\n",
       "      <td>3</td>\n",
       "      <td>2</td>\n",
       "    </tr>\n",
       "    <tr>\n",
       "      <th>4</th>\n",
       "      <td>15780624</td>\n",
       "      <td>850</td>\n",
       "      <td>43</td>\n",
       "      <td>2</td>\n",
       "      <td>125510.82</td>\n",
       "      <td>1</td>\n",
       "      <td>1</td>\n",
       "      <td>1</td>\n",
       "      <td>79084.10</td>\n",
       "      <td>0</td>\n",
       "      <td>1</td>\n",
       "      <td>0</td>\n",
       "      <td>0</td>\n",
       "      <td>1</td>\n",
       "      <td>0</td>\n",
       "      <td>2</td>\n",
       "      <td>4</td>\n",
       "      <td>2</td>\n",
       "    </tr>\n",
       "  </tbody>\n",
       "</table>\n",
       "</div>"
      ],
      "text/plain": [
       "     userid  score  age  objects    balance  products  creditcard  loyalty  \\\n",
       "0  15677338    619   42        2      -1.00         1           1        1   \n",
       "1  15690047    608   41        1   83807.86         1           0        1   \n",
       "2  15662040    502   42        8  159660.80         3           1        0   \n",
       "3  15744090    699   39        1      -1.00         2           0        0   \n",
       "4  15780624    850   43        2  125510.82         1           1        1   \n",
       "\n",
       "   estimated_salary  churn  gender_Ж  gender_М  city_Ростов Великий  \\\n",
       "0         101348.88      1         1         0                    0   \n",
       "1         112542.58      0         1         0                    0   \n",
       "2         113931.57      1         1         0                    0   \n",
       "3          93826.63      0         1         0                    0   \n",
       "4          79084.10      0         1         0                    0   \n",
       "\n",
       "   city_Рыбинск  city_Ярославль  age_group  score_group  salary_group  \n",
       "0             0               1          2            3             3  \n",
       "1             1               0          2            3             3  \n",
       "2             0               1          2            2             3  \n",
       "3             0               1          2            3             2  \n",
       "4             1               0          2            4             2  "
      ]
     },
     "execution_count": 223,
     "metadata": {},
     "output_type": "execute_result"
    }
   ],
   "source": [
    "cat_data['salary_group'] = 0\n",
    "for i in range(len(cat_data)):\n",
    "    if cat_data['estimated_salary'][i] >= 0 and cat_data['estimated_salary'][i] <= 50000:\n",
    "        cat_data['salary_group'][i] = 1\n",
    "    elif cat_data['estimated_salary'][i] > 50000 and cat_data['estimated_salary'][i] <= 100000:\n",
    "        cat_data['salary_group'][i] = 2\n",
    "    elif cat_data['estimated_salary'][i] > 100000 and cat_data['estimated_salary'][i] <= 150000:\n",
    "        cat_data['salary_group'][i] = 3\n",
    "    elif cat_data['estimated_salary'][i] > 150000 and cat_data['estimated_salary'][i] <= 200000:\n",
    "        cat_data['salary_group'][i] = 4\n",
    "    else:\n",
    "        cat_data['salary_group'][i] = 5\n",
    "cat_data.head()"
   ]
  },
  {
   "cell_type": "markdown",
   "metadata": {},
   "source": [
    "В дата сет был добавлен столбец разделяющий его на группы по уровню зар.плат:\n",
    "- 1 - от 0 до 50к\n",
    "- 2 - от 50к до 100к\n",
    "- 3 - от 100к до 150к\n",
    "- 4 - от 150к до 200к"
   ]
  },
  {
   "cell_type": "code",
   "execution_count": 224,
   "metadata": {},
   "outputs": [
    {
     "data": {
      "text/html": [
       "<div>\n",
       "<style scoped>\n",
       "    .dataframe tbody tr th:only-of-type {\n",
       "        vertical-align: middle;\n",
       "    }\n",
       "\n",
       "    .dataframe tbody tr th {\n",
       "        vertical-align: top;\n",
       "    }\n",
       "\n",
       "    .dataframe thead th {\n",
       "        text-align: right;\n",
       "    }\n",
       "</style>\n",
       "<table border=\"1\" class=\"dataframe\">\n",
       "  <thead>\n",
       "    <tr style=\"text-align: right;\">\n",
       "      <th></th>\n",
       "      <th>Зар.платная группа №</th>\n",
       "      <th>Размер группы</th>\n",
       "      <th>Ушло клиентов</th>\n",
       "      <th>Доля ушедших</th>\n",
       "      <th>Доля от общего числа ушедших</th>\n",
       "    </tr>\n",
       "  </thead>\n",
       "  <tbody>\n",
       "    <tr>\n",
       "      <th>0</th>\n",
       "      <td>1</td>\n",
       "      <td>2453</td>\n",
       "      <td>489</td>\n",
       "      <td>0.20</td>\n",
       "      <td>0.240</td>\n",
       "    </tr>\n",
       "    <tr>\n",
       "      <th>1</th>\n",
       "      <td>2</td>\n",
       "      <td>2537</td>\n",
       "      <td>504</td>\n",
       "      <td>0.20</td>\n",
       "      <td>0.247</td>\n",
       "    </tr>\n",
       "    <tr>\n",
       "      <th>2</th>\n",
       "      <td>3</td>\n",
       "      <td>2555</td>\n",
       "      <td>517</td>\n",
       "      <td>0.20</td>\n",
       "      <td>0.254</td>\n",
       "    </tr>\n",
       "    <tr>\n",
       "      <th>3</th>\n",
       "      <td>4</td>\n",
       "      <td>2455</td>\n",
       "      <td>527</td>\n",
       "      <td>0.21</td>\n",
       "      <td>0.259</td>\n",
       "    </tr>\n",
       "  </tbody>\n",
       "</table>\n",
       "</div>"
      ],
      "text/plain": [
       "   Зар.платная группа №  Размер группы  Ушло клиентов  Доля ушедших  \\\n",
       "0                     1           2453            489          0.20   \n",
       "1                     2           2537            504          0.20   \n",
       "2                     3           2555            517          0.20   \n",
       "3                     4           2455            527          0.21   \n",
       "\n",
       "   Доля от общего числа ушедших  \n",
       "0                         0.240  \n",
       "1                         0.247  \n",
       "2                         0.254  \n",
       "3                         0.259  "
      ]
     },
     "execution_count": 224,
     "metadata": {},
     "output_type": "execute_result"
    }
   ],
   "source": [
    "tmp = cat_data.groupby('salary_group',as_index=False).agg({'age':'count','churn':'sum'})\n",
    "tmp['perc of churn'] = round(tmp['churn']/tmp['age'],2)\n",
    "tmp['churn_overall'] = round(tmp['churn']/cat_data['churn'].sum(),3)\n",
    "tmp.columns=('Зар.платная группа №','Размер группы','Ушло клиентов','Доля ушедших','Доля от общего числа ушедших')\n",
    "tmp"
   ]
  },
  {
   "cell_type": "markdown",
   "metadata": {},
   "source": [
    "<b>Вывод: </b> из графика, как и из разбивки по группам видно, что зар.плата клиента никак не влияет на вероятность его ухода"
   ]
  },
  {
   "cell_type": "code",
   "execution_count": 226,
   "metadata": {},
   "outputs": [
    {
     "data": {
      "image/png": "[encoded data removed]",
      "text/plain": [
       "<Figure size 1000x500 with 1 Axes>"
      ]
     },
     "metadata": {},
     "output_type": "display_data"
    }
   ],
   "source": [
    "tmp.index = ['0-50к','50-100к','100-150к','150-200к']\n",
    "\n",
    "tmp = tmp.sort_values(by='Доля от общего числа ушедших',ascending=False)\n",
    "tmp.plot(y='Доля от общего числа ушедших',kind='bar',figsize=(10,5))\n",
    "plt.xticks(rotation = 0)\n",
    "plt.show()"
   ]
  },
  {
   "cell_type": "code",
   "execution_count": 228,
   "metadata": {},
   "outputs": [
    {
     "data": {
      "text/html": [
       "<div>\n",
       "<style scoped>\n",
       "    .dataframe tbody tr th:only-of-type {\n",
       "        vertical-align: middle;\n",
       "    }\n",
       "\n",
       "    .dataframe tbody tr th {\n",
       "        vertical-align: top;\n",
       "    }\n",
       "\n",
       "    .dataframe thead th {\n",
       "        text-align: right;\n",
       "    }\n",
       "</style>\n",
       "<table border=\"1\" class=\"dataframe\">\n",
       "  <thead>\n",
       "    <tr style=\"text-align: right;\">\n",
       "      <th></th>\n",
       "      <th>Пол</th>\n",
       "      <th>Ушло клиентов</th>\n",
       "      <th>Размер группы</th>\n",
       "      <th>Доля ушедших</th>\n",
       "      <th>Доля от общего числа ушедших</th>\n",
       "    </tr>\n",
       "  </thead>\n",
       "  <tbody>\n",
       "    <tr>\n",
       "      <th>0</th>\n",
       "      <td>Ж</td>\n",
       "      <td>4543</td>\n",
       "      <td>1139</td>\n",
       "      <td>0.25</td>\n",
       "      <td>0.559</td>\n",
       "    </tr>\n",
       "    <tr>\n",
       "      <th>1</th>\n",
       "      <td>М</td>\n",
       "      <td>5457</td>\n",
       "      <td>898</td>\n",
       "      <td>0.16</td>\n",
       "      <td>0.441</td>\n",
       "    </tr>\n",
       "  </tbody>\n",
       "</table>\n",
       "</div>"
      ],
      "text/plain": [
       "  Пол  Ушло клиентов  Размер группы  Доля ушедших  \\\n",
       "0   Ж           4543           1139          0.25   \n",
       "1   М           5457            898          0.16   \n",
       "\n",
       "   Доля от общего числа ушедших  \n",
       "0                         0.559  \n",
       "1                         0.441  "
      ]
     },
     "execution_count": 228,
     "metadata": {},
     "output_type": "execute_result"
    }
   ],
   "source": [
    "tmp = data.groupby('gender',as_index=False).agg({'age':'count','churn':'sum'})\n",
    "tmp['perc of churn'] = round(tmp['churn']/tmp['age'],2)\n",
    "tmp['churn_overall'] = round(tmp['churn']/cat_data['churn'].sum(),3)\n",
    "tmp.columns=('Пол','Ушло клиентов','Размер группы','Доля ушедших','Доля от общего числа ушедших')\n",
    "tmp"
   ]
  },
  {
   "cell_type": "markdown",
   "metadata": {},
   "source": [
    "<b>Вывод: </b> Женщины уходят чаще мужчин. "
   ]
  },
  {
   "cell_type": "code",
   "execution_count": 230,
   "metadata": {},
   "outputs": [
    {
     "data": {
      "image/png": "[encoded data removed]",
      "text/plain": [
       "<Figure size 1000x500 with 1 Axes>"
      ]
     },
     "metadata": {},
     "output_type": "display_data"
    }
   ],
   "source": [
    "tmp.index = ['Женщины','Мужчины']\n",
    "tmp = tmp.sort_values(by='Доля от общего числа ушедших',ascending=False)\n",
    "tmp.plot(y='Доля от общего числа ушедших',kind='bar',figsize=(10,5))\n",
    "plt.xticks(rotation = 0)\n",
    "plt.show()"
   ]
  },
  {
   "cell_type": "markdown",
   "metadata": {},
   "source": [
    "<b>2.3 Выделение семента клиентов, склонных к уходу</b>"
   ]
  },
  {
   "cell_type": "code",
   "execution_count": 126,
   "metadata": {},
   "outputs": [],
   "source": [
    "groupA = cat_data[(cat_data['balance_group'] == 3) & (cat_data['age_group'] == 3) & (cat_data['city_Ростов Великий'] == 1)]"
   ]
  },
  {
   "cell_type": "code",
   "execution_count": 127,
   "metadata": {},
   "outputs": [
    {
     "name": "stdout",
     "output_type": "stream",
     "text": [
      "Размер Группы 1 составляет 246 человек. Процент ушедших клиентов в этой группе составляет 70.0 %\n"
     ]
    }
   ],
   "source": [
    "print(\"Размер Группы 1 составляет\",groupA['userid'].count(),\"человек. Процент ушедших клиентов в этой группе составляет\",\n",
    "      round(groupA['churn'].sum()/groupA['userid'].count(),1)*100,\"%\")"
   ]
  },
  {
   "cell_type": "markdown",
   "metadata": {},
   "source": [
    "<b>Группа 1:</b> Из общего датасета была выделена группа: Клиенты с балансом от 100к до 150к, в возрасте от 50 до 65 лет из Ростова Великого"
   ]
  },
  {
   "cell_type": "code",
   "execution_count": 128,
   "metadata": {},
   "outputs": [],
   "source": [
    "groupB = cat_data[(cat_data['score_group'] == 3) & (cat_data['products'] == 1) & (cat_data['gender_Ж'] == 1)]"
   ]
  },
  {
   "cell_type": "code",
   "execution_count": 129,
   "metadata": {},
   "outputs": [
    {
     "name": "stdout",
     "output_type": "stream",
     "text": [
      "Размер Группы 2 составляет 1765 человек. Процент ушедших клиентов в этой группе составляет 30.0 %\n"
     ]
    }
   ],
   "source": [
    "print(\"Размер Группы 2 составляет\",groupB['userid'].count(),\"человек. Процент ушедших клиентов в этой группе составляет\",\n",
    "      round(groupB['churn'].sum()/groupB['userid'].count(),1)*100,\"%\")"
   ]
  },
  {
   "cell_type": "markdown",
   "metadata": {},
   "source": [
    "<b>Группа 2:</b> клиенты с количеством кредитных очков от 551 до 800, с одним продуктом, женщины"
   ]
  },
  {
   "cell_type": "markdown",
   "metadata": {},
   "source": [
    "<b>Формулировка и проверка гепотез</b>\n",
    "\n",
    "<b>3.1 Формулировка гипотезы 1</b>\n",
    "- <b>H0:</b> Доходы клиентов, которые уходят и тех, которые остаются равны\n",
    "- <b>H1:</b> Доходы клиентов, которые уходят и тех, которые остаются значительно различаются"
   ]
  },
  {
   "cell_type": "markdown",
   "metadata": {},
   "source": [
    "<b>3.2 Проверка гепотезы 1</b>"
   ]
  },
  {
   "cell_type": "code",
   "execution_count": 130,
   "metadata": {},
   "outputs": [
    {
     "name": "stdout",
     "output_type": "stream",
     "text": [
      "P-значение:  0.886475899493893\n",
      "Не удалось отвергнуть нулевую гипотезу\n"
     ]
    }
   ],
   "source": [
    "churn = cat_data[cat_data['churn'] == 1 ]['estimated_salary']\n",
    "loyal = cat_data[cat_data['churn'] == 0 ]['estimated_salary']\n",
    "alpha = .05\n",
    "results = st.mannwhitneyu(churn,loyal,True,'less')\n",
    "print('P-значение: ',results.pvalue)\n",
    "\n",
    "if results.pvalue < alpha:\n",
    "    print(\"Отвергаем нулевую гипотезу\")\n",
    "else:\n",
    "    print(\"Не удалось отвергнуть нулевую гипотезу\")"
   ]
  },
  {
   "cell_type": "markdown",
   "metadata": {},
   "source": [
    "<b>3.1 Формулировка гипотезы 2</b>\n",
    "- <b>H0: </b> Количество продуктов у клиентов, которые уходят и тех, которые остаются равны\n",
    "- <b>H1: </b> Количество продуктов у клиентов, которые уходят и тех, которые остаются значительно различаются"
   ]
  },
  {
   "cell_type": "code",
   "execution_count": 131,
   "metadata": {},
   "outputs": [
    {
     "name": "stdout",
     "output_type": "stream",
     "text": [
      "P-значение:  2.637552606408597e-36\n",
      "Отвергаем нулевую гипотезу\n"
     ]
    }
   ],
   "source": [
    "churn = cat_data[cat_data['churn'] == 1 ]['products']\n",
    "loyal = cat_data[cat_data['churn'] == 0 ]['products']\n",
    "alpha = .05\n",
    "results = st.mannwhitneyu(churn,loyal,True,'less')\n",
    "print('P-значение: ',results.pvalue)\n",
    "\n",
    "if results.pvalue < alpha:\n",
    "    print(\"Отвергаем нулевую гипотезу\")\n",
    "else:\n",
    "    print(\"Не удалось отвергнуть нулевую гипотезу\")"
   ]
  },
  {
   "cell_type": "markdown",
   "metadata": {},
   "source": [
    "<b>4. Подведение итогов исследования, составление рекомендаций </b>"
   ]
  },
  {
   "cell_type": "markdown",
   "metadata": {},
   "source": [
    "<b>Вывод по сегменту 1:</b> Нужно изучить работу банка в Ростове Великом, возможно есть проблемы с обслуживанием. Так же стоит проработать работу с возрастными клиентами, как-то упростить интерфейсы, сделать опрос по удобству пользования услугами банком. Сделать этой группе специальные предложения(более выгодные условия).  \n",
    "<b>Вывод по сегменту 2:</b> сюда попали люди с хорошей кредитной историей, нужно посмотреть на каких условиях предлагаются кредиты, на сколько удобно их гасить, наличие лишь одного продукта может говорить о том, что людей не заинтересовали остальные, возможно этой группе людей нужны более интересные продукты, связанные с кредитованием. Изучить какие продукты предлагают конкуренты и на сколько они популярны и внедрить наиболее популярные из них. Возможно стоит переработать дизайн приложения, на тот который больше понравится женщинам, так же сделать спец. предложения группе."
   ]
  }
 ],
 "metadata": {
  "ExecuteTimeLog": [
   {
    "duration": 1300,
    "start_time": "2023-03-24T05:48:42.858Z"
   },
   {
    "duration": 182,
    "start_time": "2023-03-24T05:48:44.160Z"
   },
   {
    "duration": 8,
    "start_time": "2023-03-24T05:48:44.347Z"
   },
   {
    "duration": 4,
    "start_time": "2023-03-24T05:48:44.356Z"
   },
   {
    "duration": 8,
    "start_time": "2023-03-24T05:48:44.361Z"
   },
   {
    "duration": 79,
    "start_time": "2023-03-24T05:48:44.370Z"
   },
   {
    "duration": 17,
    "start_time": "2023-03-24T05:48:44.451Z"
   },
   {
    "duration": 14,
    "start_time": "2023-03-24T05:48:44.470Z"
   },
   {
    "duration": 66,
    "start_time": "2023-03-24T05:48:44.486Z"
   },
   {
    "duration": 10,
    "start_time": "2023-03-24T05:48:44.555Z"
   },
   {
    "duration": 12,
    "start_time": "2023-03-24T05:48:44.567Z"
   },
   {
    "duration": 127,
    "start_time": "2023-03-24T05:48:44.580Z"
   },
   {
    "duration": 76,
    "start_time": "2023-03-24T05:48:44.709Z"
   },
   {
    "duration": 471,
    "start_time": "2023-03-24T05:48:44.790Z"
   },
   {
    "duration": 27,
    "start_time": "2023-03-24T05:48:45.264Z"
   },
   {
    "duration": 3795,
    "start_time": "2023-03-24T05:48:45.294Z"
   },
   {
    "duration": 26,
    "start_time": "2023-03-24T05:48:49.094Z"
   },
   {
    "duration": 315,
    "start_time": "2023-03-24T05:48:49.124Z"
   },
   {
    "duration": 3297,
    "start_time": "2023-03-24T05:48:49.440Z"
   },
   {
    "duration": 20,
    "start_time": "2023-03-24T05:48:52.750Z"
   },
   {
    "duration": 62,
    "start_time": "2023-03-24T05:48:52.772Z"
   },
   {
    "duration": 32,
    "start_time": "2023-03-24T05:48:52.836Z"
   },
   {
    "duration": 5,
    "start_time": "2023-03-24T05:51:02.345Z"
   },
   {
    "duration": 1826,
    "start_time": "2023-03-24T05:51:13.927Z"
   },
   {
    "duration": 13,
    "start_time": "2023-03-24T05:51:25.592Z"
   },
   {
    "duration": 20,
    "start_time": "2023-03-24T05:58:05.011Z"
   },
   {
    "duration": 5,
    "start_time": "2023-03-24T05:58:15.631Z"
   },
   {
    "duration": 17,
    "start_time": "2023-03-24T05:58:37.715Z"
   },
   {
    "duration": 64,
    "start_time": "2023-03-25T10:00:02.111Z"
   },
   {
    "duration": 0,
    "start_time": "2023-03-25T10:00:02.177Z"
   },
   {
    "duration": 0,
    "start_time": "2023-03-25T10:00:02.179Z"
   },
   {
    "duration": 0,
    "start_time": "2023-03-25T10:00:02.180Z"
   },
   {
    "duration": 0,
    "start_time": "2023-03-25T10:00:02.181Z"
   },
   {
    "duration": 0,
    "start_time": "2023-03-25T10:00:02.182Z"
   },
   {
    "duration": 0,
    "start_time": "2023-03-25T10:00:02.183Z"
   },
   {
    "duration": 0,
    "start_time": "2023-03-25T10:00:02.184Z"
   },
   {
    "duration": 0,
    "start_time": "2023-03-25T10:00:02.185Z"
   },
   {
    "duration": 0,
    "start_time": "2023-03-25T10:00:02.186Z"
   },
   {
    "duration": 0,
    "start_time": "2023-03-25T10:00:02.199Z"
   },
   {
    "duration": 0,
    "start_time": "2023-03-25T10:00:02.201Z"
   },
   {
    "duration": 0,
    "start_time": "2023-03-25T10:00:02.202Z"
   },
   {
    "duration": 0,
    "start_time": "2023-03-25T10:00:02.207Z"
   },
   {
    "duration": 0,
    "start_time": "2023-03-25T10:00:02.208Z"
   },
   {
    "duration": 0,
    "start_time": "2023-03-25T10:00:02.212Z"
   },
   {
    "duration": 0,
    "start_time": "2023-03-25T10:00:02.213Z"
   },
   {
    "duration": 7,
    "start_time": "2023-03-25T10:00:11.106Z"
   },
   {
    "duration": 0,
    "start_time": "2023-03-25T10:00:11.116Z"
   },
   {
    "duration": 0,
    "start_time": "2023-03-25T10:00:11.118Z"
   },
   {
    "duration": 0,
    "start_time": "2023-03-25T10:00:11.120Z"
   },
   {
    "duration": 0,
    "start_time": "2023-03-25T10:00:11.121Z"
   },
   {
    "duration": 0,
    "start_time": "2023-03-25T10:00:11.123Z"
   },
   {
    "duration": 0,
    "start_time": "2023-03-25T10:00:11.125Z"
   },
   {
    "duration": 0,
    "start_time": "2023-03-25T10:00:11.127Z"
   },
   {
    "duration": 0,
    "start_time": "2023-03-25T10:00:11.128Z"
   },
   {
    "duration": 0,
    "start_time": "2023-03-25T10:00:11.129Z"
   },
   {
    "duration": 9,
    "start_time": "2023-03-25T10:00:11.133Z"
   },
   {
    "duration": 0,
    "start_time": "2023-03-25T10:00:11.144Z"
   },
   {
    "duration": 0,
    "start_time": "2023-03-25T10:00:11.145Z"
   },
   {
    "duration": 0,
    "start_time": "2023-03-25T10:00:11.146Z"
   },
   {
    "duration": 0,
    "start_time": "2023-03-25T10:00:11.175Z"
   },
   {
    "duration": 0,
    "start_time": "2023-03-25T10:00:11.176Z"
   },
   {
    "duration": 0,
    "start_time": "2023-03-25T10:00:11.178Z"
   },
   {
    "duration": 1436,
    "start_time": "2023-03-25T10:00:26.268Z"
   },
   {
    "duration": 186,
    "start_time": "2023-03-25T10:00:27.706Z"
   },
   {
    "duration": 8,
    "start_time": "2023-03-25T10:00:27.894Z"
   },
   {
    "duration": 6,
    "start_time": "2023-03-25T10:00:27.903Z"
   },
   {
    "duration": 7,
    "start_time": "2023-03-25T10:00:27.911Z"
   },
   {
    "duration": 12,
    "start_time": "2023-03-25T10:00:27.920Z"
   },
   {
    "duration": 10,
    "start_time": "2023-03-25T10:00:27.934Z"
   },
   {
    "duration": 36,
    "start_time": "2023-03-25T10:00:27.946Z"
   },
   {
    "duration": 10,
    "start_time": "2023-03-25T10:00:27.984Z"
   },
   {
    "duration": 7,
    "start_time": "2023-03-25T10:00:27.996Z"
   },
   {
    "duration": 14,
    "start_time": "2023-03-25T10:00:28.006Z"
   },
   {
    "duration": 28,
    "start_time": "2023-03-25T10:00:28.021Z"
   },
   {
    "duration": 51,
    "start_time": "2023-03-25T10:00:28.050Z"
   },
   {
    "duration": 498,
    "start_time": "2023-03-25T10:00:28.103Z"
   },
   {
    "duration": 16,
    "start_time": "2023-03-25T10:00:28.603Z"
   },
   {
    "duration": 3846,
    "start_time": "2023-03-25T10:00:28.620Z"
   },
   {
    "duration": 21,
    "start_time": "2023-03-25T10:00:32.467Z"
   },
   {
    "duration": 280,
    "start_time": "2023-03-25T10:00:32.490Z"
   },
   {
    "duration": 4094,
    "start_time": "2023-03-25T10:00:32.771Z"
   },
   {
    "duration": 23,
    "start_time": "2023-03-25T10:00:36.866Z"
   },
   {
    "duration": 6,
    "start_time": "2023-03-25T10:00:36.892Z"
   },
   {
    "duration": 15,
    "start_time": "2023-03-25T10:00:36.900Z"
   },
   {
    "duration": 13,
    "start_time": "2023-03-25T10:00:42.064Z"
   },
   {
    "duration": 13,
    "start_time": "2023-03-25T10:00:42.079Z"
   },
   {
    "duration": 90,
    "start_time": "2023-03-25T10:00:42.094Z"
   },
   {
    "duration": 0,
    "start_time": "2023-03-25T10:00:42.187Z"
   },
   {
    "duration": 0,
    "start_time": "2023-03-25T10:00:42.188Z"
   },
   {
    "duration": 0,
    "start_time": "2023-03-25T10:00:42.189Z"
   },
   {
    "duration": 0,
    "start_time": "2023-03-25T10:00:42.191Z"
   },
   {
    "duration": 0,
    "start_time": "2023-03-25T10:00:42.193Z"
   },
   {
    "duration": 0,
    "start_time": "2023-03-25T10:00:42.195Z"
   },
   {
    "duration": 1,
    "start_time": "2023-03-25T10:00:42.196Z"
   },
   {
    "duration": 0,
    "start_time": "2023-03-25T10:00:42.198Z"
   },
   {
    "duration": 0,
    "start_time": "2023-03-25T10:00:42.200Z"
   },
   {
    "duration": 0,
    "start_time": "2023-03-25T10:00:42.201Z"
   },
   {
    "duration": 0,
    "start_time": "2023-03-25T10:00:42.203Z"
   },
   {
    "duration": 0,
    "start_time": "2023-03-25T10:00:42.204Z"
   },
   {
    "duration": 0,
    "start_time": "2023-03-25T10:00:42.206Z"
   },
   {
    "duration": 0,
    "start_time": "2023-03-25T10:00:42.207Z"
   },
   {
    "duration": 96,
    "start_time": "2023-03-25T10:01:46.995Z"
   },
   {
    "duration": 12,
    "start_time": "2023-03-25T10:02:23.742Z"
   },
   {
    "duration": 7,
    "start_time": "2023-03-25T10:02:46.810Z"
   },
   {
    "duration": 3,
    "start_time": "2023-03-25T10:03:22.933Z"
   },
   {
    "duration": 6,
    "start_time": "2023-03-25T10:03:34.556Z"
   },
   {
    "duration": 5,
    "start_time": "2023-03-25T10:04:02.290Z"
   },
   {
    "duration": 4,
    "start_time": "2023-03-25T10:04:07.490Z"
   },
   {
    "duration": 57,
    "start_time": "2023-03-25T10:04:07.496Z"
   },
   {
    "duration": 7,
    "start_time": "2023-03-25T10:04:07.554Z"
   },
   {
    "duration": 3,
    "start_time": "2023-03-25T10:04:07.563Z"
   },
   {
    "duration": 12,
    "start_time": "2023-03-25T10:04:07.569Z"
   },
   {
    "duration": 13,
    "start_time": "2023-03-25T10:04:07.582Z"
   },
   {
    "duration": 16,
    "start_time": "2023-03-25T10:04:07.598Z"
   },
   {
    "duration": 12,
    "start_time": "2023-03-25T10:04:07.616Z"
   },
   {
    "duration": 0,
    "start_time": "2023-03-25T10:04:07.630Z"
   },
   {
    "duration": 1,
    "start_time": "2023-03-25T10:04:07.631Z"
   },
   {
    "duration": 0,
    "start_time": "2023-03-25T10:04:07.633Z"
   },
   {
    "duration": 0,
    "start_time": "2023-03-25T10:04:07.634Z"
   },
   {
    "duration": 0,
    "start_time": "2023-03-25T10:04:07.635Z"
   },
   {
    "duration": 0,
    "start_time": "2023-03-25T10:04:07.636Z"
   },
   {
    "duration": 0,
    "start_time": "2023-03-25T10:04:07.637Z"
   },
   {
    "duration": 0,
    "start_time": "2023-03-25T10:04:07.638Z"
   },
   {
    "duration": 0,
    "start_time": "2023-03-25T10:04:07.675Z"
   },
   {
    "duration": 0,
    "start_time": "2023-03-25T10:04:07.677Z"
   },
   {
    "duration": 0,
    "start_time": "2023-03-25T10:04:07.678Z"
   },
   {
    "duration": 0,
    "start_time": "2023-03-25T10:04:07.680Z"
   },
   {
    "duration": 0,
    "start_time": "2023-03-25T10:04:07.681Z"
   },
   {
    "duration": 0,
    "start_time": "2023-03-25T10:04:07.682Z"
   },
   {
    "duration": 0,
    "start_time": "2023-03-25T10:04:07.684Z"
   },
   {
    "duration": 4,
    "start_time": "2023-03-25T10:04:46.542Z"
   },
   {
    "duration": 60,
    "start_time": "2023-03-25T10:04:46.548Z"
   },
   {
    "duration": 8,
    "start_time": "2023-03-25T10:04:46.610Z"
   },
   {
    "duration": 5,
    "start_time": "2023-03-25T10:04:46.620Z"
   },
   {
    "duration": 7,
    "start_time": "2023-03-25T10:04:46.628Z"
   },
   {
    "duration": 53,
    "start_time": "2023-03-25T10:04:46.637Z"
   },
   {
    "duration": 13,
    "start_time": "2023-03-25T10:04:46.693Z"
   },
   {
    "duration": 7,
    "start_time": "2023-03-25T10:04:46.708Z"
   },
   {
    "duration": 6,
    "start_time": "2023-03-25T10:04:46.716Z"
   },
   {
    "duration": 5,
    "start_time": "2023-03-25T10:04:46.724Z"
   },
   {
    "duration": 3,
    "start_time": "2023-03-25T10:04:46.731Z"
   },
   {
    "duration": 40,
    "start_time": "2023-03-25T10:04:46.736Z"
   },
   {
    "duration": 30,
    "start_time": "2023-03-25T10:04:46.778Z"
   },
   {
    "duration": 28,
    "start_time": "2023-03-25T10:04:46.812Z"
   },
   {
    "duration": 456,
    "start_time": "2023-03-25T10:04:46.841Z"
   },
   {
    "duration": 23,
    "start_time": "2023-03-25T10:04:47.300Z"
   },
   {
    "duration": 3938,
    "start_time": "2023-03-25T10:04:47.326Z"
   },
   {
    "duration": 22,
    "start_time": "2023-03-25T10:04:51.265Z"
   },
   {
    "duration": 286,
    "start_time": "2023-03-25T10:04:51.289Z"
   },
   {
    "duration": 4186,
    "start_time": "2023-03-25T10:04:51.577Z"
   },
   {
    "duration": 28,
    "start_time": "2023-03-25T10:04:55.766Z"
   },
   {
    "duration": 8,
    "start_time": "2023-03-25T10:04:55.796Z"
   },
   {
    "duration": 6,
    "start_time": "2023-03-25T10:04:55.807Z"
   },
   {
    "duration": 35,
    "start_time": "2023-03-25T10:05:22.701Z"
   },
   {
    "duration": 34,
    "start_time": "2023-03-25T10:05:29.747Z"
   },
   {
    "duration": 407,
    "start_time": "2023-03-25T10:05:29.784Z"
   },
   {
    "duration": 16,
    "start_time": "2023-03-25T10:05:30.193Z"
   },
   {
    "duration": 4263,
    "start_time": "2023-03-25T10:05:30.211Z"
   },
   {
    "duration": 18,
    "start_time": "2023-03-25T10:05:34.477Z"
   },
   {
    "duration": 300,
    "start_time": "2023-03-25T10:05:34.497Z"
   },
   {
    "duration": 4213,
    "start_time": "2023-03-25T10:05:34.798Z"
   },
   {
    "duration": 14,
    "start_time": "2023-03-25T10:05:39.013Z"
   },
   {
    "duration": 22,
    "start_time": "2023-03-25T10:05:39.028Z"
   },
   {
    "duration": 4,
    "start_time": "2023-03-25T10:05:39.052Z"
   },
   {
    "duration": 46,
    "start_time": "2023-03-25T12:27:00.239Z"
   },
   {
    "duration": 1309,
    "start_time": "2023-03-25T12:27:07.470Z"
   },
   {
    "duration": 105,
    "start_time": "2023-03-25T12:27:08.780Z"
   },
   {
    "duration": 6,
    "start_time": "2023-03-25T12:27:08.887Z"
   },
   {
    "duration": 4,
    "start_time": "2023-03-25T12:27:08.894Z"
   },
   {
    "duration": 8,
    "start_time": "2023-03-25T12:27:08.900Z"
   },
   {
    "duration": 11,
    "start_time": "2023-03-25T12:27:08.909Z"
   },
   {
    "duration": 8,
    "start_time": "2023-03-25T12:27:08.922Z"
   },
   {
    "duration": 6,
    "start_time": "2023-03-25T12:27:08.931Z"
   },
   {
    "duration": 35,
    "start_time": "2023-03-25T12:27:08.938Z"
   },
   {
    "duration": 3,
    "start_time": "2023-03-25T12:27:08.974Z"
   },
   {
    "duration": 4,
    "start_time": "2023-03-25T12:27:08.979Z"
   },
   {
    "duration": 11,
    "start_time": "2023-03-25T12:27:08.985Z"
   },
   {
    "duration": 24,
    "start_time": "2023-03-25T12:27:08.998Z"
   },
   {
    "duration": 25,
    "start_time": "2023-03-25T12:27:09.024Z"
   },
   {
    "duration": 404,
    "start_time": "2023-03-25T12:27:09.051Z"
   },
   {
    "duration": 20,
    "start_time": "2023-03-25T12:27:09.456Z"
   },
   {
    "duration": 2626,
    "start_time": "2023-03-25T12:27:09.477Z"
   },
   {
    "duration": 12,
    "start_time": "2023-03-25T12:27:12.105Z"
   },
   {
    "duration": 209,
    "start_time": "2023-03-25T12:27:12.118Z"
   },
   {
    "duration": 2755,
    "start_time": "2023-03-25T12:27:12.328Z"
   },
   {
    "duration": 13,
    "start_time": "2023-03-25T12:27:15.084Z"
   },
   {
    "duration": 10,
    "start_time": "2023-03-25T12:27:15.099Z"
   },
   {
    "duration": 6,
    "start_time": "2023-03-25T12:27:15.111Z"
   },
   {
    "duration": 9,
    "start_time": "2023-03-25T12:27:15.118Z"
   },
   {
    "duration": 4,
    "start_time": "2023-03-25T14:07:13.551Z"
   },
   {
    "duration": 71,
    "start_time": "2023-03-25T14:07:13.557Z"
   },
   {
    "duration": 9,
    "start_time": "2023-03-25T14:07:13.630Z"
   },
   {
    "duration": 5,
    "start_time": "2023-03-25T14:07:13.640Z"
   },
   {
    "duration": 14,
    "start_time": "2023-03-25T14:07:13.647Z"
   },
   {
    "duration": 27,
    "start_time": "2023-03-25T14:07:13.662Z"
   },
   {
    "duration": 13,
    "start_time": "2023-03-25T14:07:13.691Z"
   },
   {
    "duration": 8,
    "start_time": "2023-03-25T14:07:13.705Z"
   },
   {
    "duration": 16,
    "start_time": "2023-03-25T14:07:13.714Z"
   },
   {
    "duration": 4,
    "start_time": "2023-03-25T14:07:13.732Z"
   },
   {
    "duration": 10,
    "start_time": "2023-03-25T14:07:13.737Z"
   },
   {
    "duration": 7,
    "start_time": "2023-03-25T14:07:13.749Z"
   },
   {
    "duration": 33,
    "start_time": "2023-03-25T14:07:13.757Z"
   },
   {
    "duration": 27,
    "start_time": "2023-03-25T14:07:13.792Z"
   },
   {
    "duration": 381,
    "start_time": "2023-03-25T14:07:13.821Z"
   },
   {
    "duration": 18,
    "start_time": "2023-03-25T14:07:14.204Z"
   },
   {
    "duration": 3091,
    "start_time": "2023-03-25T14:07:14.224Z"
   },
   {
    "duration": 12,
    "start_time": "2023-03-25T14:07:17.316Z"
   },
   {
    "duration": 296,
    "start_time": "2023-03-25T14:07:17.330Z"
   },
   {
    "duration": 3035,
    "start_time": "2023-03-25T14:07:17.628Z"
   },
   {
    "duration": 19,
    "start_time": "2023-03-25T14:07:20.665Z"
   },
   {
    "duration": 27,
    "start_time": "2023-03-25T14:07:20.688Z"
   },
   {
    "duration": 13,
    "start_time": "2023-03-25T14:07:20.717Z"
   },
   {
    "duration": 21,
    "start_time": "2023-03-25T14:07:20.732Z"
   },
   {
    "duration": 13,
    "start_time": "2023-03-25T14:17:18.091Z"
   },
   {
    "duration": 12,
    "start_time": "2023-03-25T14:17:34.350Z"
   },
   {
    "duration": 97,
    "start_time": "2023-03-25T14:26:45.493Z"
   },
   {
    "duration": 13,
    "start_time": "2023-03-25T14:27:04.504Z"
   },
   {
    "duration": 13,
    "start_time": "2023-03-25T14:27:20.922Z"
   },
   {
    "duration": 38,
    "start_time": "2023-03-25T14:27:45.909Z"
   },
   {
    "duration": 17,
    "start_time": "2023-03-25T14:28:02.388Z"
   },
   {
    "duration": 15,
    "start_time": "2023-03-25T14:28:33.351Z"
   },
   {
    "duration": 13,
    "start_time": "2023-03-25T14:28:51.526Z"
   },
   {
    "duration": 13,
    "start_time": "2023-03-25T14:28:56.455Z"
   },
   {
    "duration": 13,
    "start_time": "2023-03-25T14:29:26.454Z"
   },
   {
    "duration": 14,
    "start_time": "2023-03-25T14:33:21.823Z"
   },
   {
    "duration": 15,
    "start_time": "2023-03-25T14:34:11.512Z"
   },
   {
    "duration": 14,
    "start_time": "2023-03-25T14:34:19.622Z"
   },
   {
    "duration": 54,
    "start_time": "2023-03-25T16:27:26.341Z"
   },
   {
    "duration": 1392,
    "start_time": "2023-03-25T16:27:32.040Z"
   },
   {
    "duration": 107,
    "start_time": "2023-03-25T16:27:33.435Z"
   },
   {
    "duration": 8,
    "start_time": "2023-03-25T16:27:33.544Z"
   },
   {
    "duration": 15,
    "start_time": "2023-03-25T16:27:33.553Z"
   },
   {
    "duration": 13,
    "start_time": "2023-03-25T16:27:33.569Z"
   },
   {
    "duration": 12,
    "start_time": "2023-03-25T16:27:33.583Z"
   },
   {
    "duration": 9,
    "start_time": "2023-03-25T16:27:33.596Z"
   },
   {
    "duration": 14,
    "start_time": "2023-03-25T16:27:33.607Z"
   },
   {
    "duration": 12,
    "start_time": "2023-03-25T16:27:33.622Z"
   },
   {
    "duration": 15,
    "start_time": "2023-03-25T16:27:33.636Z"
   },
   {
    "duration": 8,
    "start_time": "2023-03-25T16:27:33.653Z"
   },
   {
    "duration": 7,
    "start_time": "2023-03-25T16:27:33.662Z"
   },
   {
    "duration": 26,
    "start_time": "2023-03-25T16:27:33.671Z"
   },
   {
    "duration": 35,
    "start_time": "2023-03-25T16:27:33.699Z"
   },
   {
    "duration": 405,
    "start_time": "2023-03-25T16:27:33.735Z"
   },
   {
    "duration": 15,
    "start_time": "2023-03-25T16:27:34.142Z"
   },
   {
    "duration": 3488,
    "start_time": "2023-03-25T16:27:34.159Z"
   },
   {
    "duration": 13,
    "start_time": "2023-03-25T16:27:37.649Z"
   },
   {
    "duration": 268,
    "start_time": "2023-03-25T16:27:37.663Z"
   },
   {
    "duration": 3606,
    "start_time": "2023-03-25T16:27:37.932Z"
   },
   {
    "duration": 15,
    "start_time": "2023-03-25T16:27:41.540Z"
   },
   {
    "duration": 17,
    "start_time": "2023-03-25T16:27:41.556Z"
   },
   {
    "duration": 13,
    "start_time": "2023-03-25T16:27:41.575Z"
   },
   {
    "duration": 32,
    "start_time": "2023-03-25T16:27:41.590Z"
   },
   {
    "duration": 20,
    "start_time": "2023-03-25T16:27:41.624Z"
   },
   {
    "duration": 18,
    "start_time": "2023-03-25T16:33:59.636Z"
   },
   {
    "duration": 16,
    "start_time": "2023-03-25T16:34:04.824Z"
   },
   {
    "duration": 14,
    "start_time": "2023-03-25T16:34:45.788Z"
   },
   {
    "duration": 14,
    "start_time": "2023-03-25T16:35:04.232Z"
   },
   {
    "duration": 239,
    "start_time": "2023-03-25T16:41:09.909Z"
   },
   {
    "duration": 318,
    "start_time": "2023-03-25T16:41:27.922Z"
   },
   {
    "duration": 335,
    "start_time": "2023-03-25T16:42:01.134Z"
   },
   {
    "duration": 397,
    "start_time": "2023-03-25T16:42:06.857Z"
   },
   {
    "duration": 454,
    "start_time": "2023-03-25T16:42:12.239Z"
   },
   {
    "duration": 280,
    "start_time": "2023-03-25T16:42:26.487Z"
   },
   {
    "duration": 3620,
    "start_time": "2023-03-25T16:46:15.812Z"
   },
   {
    "duration": 15,
    "start_time": "2023-03-25T16:48:49.019Z"
   },
   {
    "duration": 3653,
    "start_time": "2023-03-25T16:49:13.162Z"
   },
   {
    "duration": 15,
    "start_time": "2023-03-25T16:49:16.818Z"
   },
   {
    "duration": 3686,
    "start_time": "2023-03-25T16:50:16.011Z"
   },
   {
    "duration": 23,
    "start_time": "2023-03-25T16:50:19.698Z"
   },
   {
    "duration": 13,
    "start_time": "2023-03-25T16:51:36.721Z"
   },
   {
    "duration": 9,
    "start_time": "2023-03-25T16:51:51.217Z"
   },
   {
    "duration": 9,
    "start_time": "2023-03-25T16:52:05.679Z"
   },
   {
    "duration": 3810,
    "start_time": "2023-03-25T16:53:21.276Z"
   },
   {
    "duration": 14,
    "start_time": "2023-03-25T16:53:28.524Z"
   },
   {
    "duration": 305,
    "start_time": "2023-03-25T17:00:09.248Z"
   },
   {
    "duration": 3667,
    "start_time": "2023-03-25T17:03:51.204Z"
   },
   {
    "duration": 14,
    "start_time": "2023-03-25T17:04:30.257Z"
   },
   {
    "duration": 256,
    "start_time": "2023-03-25T17:07:07.872Z"
   },
   {
    "duration": 72,
    "start_time": "2023-03-25T17:08:54.674Z"
   },
   {
    "duration": 502,
    "start_time": "2023-03-25T17:09:15.761Z"
   },
   {
    "duration": 503,
    "start_time": "2023-03-25T17:10:52.260Z"
   },
   {
    "duration": 14,
    "start_time": "2023-03-25T17:12:40.451Z"
   },
   {
    "duration": 1343,
    "start_time": "2023-03-25T17:42:12.097Z"
   },
   {
    "duration": 8,
    "start_time": "2023-03-25T17:42:48.050Z"
   },
   {
    "duration": 7,
    "start_time": "2023-03-25T17:42:52.980Z"
   },
   {
    "duration": 1555,
    "start_time": "2023-03-26T07:17:16.535Z"
   },
   {
    "duration": 121,
    "start_time": "2023-03-26T07:17:18.092Z"
   },
   {
    "duration": 8,
    "start_time": "2023-03-26T07:17:18.214Z"
   },
   {
    "duration": 5,
    "start_time": "2023-03-26T07:17:18.225Z"
   },
   {
    "duration": 26,
    "start_time": "2023-03-26T07:17:18.231Z"
   },
   {
    "duration": 23,
    "start_time": "2023-03-26T07:17:18.259Z"
   },
   {
    "duration": 29,
    "start_time": "2023-03-26T07:17:18.284Z"
   },
   {
    "duration": 8,
    "start_time": "2023-03-26T07:17:18.314Z"
   },
   {
    "duration": 30,
    "start_time": "2023-03-26T07:17:18.324Z"
   },
   {
    "duration": 9,
    "start_time": "2023-03-26T07:17:18.359Z"
   },
   {
    "duration": 17,
    "start_time": "2023-03-26T07:17:18.370Z"
   },
   {
    "duration": 29,
    "start_time": "2023-03-26T07:17:18.389Z"
   },
   {
    "duration": 39,
    "start_time": "2023-03-26T07:17:18.420Z"
   },
   {
    "duration": 39,
    "start_time": "2023-03-26T07:17:18.462Z"
   },
   {
    "duration": 558,
    "start_time": "2023-03-26T07:17:18.503Z"
   },
   {
    "duration": 18,
    "start_time": "2023-03-26T07:17:19.062Z"
   },
   {
    "duration": 3781,
    "start_time": "2023-03-26T07:17:19.082Z"
   },
   {
    "duration": 13,
    "start_time": "2023-03-26T07:17:22.865Z"
   },
   {
    "duration": 363,
    "start_time": "2023-03-26T07:17:22.880Z"
   },
   {
    "duration": 4010,
    "start_time": "2023-03-26T07:17:23.252Z"
   },
   {
    "duration": 18,
    "start_time": "2023-03-26T07:17:27.264Z"
   },
   {
    "duration": 23,
    "start_time": "2023-03-26T07:17:27.284Z"
   },
   {
    "duration": 39,
    "start_time": "2023-03-26T07:17:27.309Z"
   },
   {
    "duration": 374,
    "start_time": "2023-03-26T07:17:27.350Z"
   },
   {
    "duration": 4067,
    "start_time": "2023-03-26T07:17:27.726Z"
   },
   {
    "duration": 21,
    "start_time": "2023-03-26T07:17:31.796Z"
   },
   {
    "duration": 403,
    "start_time": "2023-03-26T07:17:31.819Z"
   },
   {
    "duration": 4069,
    "start_time": "2023-03-26T07:17:32.225Z"
   },
   {
    "duration": 16,
    "start_time": "2023-03-26T07:17:36.295Z"
   },
   {
    "duration": 40,
    "start_time": "2023-03-26T07:17:36.313Z"
   },
   {
    "duration": 6,
    "start_time": "2023-03-26T07:17:36.355Z"
   },
   {
    "duration": 10,
    "start_time": "2023-03-26T07:17:36.363Z"
   },
   {
    "duration": 22,
    "start_time": "2023-03-26T07:17:36.375Z"
   },
   {
    "duration": 12,
    "start_time": "2023-03-26T07:17:36.398Z"
   },
   {
    "duration": 14,
    "start_time": "2023-03-26T07:17:36.412Z"
   },
   {
    "duration": 4,
    "start_time": "2023-03-26T07:19:59.403Z"
   },
   {
    "duration": 126,
    "start_time": "2023-03-26T07:22:29.279Z"
   },
   {
    "duration": 21,
    "start_time": "2023-03-26T07:22:37.755Z"
   },
   {
    "duration": 15,
    "start_time": "2023-03-26T07:31:37.050Z"
   },
   {
    "duration": 26,
    "start_time": "2023-03-26T07:50:24.718Z"
   },
   {
    "duration": 26,
    "start_time": "2023-03-26T07:51:25.036Z"
   },
   {
    "duration": 16,
    "start_time": "2023-03-26T07:51:50.304Z"
   },
   {
    "duration": 19,
    "start_time": "2023-03-26T07:52:28.669Z"
   },
   {
    "duration": 423,
    "start_time": "2023-03-26T07:53:08.602Z"
   },
   {
    "duration": 33,
    "start_time": "2023-03-26T07:53:34.655Z"
   },
   {
    "duration": 16,
    "start_time": "2023-03-26T07:54:28.996Z"
   },
   {
    "duration": 1529,
    "start_time": "2023-03-26T07:54:55.899Z"
   },
   {
    "duration": 17,
    "start_time": "2023-03-26T07:55:08.677Z"
   },
   {
    "duration": 18,
    "start_time": "2023-03-26T07:56:00.493Z"
   },
   {
    "duration": 5,
    "start_time": "2023-03-26T08:25:53.377Z"
   },
   {
    "duration": 6,
    "start_time": "2023-03-26T08:26:20.899Z"
   },
   {
    "duration": 4,
    "start_time": "2023-03-26T08:26:40.406Z"
   },
   {
    "duration": 4,
    "start_time": "2023-03-26T08:26:59.327Z"
   },
   {
    "duration": 5,
    "start_time": "2023-03-26T08:27:07.675Z"
   },
   {
    "duration": 5,
    "start_time": "2023-03-26T08:27:39.595Z"
   },
   {
    "duration": 25,
    "start_time": "2023-03-26T09:48:26.990Z"
   },
   {
    "duration": 1479,
    "start_time": "2023-03-27T10:11:49.679Z"
   },
   {
    "duration": 182,
    "start_time": "2023-03-27T10:11:51.160Z"
   },
   {
    "duration": 7,
    "start_time": "2023-03-27T10:11:51.344Z"
   },
   {
    "duration": 11,
    "start_time": "2023-03-27T10:11:51.353Z"
   },
   {
    "duration": 17,
    "start_time": "2023-03-27T10:11:51.366Z"
   },
   {
    "duration": 27,
    "start_time": "2023-03-27T10:11:51.384Z"
   },
   {
    "duration": 29,
    "start_time": "2023-03-27T10:11:51.413Z"
   },
   {
    "duration": 8,
    "start_time": "2023-03-27T10:11:51.444Z"
   },
   {
    "duration": 23,
    "start_time": "2023-03-27T10:11:51.454Z"
   },
   {
    "duration": 24,
    "start_time": "2023-03-27T10:11:51.482Z"
   },
   {
    "duration": 7,
    "start_time": "2023-03-27T10:11:51.508Z"
   },
   {
    "duration": 14,
    "start_time": "2023-03-27T10:11:51.516Z"
   },
   {
    "duration": 34,
    "start_time": "2023-03-27T10:11:51.532Z"
   },
   {
    "duration": 34,
    "start_time": "2023-03-27T10:11:51.568Z"
   },
   {
    "duration": 530,
    "start_time": "2023-03-27T10:11:51.603Z"
   },
   {
    "duration": 18,
    "start_time": "2023-03-27T10:11:52.135Z"
   },
   {
    "duration": 3775,
    "start_time": "2023-03-27T10:11:52.154Z"
   },
   {
    "duration": 15,
    "start_time": "2023-03-27T10:11:55.931Z"
   },
   {
    "duration": 320,
    "start_time": "2023-03-27T10:11:55.948Z"
   },
   {
    "duration": 3845,
    "start_time": "2023-03-27T10:11:56.270Z"
   },
   {
    "duration": 16,
    "start_time": "2023-03-27T10:12:00.117Z"
   },
   {
    "duration": 19,
    "start_time": "2023-03-27T10:12:00.134Z"
   },
   {
    "duration": 53,
    "start_time": "2023-03-27T10:12:00.156Z"
   },
   {
    "duration": 409,
    "start_time": "2023-03-27T10:12:00.211Z"
   },
   {
    "duration": 4148,
    "start_time": "2023-03-27T10:12:00.622Z"
   },
   {
    "duration": 19,
    "start_time": "2023-03-27T10:12:04.775Z"
   },
   {
    "duration": 336,
    "start_time": "2023-03-27T10:12:04.796Z"
   },
   {
    "duration": 3970,
    "start_time": "2023-03-27T10:12:05.137Z"
   },
   {
    "duration": 17,
    "start_time": "2023-03-27T10:12:09.109Z"
   },
   {
    "duration": 17,
    "start_time": "2023-03-27T10:12:09.128Z"
   },
   {
    "duration": 30,
    "start_time": "2023-03-27T10:12:09.146Z"
   },
   {
    "duration": 13,
    "start_time": "2023-03-27T10:12:09.179Z"
   },
   {
    "duration": 8,
    "start_time": "2023-03-27T10:12:09.194Z"
   },
   {
    "duration": 6,
    "start_time": "2023-03-27T10:12:09.204Z"
   },
   {
    "duration": 25,
    "start_time": "2023-03-27T10:12:09.212Z"
   },
   {
    "duration": 39,
    "start_time": "2023-03-27T10:12:09.240Z"
   }
  ],
  "kernelspec": {
   "display_name": "Python 3 (ipykernel)",
   "language": "python",
   "name": "python3"
  },
  "language_info": {
   "codemirror_mode": {
    "name": "ipython",
    "version": 3
   },
   "file_extension": ".py",
   "mimetype": "text/x-python",
   "name": "python",
   "nbconvert_exporter": "python",
   "pygments_lexer": "ipython3",
   "version": "3.9.13"
  },
  "toc": {
   "base_numbering": 1,
   "nav_menu": {},
   "number_sections": true,
   "sideBar": true,
   "skip_h1_title": true,
   "title_cell": "Table of Contents",
   "title_sidebar": "Contents",
   "toc_cell": false,
   "toc_position": {},
   "toc_section_display": true,
   "toc_window_display": false
  }
 },
 "nbformat": 4,
 "nbformat_minor": 2
}
