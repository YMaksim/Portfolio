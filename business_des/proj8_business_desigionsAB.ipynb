{
 "cells": [
  {
   "cell_type": "markdown",
   "metadata": {},
   "source": [
    "\n",
    "<b>Аналитика работы интернет-магазина. Увеличение выручки</b>\n",
    "\n"
   ]
  },
  {
   "cell_type": "markdown",
   "metadata": {},
   "source": [
    "Цель работы: увеличить выручку интернет-магазина на основе проведенного анализа данных"
   ]
  },
  {
   "cell_type": "markdown",
   "metadata": {},
   "source": [
    "План работ:\n",
    "- Часть 1. Приоритизация гипотез.\n",
    "- 1.1 Подготовка даннных\n",
    "- 1.2 Примение фреймворка ICE для приоритизации гипотез\n",
    "- 1.3 Примение фреймворка RICE для приоритизации гипотез\n",
    "- 1.4 Выводы по результатам ICE и RICE\n",
    "- Часть 2. Анализ A/B-теста\n",
    "- 2.1 Подготовка данных\n",
    "- 2.2 Построение графика кумулятивной выручки по группам. Формулирование выводов и предположений.\n",
    "- 2.3 Построение графика кумулятивного среднего чека по группам. Формулирование выводов и предположений.\n",
    "- 2.4 Построение графика относительного изменения кумулятивного среднего чека группы B к группе A. Формулирование выводов и предположений\n",
    "- 2.5 Построение графика кумулятивного среднего количества заказов на посетителя по группам. Формулирование выводов и предположений\n",
    "- 2.6 Построение графика относительного изменения кумулятивного среднего количества заказов на посетителя группы B к группе A. Формирование выводов и предположений\n",
    "- 2.7 Построение точечного графика количества заказов по пользователям. Формирование выводов и предположений\n",
    "- 2.8 Подсчет 95-ого и 99-ого перцентиля количества заказов на пользователя. Выбор границы для определения аномальных пользователей\n",
    "- 2.9 Построение точечного графика стоимостей заказов. Формирование выводов и предположений\n",
    "- 2.10 Подсчет 95-ого и 99-ого перцентилей стоимости заказов. Выбор границы для определения аномальных заказов\n",
    "- 2.11 Посчет статистической значимости различий в среднем количестве заказов на посетителя между группами по «сырым» данным. Формирование выводов и предположений\n",
    "- 2.12 Подсчет статистической значимости различий в среднем чеке заказа между группами по «сырым» данным. Формирование выводов и предположений\n",
    "- 2.13 Подсчет статистической значимости различий в среднем количестве заказов на посетителя между группами по «очищенным» данным. Формирование выводов и предположений\n",
    "- 2.14 Подсчет статистической значимости различий в среднем чеке заказа между группами по «очищенным» данным. Формирование выводов и предположений\n",
    "- 2.15 Решение по результатам теста\n"
   ]
  },
  {
   "cell_type": "markdown",
   "metadata": {},
   "source": [
    "<b>Часть 1. Приоритизация гипотез.</b>"
   ]
  },
  {
   "cell_type": "markdown",
   "metadata": {},
   "source": [
    "<b>1.1 Подготовка даннных</b>"
   ]
  },
  {
   "cell_type": "code",
   "execution_count": 1,
   "metadata": {},
   "outputs": [],
   "source": [
    "import pandas as pd\n",
    "import datetime as dt\n",
    "import numpy as np\n",
    "import matplotlib.pyplot as plt\n",
    "from pandas.plotting import register_matplotlib_converters\n",
    "import warnings\n",
    "import scipy.stats as stats\n",
    "register_matplotlib_converters()"
   ]
  },
  {
   "cell_type": "code",
   "execution_count": 2,
   "metadata": {},
   "outputs": [
    {
     "data": {
      "text/html": [
       "<div>\n",
       "<style scoped>\n",
       "    .dataframe tbody tr th:only-of-type {\n",
       "        vertical-align: middle;\n",
       "    }\n",
       "\n",
       "    .dataframe tbody tr th {\n",
       "        vertical-align: top;\n",
       "    }\n",
       "\n",
       "    .dataframe thead th {\n",
       "        text-align: right;\n",
       "    }\n",
       "</style>\n",
       "<table border=\"1\" class=\"dataframe\">\n",
       "  <thead>\n",
       "    <tr style=\"text-align: right;\">\n",
       "      <th></th>\n",
       "      <th>Hypothesis</th>\n",
       "      <th>Reach</th>\n",
       "      <th>Impact</th>\n",
       "      <th>Confidence</th>\n",
       "      <th>Efforts</th>\n",
       "    </tr>\n",
       "  </thead>\n",
       "  <tbody>\n",
       "    <tr>\n",
       "      <th>0</th>\n",
       "      <td>Добавить два новых канала привлечения трафика, что позволит привлекать на 30% больше пользователей</td>\n",
       "      <td>3</td>\n",
       "      <td>10</td>\n",
       "      <td>8</td>\n",
       "      <td>6</td>\n",
       "    </tr>\n",
       "    <tr>\n",
       "      <th>1</th>\n",
       "      <td>Запустить собственную службу доставки, что сократит срок доставки заказов</td>\n",
       "      <td>2</td>\n",
       "      <td>5</td>\n",
       "      <td>4</td>\n",
       "      <td>10</td>\n",
       "    </tr>\n",
       "    <tr>\n",
       "      <th>2</th>\n",
       "      <td>Добавить блоки рекомендаций товаров на сайт интернет магазина, чтобы повысить конверсию и средний чек заказа</td>\n",
       "      <td>8</td>\n",
       "      <td>3</td>\n",
       "      <td>7</td>\n",
       "      <td>3</td>\n",
       "    </tr>\n",
       "    <tr>\n",
       "      <th>3</th>\n",
       "      <td>Изменить структура категорий, что увеличит конверсию, т.к. пользователи быстрее найдут нужный товар</td>\n",
       "      <td>8</td>\n",
       "      <td>3</td>\n",
       "      <td>3</td>\n",
       "      <td>8</td>\n",
       "    </tr>\n",
       "    <tr>\n",
       "      <th>4</th>\n",
       "      <td>Изменить цвет фона главной страницы, чтобы увеличить вовлеченность пользователей</td>\n",
       "      <td>3</td>\n",
       "      <td>1</td>\n",
       "      <td>1</td>\n",
       "      <td>1</td>\n",
       "    </tr>\n",
       "    <tr>\n",
       "      <th>5</th>\n",
       "      <td>Добавить страницу отзывов клиентов о магазине, что позволит увеличить количество заказов</td>\n",
       "      <td>3</td>\n",
       "      <td>2</td>\n",
       "      <td>2</td>\n",
       "      <td>3</td>\n",
       "    </tr>\n",
       "    <tr>\n",
       "      <th>6</th>\n",
       "      <td>Показать на главной странице баннеры с актуальными акциями и распродажами, чтобы увеличить конверсию</td>\n",
       "      <td>5</td>\n",
       "      <td>3</td>\n",
       "      <td>8</td>\n",
       "      <td>3</td>\n",
       "    </tr>\n",
       "    <tr>\n",
       "      <th>7</th>\n",
       "      <td>Добавить форму подписки на все основные страницы, чтобы собрать базу клиентов для email-рассылок</td>\n",
       "      <td>10</td>\n",
       "      <td>7</td>\n",
       "      <td>8</td>\n",
       "      <td>5</td>\n",
       "    </tr>\n",
       "    <tr>\n",
       "      <th>8</th>\n",
       "      <td>Запустить акцию, дающую скидку на товар в день рождения</td>\n",
       "      <td>1</td>\n",
       "      <td>9</td>\n",
       "      <td>9</td>\n",
       "      <td>5</td>\n",
       "    </tr>\n",
       "  </tbody>\n",
       "</table>\n",
       "</div>"
      ],
      "text/plain": [
       "                                                                                                     Hypothesis  \\\n",
       "0  Добавить два новых канала привлечения трафика, что позволит привлекать на 30% больше пользователей             \n",
       "1  Запустить собственную службу доставки, что сократит срок доставки заказов                                      \n",
       "2  Добавить блоки рекомендаций товаров на сайт интернет магазина, чтобы повысить конверсию и средний чек заказа   \n",
       "3  Изменить структура категорий, что увеличит конверсию, т.к. пользователи быстрее найдут нужный товар            \n",
       "4  Изменить цвет фона главной страницы, чтобы увеличить вовлеченность пользователей                               \n",
       "5  Добавить страницу отзывов клиентов о магазине, что позволит увеличить количество заказов                       \n",
       "6  Показать на главной странице баннеры с актуальными акциями и распродажами, чтобы увеличить конверсию           \n",
       "7  Добавить форму подписки на все основные страницы, чтобы собрать базу клиентов для email-рассылок               \n",
       "8  Запустить акцию, дающую скидку на товар в день рождения                                                        \n",
       "\n",
       "   Reach  Impact  Confidence  Efforts  \n",
       "0  3      10      8           6        \n",
       "1  2      5       4           10       \n",
       "2  8      3       7           3        \n",
       "3  8      3       3           8        \n",
       "4  3      1       1           1        \n",
       "5  3      2       2           3        \n",
       "6  5      3       8           3        \n",
       "7  10     7       8           5        \n",
       "8  1      9       9           5        "
      ]
     },
     "execution_count": 2,
     "metadata": {},
     "output_type": "execute_result"
    }
   ],
   "source": [
    "pd.options.display.max_colwidth = 1\n",
    "data = pd.read_csv('/datasets/hypothesis.csv')\n",
    "data"
   ]
  },
  {
   "cell_type": "markdown",
   "metadata": {},
   "source": [
    "<b>1.2 Примение фреймворка ICE для приоритизации гипотез</b>"
   ]
  },
  {
   "cell_type": "code",
   "execution_count": 3,
   "metadata": {},
   "outputs": [
    {
     "data": {
      "text/html": [
       "<div>\n",
       "<style scoped>\n",
       "    .dataframe tbody tr th:only-of-type {\n",
       "        vertical-align: middle;\n",
       "    }\n",
       "\n",
       "    .dataframe tbody tr th {\n",
       "        vertical-align: top;\n",
       "    }\n",
       "\n",
       "    .dataframe thead th {\n",
       "        text-align: right;\n",
       "    }\n",
       "</style>\n",
       "<table border=\"1\" class=\"dataframe\">\n",
       "  <thead>\n",
       "    <tr style=\"text-align: right;\">\n",
       "      <th></th>\n",
       "      <th>Hypothesis</th>\n",
       "      <th>Reach</th>\n",
       "      <th>Impact</th>\n",
       "      <th>Confidence</th>\n",
       "      <th>Efforts</th>\n",
       "      <th>ICE</th>\n",
       "    </tr>\n",
       "  </thead>\n",
       "  <tbody>\n",
       "    <tr>\n",
       "      <th>8</th>\n",
       "      <td>Запустить акцию, дающую скидку на товар в день рождения</td>\n",
       "      <td>1</td>\n",
       "      <td>9</td>\n",
       "      <td>9</td>\n",
       "      <td>5</td>\n",
       "      <td>16.200000</td>\n",
       "    </tr>\n",
       "    <tr>\n",
       "      <th>0</th>\n",
       "      <td>Добавить два новых канала привлечения трафика, что позволит привлекать на 30% больше пользователей</td>\n",
       "      <td>3</td>\n",
       "      <td>10</td>\n",
       "      <td>8</td>\n",
       "      <td>6</td>\n",
       "      <td>13.333333</td>\n",
       "    </tr>\n",
       "    <tr>\n",
       "      <th>7</th>\n",
       "      <td>Добавить форму подписки на все основные страницы, чтобы собрать базу клиентов для email-рассылок</td>\n",
       "      <td>10</td>\n",
       "      <td>7</td>\n",
       "      <td>8</td>\n",
       "      <td>5</td>\n",
       "      <td>11.200000</td>\n",
       "    </tr>\n",
       "    <tr>\n",
       "      <th>6</th>\n",
       "      <td>Показать на главной странице баннеры с актуальными акциями и распродажами, чтобы увеличить конверсию</td>\n",
       "      <td>5</td>\n",
       "      <td>3</td>\n",
       "      <td>8</td>\n",
       "      <td>3</td>\n",
       "      <td>8.000000</td>\n",
       "    </tr>\n",
       "    <tr>\n",
       "      <th>2</th>\n",
       "      <td>Добавить блоки рекомендаций товаров на сайт интернет магазина, чтобы повысить конверсию и средний чек заказа</td>\n",
       "      <td>8</td>\n",
       "      <td>3</td>\n",
       "      <td>7</td>\n",
       "      <td>3</td>\n",
       "      <td>7.000000</td>\n",
       "    </tr>\n",
       "    <tr>\n",
       "      <th>1</th>\n",
       "      <td>Запустить собственную службу доставки, что сократит срок доставки заказов</td>\n",
       "      <td>2</td>\n",
       "      <td>5</td>\n",
       "      <td>4</td>\n",
       "      <td>10</td>\n",
       "      <td>2.000000</td>\n",
       "    </tr>\n",
       "    <tr>\n",
       "      <th>5</th>\n",
       "      <td>Добавить страницу отзывов клиентов о магазине, что позволит увеличить количество заказов</td>\n",
       "      <td>3</td>\n",
       "      <td>2</td>\n",
       "      <td>2</td>\n",
       "      <td>3</td>\n",
       "      <td>1.333333</td>\n",
       "    </tr>\n",
       "    <tr>\n",
       "      <th>3</th>\n",
       "      <td>Изменить структура категорий, что увеличит конверсию, т.к. пользователи быстрее найдут нужный товар</td>\n",
       "      <td>8</td>\n",
       "      <td>3</td>\n",
       "      <td>3</td>\n",
       "      <td>8</td>\n",
       "      <td>1.125000</td>\n",
       "    </tr>\n",
       "    <tr>\n",
       "      <th>4</th>\n",
       "      <td>Изменить цвет фона главной страницы, чтобы увеличить вовлеченность пользователей</td>\n",
       "      <td>3</td>\n",
       "      <td>1</td>\n",
       "      <td>1</td>\n",
       "      <td>1</td>\n",
       "      <td>1.000000</td>\n",
       "    </tr>\n",
       "  </tbody>\n",
       "</table>\n",
       "</div>"
      ],
      "text/plain": [
       "                                                                                                     Hypothesis  \\\n",
       "8  Запустить акцию, дающую скидку на товар в день рождения                                                        \n",
       "0  Добавить два новых канала привлечения трафика, что позволит привлекать на 30% больше пользователей             \n",
       "7  Добавить форму подписки на все основные страницы, чтобы собрать базу клиентов для email-рассылок               \n",
       "6  Показать на главной странице баннеры с актуальными акциями и распродажами, чтобы увеличить конверсию           \n",
       "2  Добавить блоки рекомендаций товаров на сайт интернет магазина, чтобы повысить конверсию и средний чек заказа   \n",
       "1  Запустить собственную службу доставки, что сократит срок доставки заказов                                      \n",
       "5  Добавить страницу отзывов клиентов о магазине, что позволит увеличить количество заказов                       \n",
       "3  Изменить структура категорий, что увеличит конверсию, т.к. пользователи быстрее найдут нужный товар            \n",
       "4  Изменить цвет фона главной страницы, чтобы увеличить вовлеченность пользователей                               \n",
       "\n",
       "   Reach  Impact  Confidence  Efforts        ICE  \n",
       "8  1      9       9           5        16.200000  \n",
       "0  3      10      8           6        13.333333  \n",
       "7  10     7       8           5        11.200000  \n",
       "6  5      3       8           3        8.000000   \n",
       "2  8      3       7           3        7.000000   \n",
       "1  2      5       4           10       2.000000   \n",
       "5  3      2       2           3        1.333333   \n",
       "3  8      3       3           8        1.125000   \n",
       "4  3      1       1           1        1.000000   "
      ]
     },
     "execution_count": 3,
     "metadata": {},
     "output_type": "execute_result"
    }
   ],
   "source": [
    "pd.options.display.max_colwidth = 1\n",
    "data['ICE'] = data['Impact'] * data['Confidence'] / data['Efforts']\n",
    "data.sort_values(by='ICE', ascending=False)"
   ]
  },
  {
   "cell_type": "markdown",
   "metadata": {},
   "source": [
    "<b>1.3 Примение фреймворка RICE для приоритизации гипотез</b>"
   ]
  },
  {
   "cell_type": "code",
   "execution_count": 4,
   "metadata": {},
   "outputs": [
    {
     "data": {
      "text/html": [
       "<div>\n",
       "<style scoped>\n",
       "    .dataframe tbody tr th:only-of-type {\n",
       "        vertical-align: middle;\n",
       "    }\n",
       "\n",
       "    .dataframe tbody tr th {\n",
       "        vertical-align: top;\n",
       "    }\n",
       "\n",
       "    .dataframe thead th {\n",
       "        text-align: right;\n",
       "    }\n",
       "</style>\n",
       "<table border=\"1\" class=\"dataframe\">\n",
       "  <thead>\n",
       "    <tr style=\"text-align: right;\">\n",
       "      <th></th>\n",
       "      <th>Hypothesis</th>\n",
       "      <th>Reach</th>\n",
       "      <th>Impact</th>\n",
       "      <th>Confidence</th>\n",
       "      <th>Efforts</th>\n",
       "      <th>ICE</th>\n",
       "      <th>RICE</th>\n",
       "    </tr>\n",
       "  </thead>\n",
       "  <tbody>\n",
       "    <tr>\n",
       "      <th>7</th>\n",
       "      <td>Добавить форму подписки на все основные страницы, чтобы собрать базу клиентов для email-рассылок</td>\n",
       "      <td>10</td>\n",
       "      <td>7</td>\n",
       "      <td>8</td>\n",
       "      <td>5</td>\n",
       "      <td>11.200000</td>\n",
       "      <td>112.0</td>\n",
       "    </tr>\n",
       "    <tr>\n",
       "      <th>2</th>\n",
       "      <td>Добавить блоки рекомендаций товаров на сайт интернет магазина, чтобы повысить конверсию и средний чек заказа</td>\n",
       "      <td>8</td>\n",
       "      <td>3</td>\n",
       "      <td>7</td>\n",
       "      <td>3</td>\n",
       "      <td>7.000000</td>\n",
       "      <td>56.0</td>\n",
       "    </tr>\n",
       "    <tr>\n",
       "      <th>0</th>\n",
       "      <td>Добавить два новых канала привлечения трафика, что позволит привлекать на 30% больше пользователей</td>\n",
       "      <td>3</td>\n",
       "      <td>10</td>\n",
       "      <td>8</td>\n",
       "      <td>6</td>\n",
       "      <td>13.333333</td>\n",
       "      <td>40.0</td>\n",
       "    </tr>\n",
       "    <tr>\n",
       "      <th>6</th>\n",
       "      <td>Показать на главной странице баннеры с актуальными акциями и распродажами, чтобы увеличить конверсию</td>\n",
       "      <td>5</td>\n",
       "      <td>3</td>\n",
       "      <td>8</td>\n",
       "      <td>3</td>\n",
       "      <td>8.000000</td>\n",
       "      <td>40.0</td>\n",
       "    </tr>\n",
       "    <tr>\n",
       "      <th>8</th>\n",
       "      <td>Запустить акцию, дающую скидку на товар в день рождения</td>\n",
       "      <td>1</td>\n",
       "      <td>9</td>\n",
       "      <td>9</td>\n",
       "      <td>5</td>\n",
       "      <td>16.200000</td>\n",
       "      <td>16.2</td>\n",
       "    </tr>\n",
       "    <tr>\n",
       "      <th>3</th>\n",
       "      <td>Изменить структура категорий, что увеличит конверсию, т.к. пользователи быстрее найдут нужный товар</td>\n",
       "      <td>8</td>\n",
       "      <td>3</td>\n",
       "      <td>3</td>\n",
       "      <td>8</td>\n",
       "      <td>1.125000</td>\n",
       "      <td>9.0</td>\n",
       "    </tr>\n",
       "    <tr>\n",
       "      <th>1</th>\n",
       "      <td>Запустить собственную службу доставки, что сократит срок доставки заказов</td>\n",
       "      <td>2</td>\n",
       "      <td>5</td>\n",
       "      <td>4</td>\n",
       "      <td>10</td>\n",
       "      <td>2.000000</td>\n",
       "      <td>4.0</td>\n",
       "    </tr>\n",
       "    <tr>\n",
       "      <th>5</th>\n",
       "      <td>Добавить страницу отзывов клиентов о магазине, что позволит увеличить количество заказов</td>\n",
       "      <td>3</td>\n",
       "      <td>2</td>\n",
       "      <td>2</td>\n",
       "      <td>3</td>\n",
       "      <td>1.333333</td>\n",
       "      <td>4.0</td>\n",
       "    </tr>\n",
       "    <tr>\n",
       "      <th>4</th>\n",
       "      <td>Изменить цвет фона главной страницы, чтобы увеличить вовлеченность пользователей</td>\n",
       "      <td>3</td>\n",
       "      <td>1</td>\n",
       "      <td>1</td>\n",
       "      <td>1</td>\n",
       "      <td>1.000000</td>\n",
       "      <td>3.0</td>\n",
       "    </tr>\n",
       "  </tbody>\n",
       "</table>\n",
       "</div>"
      ],
      "text/plain": [
       "                                                                                                     Hypothesis  \\\n",
       "7  Добавить форму подписки на все основные страницы, чтобы собрать базу клиентов для email-рассылок               \n",
       "2  Добавить блоки рекомендаций товаров на сайт интернет магазина, чтобы повысить конверсию и средний чек заказа   \n",
       "0  Добавить два новых канала привлечения трафика, что позволит привлекать на 30% больше пользователей             \n",
       "6  Показать на главной странице баннеры с актуальными акциями и распродажами, чтобы увеличить конверсию           \n",
       "8  Запустить акцию, дающую скидку на товар в день рождения                                                        \n",
       "3  Изменить структура категорий, что увеличит конверсию, т.к. пользователи быстрее найдут нужный товар            \n",
       "1  Запустить собственную службу доставки, что сократит срок доставки заказов                                      \n",
       "5  Добавить страницу отзывов клиентов о магазине, что позволит увеличить количество заказов                       \n",
       "4  Изменить цвет фона главной страницы, чтобы увеличить вовлеченность пользователей                               \n",
       "\n",
       "   Reach  Impact  Confidence  Efforts        ICE   RICE  \n",
       "7  10     7       8           5        11.200000  112.0  \n",
       "2  8      3       7           3        7.000000   56.0   \n",
       "0  3      10      8           6        13.333333  40.0   \n",
       "6  5      3       8           3        8.000000   40.0   \n",
       "8  1      9       9           5        16.200000  16.2   \n",
       "3  8      3       3           8        1.125000   9.0    \n",
       "1  2      5       4           10       2.000000   4.0    \n",
       "5  3      2       2           3        1.333333   4.0    \n",
       "4  3      1       1           1        1.000000   3.0    "
      ]
     },
     "execution_count": 4,
     "metadata": {},
     "output_type": "execute_result"
    }
   ],
   "source": [
    "pd.options.display.max_colwidth = 1\n",
    "data['RICE'] = data['Impact'] * data['Reach'] * data['Confidence'] / data['Efforts']\n",
    "data.sort_values(by='RICE', ascending=False)"
   ]
  },
  {
   "cell_type": "markdown",
   "metadata": {},
   "source": [
    "<b>1.4 Выводы по результатам ICE и RICE</b>\n",
    "- При изменени используемого фреймворка с ICE на RICE изменилась приоретизация гипотез. Наиболее приоритетной гипотезой является Добавление формы подписки. Так произошло потому, что RICE учитывает затраты на рекламу и ее эффективность"
   ]
  },
  {
   "cell_type": "markdown",
   "metadata": {},
   "source": [
    "<b>Часть 2. Анализ A/B-теста</b>"
   ]
  },
  {
   "cell_type": "markdown",
   "metadata": {},
   "source": [
    "<b>2.1 Подготовка данных</b>"
   ]
  },
  {
   "cell_type": "code",
   "execution_count": 5,
   "metadata": {},
   "outputs": [
    {
     "data": {
      "text/html": [
       "<div>\n",
       "<style scoped>\n",
       "    .dataframe tbody tr th:only-of-type {\n",
       "        vertical-align: middle;\n",
       "    }\n",
       "\n",
       "    .dataframe tbody tr th {\n",
       "        vertical-align: top;\n",
       "    }\n",
       "\n",
       "    .dataframe thead th {\n",
       "        text-align: right;\n",
       "    }\n",
       "</style>\n",
       "<table border=\"1\" class=\"dataframe\">\n",
       "  <thead>\n",
       "    <tr style=\"text-align: right;\">\n",
       "      <th></th>\n",
       "      <th>transactionId</th>\n",
       "      <th>visitorId</th>\n",
       "      <th>date</th>\n",
       "      <th>revenue</th>\n",
       "      <th>group</th>\n",
       "    </tr>\n",
       "  </thead>\n",
       "  <tbody>\n",
       "    <tr>\n",
       "      <th>0</th>\n",
       "      <td>3667963787</td>\n",
       "      <td>3312258926</td>\n",
       "      <td>2019-08-15</td>\n",
       "      <td>1650</td>\n",
       "      <td>B</td>\n",
       "    </tr>\n",
       "    <tr>\n",
       "      <th>1</th>\n",
       "      <td>2804400009</td>\n",
       "      <td>3642806036</td>\n",
       "      <td>2019-08-15</td>\n",
       "      <td>730</td>\n",
       "      <td>B</td>\n",
       "    </tr>\n",
       "    <tr>\n",
       "      <th>2</th>\n",
       "      <td>2961555356</td>\n",
       "      <td>4069496402</td>\n",
       "      <td>2019-08-15</td>\n",
       "      <td>400</td>\n",
       "      <td>A</td>\n",
       "    </tr>\n",
       "    <tr>\n",
       "      <th>3</th>\n",
       "      <td>3797467345</td>\n",
       "      <td>1196621759</td>\n",
       "      <td>2019-08-15</td>\n",
       "      <td>9759</td>\n",
       "      <td>B</td>\n",
       "    </tr>\n",
       "    <tr>\n",
       "      <th>4</th>\n",
       "      <td>2282983706</td>\n",
       "      <td>2322279887</td>\n",
       "      <td>2019-08-15</td>\n",
       "      <td>2308</td>\n",
       "      <td>B</td>\n",
       "    </tr>\n",
       "    <tr>\n",
       "      <th>...</th>\n",
       "      <td>...</td>\n",
       "      <td>...</td>\n",
       "      <td>...</td>\n",
       "      <td>...</td>\n",
       "      <td>...</td>\n",
       "    </tr>\n",
       "    <tr>\n",
       "      <th>1192</th>\n",
       "      <td>2662137336</td>\n",
       "      <td>3733762160</td>\n",
       "      <td>2019-08-14</td>\n",
       "      <td>6490</td>\n",
       "      <td>B</td>\n",
       "    </tr>\n",
       "    <tr>\n",
       "      <th>1193</th>\n",
       "      <td>2203539145</td>\n",
       "      <td>370388673</td>\n",
       "      <td>2019-08-14</td>\n",
       "      <td>3190</td>\n",
       "      <td>A</td>\n",
       "    </tr>\n",
       "    <tr>\n",
       "      <th>1194</th>\n",
       "      <td>1807773912</td>\n",
       "      <td>573423106</td>\n",
       "      <td>2019-08-14</td>\n",
       "      <td>10550</td>\n",
       "      <td>A</td>\n",
       "    </tr>\n",
       "    <tr>\n",
       "      <th>1195</th>\n",
       "      <td>1947021204</td>\n",
       "      <td>1614305549</td>\n",
       "      <td>2019-08-14</td>\n",
       "      <td>100</td>\n",
       "      <td>A</td>\n",
       "    </tr>\n",
       "    <tr>\n",
       "      <th>1196</th>\n",
       "      <td>3936777065</td>\n",
       "      <td>2108080724</td>\n",
       "      <td>2019-08-15</td>\n",
       "      <td>202740</td>\n",
       "      <td>B</td>\n",
       "    </tr>\n",
       "  </tbody>\n",
       "</table>\n",
       "<p>1197 rows × 5 columns</p>\n",
       "</div>"
      ],
      "text/plain": [
       "      transactionId   visitorId       date  revenue group\n",
       "0     3667963787     3312258926 2019-08-15  1650     B   \n",
       "1     2804400009     3642806036 2019-08-15  730      B   \n",
       "2     2961555356     4069496402 2019-08-15  400      A   \n",
       "3     3797467345     1196621759 2019-08-15  9759     B   \n",
       "4     2282983706     2322279887 2019-08-15  2308     B   \n",
       "...          ...            ...        ...   ...    ..   \n",
       "1192  2662137336     3733762160 2019-08-14  6490     B   \n",
       "1193  2203539145     370388673  2019-08-14  3190     A   \n",
       "1194  1807773912     573423106  2019-08-14  10550    A   \n",
       "1195  1947021204     1614305549 2019-08-14  100      A   \n",
       "1196  3936777065     2108080724 2019-08-15  202740   B   \n",
       "\n",
       "[1197 rows x 5 columns]"
      ]
     },
     "execution_count": 5,
     "metadata": {},
     "output_type": "execute_result"
    }
   ],
   "source": [
    "orders = pd.read_csv('/datasets/orders.csv')\n",
    "orders['date'] = pd.to_datetime(orders['date'], format='%Y.%m.%d')\n",
    "orders"
   ]
  },
  {
   "cell_type": "code",
   "execution_count": 6,
   "metadata": {},
   "outputs": [
    {
     "data": {
      "text/html": [
       "<div>\n",
       "<style scoped>\n",
       "    .dataframe tbody tr th:only-of-type {\n",
       "        vertical-align: middle;\n",
       "    }\n",
       "\n",
       "    .dataframe tbody tr th {\n",
       "        vertical-align: top;\n",
       "    }\n",
       "\n",
       "    .dataframe thead th {\n",
       "        text-align: right;\n",
       "    }\n",
       "</style>\n",
       "<table border=\"1\" class=\"dataframe\">\n",
       "  <thead>\n",
       "    <tr style=\"text-align: right;\">\n",
       "      <th></th>\n",
       "      <th>date</th>\n",
       "      <th>group</th>\n",
       "      <th>visitors</th>\n",
       "    </tr>\n",
       "  </thead>\n",
       "  <tbody>\n",
       "    <tr>\n",
       "      <th>0</th>\n",
       "      <td>2019-08-01</td>\n",
       "      <td>A</td>\n",
       "      <td>719</td>\n",
       "    </tr>\n",
       "    <tr>\n",
       "      <th>1</th>\n",
       "      <td>2019-08-02</td>\n",
       "      <td>A</td>\n",
       "      <td>619</td>\n",
       "    </tr>\n",
       "    <tr>\n",
       "      <th>2</th>\n",
       "      <td>2019-08-03</td>\n",
       "      <td>A</td>\n",
       "      <td>507</td>\n",
       "    </tr>\n",
       "    <tr>\n",
       "      <th>3</th>\n",
       "      <td>2019-08-04</td>\n",
       "      <td>A</td>\n",
       "      <td>717</td>\n",
       "    </tr>\n",
       "    <tr>\n",
       "      <th>4</th>\n",
       "      <td>2019-08-05</td>\n",
       "      <td>A</td>\n",
       "      <td>756</td>\n",
       "    </tr>\n",
       "    <tr>\n",
       "      <th>...</th>\n",
       "      <td>...</td>\n",
       "      <td>...</td>\n",
       "      <td>...</td>\n",
       "    </tr>\n",
       "    <tr>\n",
       "      <th>57</th>\n",
       "      <td>2019-08-27</td>\n",
       "      <td>B</td>\n",
       "      <td>720</td>\n",
       "    </tr>\n",
       "    <tr>\n",
       "      <th>58</th>\n",
       "      <td>2019-08-28</td>\n",
       "      <td>B</td>\n",
       "      <td>654</td>\n",
       "    </tr>\n",
       "    <tr>\n",
       "      <th>59</th>\n",
       "      <td>2019-08-29</td>\n",
       "      <td>B</td>\n",
       "      <td>531</td>\n",
       "    </tr>\n",
       "    <tr>\n",
       "      <th>60</th>\n",
       "      <td>2019-08-30</td>\n",
       "      <td>B</td>\n",
       "      <td>490</td>\n",
       "    </tr>\n",
       "    <tr>\n",
       "      <th>61</th>\n",
       "      <td>2019-08-31</td>\n",
       "      <td>B</td>\n",
       "      <td>718</td>\n",
       "    </tr>\n",
       "  </tbody>\n",
       "</table>\n",
       "<p>62 rows × 3 columns</p>\n",
       "</div>"
      ],
      "text/plain": [
       "         date group  visitors\n",
       "0  2019-08-01  A     719     \n",
       "1  2019-08-02  A     619     \n",
       "2  2019-08-03  A     507     \n",
       "3  2019-08-04  A     717     \n",
       "4  2019-08-05  A     756     \n",
       "..        ... ..     ...     \n",
       "57 2019-08-27  B     720     \n",
       "58 2019-08-28  B     654     \n",
       "59 2019-08-29  B     531     \n",
       "60 2019-08-30  B     490     \n",
       "61 2019-08-31  B     718     \n",
       "\n",
       "[62 rows x 3 columns]"
      ]
     },
     "execution_count": 6,
     "metadata": {},
     "output_type": "execute_result"
    }
   ],
   "source": [
    "visitors = pd.read_csv('/datasets/visitors.csv')\n",
    "visitors['date'] = pd.to_datetime(visitors['date'], format='%Y.%m.%d')\n",
    "visitors"
   ]
  },
  {
   "cell_type": "code",
   "execution_count": 7,
   "metadata": {},
   "outputs": [
    {
     "data": {
      "text/plain": [
       "0"
      ]
     },
     "execution_count": 7,
     "metadata": {},
     "output_type": "execute_result"
    }
   ],
   "source": [
    "orders.duplicated().sum()"
   ]
  },
  {
   "cell_type": "code",
   "execution_count": 8,
   "metadata": {},
   "outputs": [
    {
     "data": {
      "text/plain": [
       "transactionId    0\n",
       "visitorId        0\n",
       "date             0\n",
       "revenue          0\n",
       "group            0\n",
       "dtype: int64"
      ]
     },
     "execution_count": 8,
     "metadata": {},
     "output_type": "execute_result"
    }
   ],
   "source": [
    "orders.isna().sum()"
   ]
  },
  {
   "cell_type": "code",
   "execution_count": 9,
   "metadata": {},
   "outputs": [
    {
     "data": {
      "text/plain": [
       "visitorId    58\n",
       "group        58\n",
       "dtype: int64"
      ]
     },
     "execution_count": 9,
     "metadata": {},
     "output_type": "execute_result"
    }
   ],
   "source": [
    "tmp = orders.groupby('visitorId',as_index = False).agg({'group':'nunique'})\n",
    "tmp[tmp['group']>1].count()"
   ]
  },
  {
   "cell_type": "code",
   "execution_count": 10,
   "metadata": {},
   "outputs": [
    {
     "name": "stdout",
     "output_type": "stream",
     "text": [
      "<class 'pandas.core.frame.DataFrame'>\n",
      "Int64Index: 1016 entries, 0 to 1196\n",
      "Data columns (total 5 columns):\n",
      " #   Column         Non-Null Count  Dtype         \n",
      "---  ------         --------------  -----         \n",
      " 0   transactionId  1016 non-null   int64         \n",
      " 1   visitorId      1016 non-null   int64         \n",
      " 2   date           1016 non-null   datetime64[ns]\n",
      " 3   revenue        1016 non-null   int64         \n",
      " 4   group          1016 non-null   object        \n",
      "dtypes: datetime64[ns](1), int64(3), object(1)\n",
      "memory usage: 47.6+ KB\n"
     ]
    }
   ],
   "source": [
    "tmp = tmp[tmp['group']>1]\n",
    "tmp = tmp['visitorId']\n",
    "orders = orders.query('visitorId not in @tmp')\n",
    "#orders = orders.drop_duplicates(subset=['visitorId','group'],keep = False).reset_index(drop=True)\n",
    "orders.info()"
   ]
  },
  {
   "cell_type": "code",
   "execution_count": 11,
   "metadata": {},
   "outputs": [
    {
     "data": {
      "text/plain": [
       "0"
      ]
     },
     "execution_count": 11,
     "metadata": {},
     "output_type": "execute_result"
    }
   ],
   "source": [
    "visitors.duplicated().sum()"
   ]
  },
  {
   "cell_type": "code",
   "execution_count": 12,
   "metadata": {},
   "outputs": [
    {
     "data": {
      "text/plain": [
       "date        0\n",
       "group       0\n",
       "visitors    0\n",
       "dtype: int64"
      ]
     },
     "execution_count": 12,
     "metadata": {},
     "output_type": "execute_result"
    }
   ],
   "source": [
    "visitors.isna().sum()"
   ]
  },
  {
   "cell_type": "markdown",
   "metadata": {},
   "source": [
    "<b>2.2 Построение графика кумулятивной выручки по группам. Формулирование выводов и предположений.</b>"
   ]
  },
  {
   "cell_type": "code",
   "execution_count": 13,
   "metadata": {},
   "outputs": [
    {
     "data": {
      "image/png": "[encoded data removed]",
      "text/plain": [
       "<Figure size 432x288 with 1 Axes>"
      ]
     },
     "metadata": {
      "needs_background": "light"
     },
     "output_type": "display_data"
    }
   ],
   "source": [
    "datesGroups = orders[['date', 'group']].drop_duplicates()\n",
    "ordersAggregated = datesGroups.apply(lambda x: orders[\n",
    "        np.logical_and(orders['date'] <= x['date'], orders['group'] == x['group'])\n",
    "        ].agg({'date': 'max','group': 'max','transactionId': 'nunique','visitorId': 'nunique','revenue': 'sum'}),axis=1,\n",
    "        ).sort_values(by=['date', 'group'])\n",
    "\n",
    "ordersAggregatedA = ordersAggregated[ordersAggregated['group'] == 'A']\n",
    "ordersAggregatedB = ordersAggregated[ordersAggregated['group'] == 'B']\n",
    "\n",
    "plt.plot(ordersAggregatedA['date'],ordersAggregatedA['revenue'],color = 'r',label = 'Группа А')\n",
    "plt.plot(ordersAggregatedB['date'],ordersAggregatedB['revenue'],color = 'g',label = 'Группа Б')\n",
    "plt.rcParams[\"figure.figsize\"] = [13, 13]\n",
    "plt.xticks(rotation = 90)\n",
    "plt.xlabel(\"Дата\")\n",
    "plt.ylabel(\"Выручка\")\n",
    "plt.title(\"Кумулятивная выручка по группам\")\n",
    "plt.show()"
   ]
  },
  {
   "cell_type": "markdown",
   "metadata": {},
   "source": [
    "<b>Исходя из графика можно сделать выводы:</b>\n",
    "- До серидины августа динамика роста прибыли различалась слабо, но в середине месяца прибыль от Группы Б сильно возросла\n"
   ]
  },
  {
   "cell_type": "markdown",
   "metadata": {},
   "source": [
    "<b>2.3 Построение графика кумулятивного среднего чека по группам. Формулирование выводов и предположений.</b>"
   ]
  },
  {
   "cell_type": "code",
   "execution_count": 14,
   "metadata": {},
   "outputs": [
    {
     "data": {
      "image/png": "[encoded data removed]",
      "text/plain": [
       "<Figure size 936x936 with 1 Axes>"
      ]
     },
     "metadata": {
      "needs_background": "light"
     },
     "output_type": "display_data"
    }
   ],
   "source": [
    "datesGroups = orders[['date', 'group']].drop_duplicates()\n",
    "ordersAggregated = datesGroups.apply(lambda x: orders[\n",
    "        np.logical_and(orders['date'] <= x['date'], orders['group'] == x['group'])\n",
    "        ].agg({'date': 'max','group': 'max','transactionId': 'nunique','visitorId': 'nunique','revenue': 'mean'}),axis=1,\n",
    "        ).sort_values(by=['date', 'group'])\n",
    "\n",
    "ordersAggregatedA = ordersAggregated[ordersAggregated['group'] == 'A']\n",
    "ordersAggregatedB = ordersAggregated[ordersAggregated['group'] == 'B']\n",
    "\n",
    "plt.plot(ordersAggregatedA['date'],ordersAggregatedA['revenue'],color = 'r',label = 'Группа А')\n",
    "plt.plot(ordersAggregatedB['date'],ordersAggregatedB['revenue'],color = 'g',label = 'Группа Б')\n",
    "plt.rcParams[\"figure.figsize\"] = [13, 13]\n",
    "plt.xticks(rotation = 90)\n",
    "plt.xlabel(\"Дата\")\n",
    "plt.ylabel(\"Сумма чека\")\n",
    "plt.title(\"Кумулятивный средний чек по группам\")\n",
    "plt.show()"
   ]
  },
  {
   "cell_type": "markdown",
   "metadata": {},
   "source": [
    "<b>Исходя из графика можно сделать выводы:</b>\n",
    "- До серидины августа динамика роста среднего чека в Группе Б была лучше, чем в Группе А.\n",
    "- На этом графике так же можно увидеть резкий значительный рост среднего чека Группы Б в середине месяца\n",
    "- Резкий рост показателя в Группе Б может быть связан с увеличением рекламного бюджета"
   ]
  },
  {
   "cell_type": "markdown",
   "metadata": {},
   "source": [
    "<b>2.4 Построение графика относительного изменения кумулятивного среднего чека группы B к группе A. Формулирование выводов и предположений</b>"
   ]
  },
  {
   "cell_type": "code",
   "execution_count": 15,
   "metadata": {},
   "outputs": [
    {
     "data": {
      "image/png": "[encoded data removed]",
      "text/plain": [
       "<Figure size 936x936 with 1 Axes>"
      ]
     },
     "metadata": {
      "needs_background": "light"
     },
     "output_type": "display_data"
    }
   ],
   "source": [
    "mergedCumulativeCheck = ordersAggregatedA[['date','revenue']].merge(ordersAggregatedB[['date','revenue']], left_on='date', right_on='date', how='left', suffixes=['A', 'B'])\n",
    "\n",
    "plt.plot(mergedCumulativeCheck['date'], mergedCumulativeCheck['revenueB']/mergedCumulativeCheck['revenueA'], label=\"Относительные изменения кумулятивного среднего чека группы B к группе A\")\n",
    "plt.legend()\n",
    "plt.xticks(rotation = 90)\n",
    "plt.xlabel(\"Дата\")\n",
    "plt.ylabel(\"Разница в сумме чека\")\n",
    "plt.show()"
   ]
  },
  {
   "cell_type": "markdown",
   "metadata": {},
   "source": [
    "<b>Исходя из графика можно сделать выводы:</b>\n",
    "- 13.08 различия были минимальны, в остальное время средние чеки сильно различались"
   ]
  },
  {
   "cell_type": "markdown",
   "metadata": {},
   "source": [
    "<b>2.5 Построение графика кумулятивного среднего количества заказов на посетителя по группам. Формулирование выводов и предположений.</b>"
   ]
  },
  {
   "cell_type": "code",
   "execution_count": 16,
   "metadata": {},
   "outputs": [
    {
     "data": {
      "image/png": "[encoded data removed]",
      "text/plain": [
       "<Figure size 936x936 with 1 Axes>"
      ]
     },
     "metadata": {
      "needs_background": "light"
     },
     "output_type": "display_data"
    }
   ],
   "source": [
    "ordersAggregated = datesGroups.apply(lambda x: orders[\n",
    "        np.logical_and(orders['date'] <= x['date'], orders['group'] == x['group'])\n",
    "        ].agg({'date': 'max','group': 'max','transactionId': 'nunique','visitorId': 'nunique','revenue': 'count'}),axis=1,\n",
    "        ).sort_values(by=['date', 'group'])\n",
    "\n",
    "visitorsAggregated = datesGroups.apply(lambda x: visitors[np.logical_and(visitors['date'] <= x['date'],\n",
    "visitors['group'] == x['group'])].agg({'date': 'max', 'group': 'max', 'visitors': 'sum'}),axis=1,\n",
    ").sort_values(by=['date', 'group'])\n",
    "\n",
    "cumulativeData = ordersAggregated.merge(\n",
    "    visitorsAggregated, left_on=['date', 'group'], right_on=['date', 'group'])\n",
    "\n",
    "cumulativeData['commulative'] = cumulativeData['revenue']/cumulativeData['visitors']\n",
    "\n",
    "ordersAggregatedA = cumulativeData[cumulativeData['group'] == 'A']\n",
    "ordersAggregatedB = cumulativeData[cumulativeData['group'] == 'B']\n",
    "\n",
    "plt.plot(ordersAggregatedA['date'],ordersAggregatedA['commulative'],color = 'r',label = 'Группа А')\n",
    "plt.plot(ordersAggregatedB['date'],ordersAggregatedB['commulative'],color = 'g',label = 'Группа Б')\n",
    "plt.rcParams[\"figure.figsize\"] = [13, 13]\n",
    "plt.xlabel(\"Дата\")\n",
    "plt.ylabel(\"Количевство заказов\")\n",
    "plt.title(\"Кумулятивное среднее количество заказов на посетителя по группам\")\n",
    "plt.xticks(rotation = 90)\n",
    "plt.show()"
   ]
  },
  {
   "cell_type": "markdown",
   "metadata": {},
   "source": [
    "<b>Исходя из графика можно сделать выводы:</b>\n",
    "- На графике видно, что среднее количество заказов на посетителя изначально было выше в группе А, но затем упало, а в группе Б возрасло\n",
    "- В обеих группах среднее постепенно снижается, но в Группе Б оно значительно больше"
   ]
  },
  {
   "cell_type": "markdown",
   "metadata": {},
   "source": [
    "<b>2.6 Построение графика относительного изменения кумулятивного среднего количества заказов на посетителя группы B к группе A. Формирование выводов и предположений.</b>"
   ]
  },
  {
   "cell_type": "code",
   "execution_count": 17,
   "metadata": {},
   "outputs": [
    {
     "data": {
      "image/png": "[encoded data removed]",
      "text/plain": [
       "<Figure size 936x936 with 1 Axes>"
      ]
     },
     "metadata": {
      "needs_background": "light"
     },
     "output_type": "display_data"
    }
   ],
   "source": [
    "mergedCumulativeСount = ordersAggregatedA[['date','commulative']].merge(ordersAggregatedB[['date','commulative']], left_on='date', right_on='date', how='left', suffixes=['A', 'B'])\n",
    "\n",
    "plt.plot(mergedCumulativeСount['date'], mergedCumulativeСount['commulativeB']/mergedCumulativeСount['commulativeA'], label=\"Относительные изменения кумулятивного среднего количества числа заказов группы B к группе A\")\n",
    "plt.legend()\n",
    "plt.xlabel(\"Дата\")\n",
    "plt.ylabel(\"Изменение среднего количества заказов\")\n",
    "plt.xticks(rotation = 90)\n",
    "plt.show()"
   ]
  },
  {
   "cell_type": "markdown",
   "metadata": {},
   "source": [
    "<b>Исходя из графика можно сделать выводы:</b>\n",
    "- На графике не видно, что разница в числе заказов между группами сильно возростала 5 августа и была очень высокой на протяжении всего исследования"
   ]
  },
  {
   "cell_type": "markdown",
   "metadata": {},
   "source": [
    "<b>2.7 Построение точечного графика количества заказов по пользователям. Формирование выводов и предположений.</b>"
   ]
  },
  {
   "cell_type": "code",
   "execution_count": 18,
   "metadata": {},
   "outputs": [
    {
     "data": {
      "image/png": "[encoded data removed]",
      "text/plain": [
       "<Figure size 936x936 with 1 Axes>"
      ]
     },
     "metadata": {
      "needs_background": "light"
     },
     "output_type": "display_data"
    }
   ],
   "source": [
    "ordersByUsers = orders.groupby('visitorId',as_index = False).agg({'transactionId':'nunique'})\n",
    "x_values = pd.Series(range(0, len(ordersByUsers)))\n",
    "plt.scatter(x=x_values,y=ordersByUsers['transactionId'])\n",
    "plt.xlabel(\"Дата\")\n",
    "plt.ylabel(\"Количество заказов\")\n",
    "plt.title(\"Количество заказов по пользователям\")\n",
    "plt.show()"
   ]
  },
  {
   "cell_type": "markdown",
   "metadata": {},
   "source": [
    "<b>Исходя из графика можно сделать выводы:</b>\n",
    "- Подавляющее число пользователей сделали всего 1 заказ\n",
    "- Больше 2 заказов делали очень мало пользователей"
   ]
  },
  {
   "cell_type": "markdown",
   "metadata": {},
   "source": [
    "<b>2.8 Подсчет 95-ого и 99-ого перцентиля количества заказов на пользователя. Выбор границы для определения аномальных пользователей.</b>"
   ]
  },
  {
   "cell_type": "code",
   "execution_count": 19,
   "metadata": {},
   "outputs": [
    {
     "name": "stdout",
     "output_type": "stream",
     "text": [
      "[1 2]\n"
     ]
    }
   ],
   "source": [
    "perc = np.percentile(ordersByUsers['transactionId'],[95, 99])\n",
    "print(perc.astype('int'))"
   ]
  },
  {
   "cell_type": "markdown",
   "metadata": {},
   "source": [
    "<b>2.9 Построение точечного графика стоимостей заказов. Формирование выводов и предположений.</b>"
   ]
  },
  {
   "cell_type": "code",
   "execution_count": 20,
   "metadata": {},
   "outputs": [
    {
     "data": {
      "image/png": "[encoded data removed]",
      "text/plain": [
       "<Figure size 936x936 with 1 Axes>"
      ]
     },
     "metadata": {
      "needs_background": "light"
     },
     "output_type": "display_data"
    }
   ],
   "source": [
    "ordersByCost = orders.groupby('transactionId',as_index = False).agg({'revenue':'sum'})\n",
    "x_values = pd.Series(range(0, len(ordersByCost)))\n",
    "plt.ylim([0, 90000])\n",
    "plt.scatter(x=x_values,y=ordersByCost['revenue'])\n",
    "plt.xlabel(\"Даты\")\n",
    "plt.ylabel(\"Выручка\")\n",
    "plt.title(\"Кумулятивная выручка по группам\")\n",
    "plt.show()"
   ]
  },
  {
   "cell_type": "markdown",
   "metadata": {},
   "source": [
    "<b>Исходя из графика можно сделать выводы:</b>\n",
    "- Подавляющее число заказов менее 10000"
   ]
  },
  {
   "cell_type": "markdown",
   "metadata": {},
   "source": [
    "<b>2.10 Подсчет 95-ого и 99-ого перцентилей стоимости заказов. Выбор границы для определения аномальных заказов.</b>"
   ]
  },
  {
   "cell_type": "code",
   "execution_count": 21,
   "metadata": {},
   "outputs": [
    {
     "name": "stdout",
     "output_type": "stream",
     "text": [
      "[26785 53904]\n"
     ]
    }
   ],
   "source": [
    "perc2 = np.percentile(ordersByCost['revenue'],[95, 99])\n",
    "print(perc2.astype('int'))"
   ]
  },
  {
   "cell_type": "markdown",
   "metadata": {},
   "source": [
    "<b>2.11 Подсчет статистической значимости различий в среднем количестве заказов на посетителя между группами по «сырым» данным. Формирование выводов и предположений.</b>"
   ]
  },
  {
   "cell_type": "markdown",
   "metadata": {},
   "source": [
    "<b>Гипотезы </b>\n",
    "- H0: Разницы между группами нет\n",
    "- H1: Разница между группами есть\n",
    "- Гипотеза будет проверяться тестом Манна-Уитни со статистической значимостью - 5%"
   ]
  },
  {
   "cell_type": "code",
   "execution_count": 22,
   "metadata": {
    "scrolled": true
   },
   "outputs": [],
   "source": [
    "vpdA = visitors[visitors['group']=='A']#.groupby('date').agg({'visitorId':'nunique'})\n",
    "vpdB = visitors[visitors['group']=='B']#.groupby('date').agg({'visitorId':'nunique'})\n",
    "#vpdB"
   ]
  },
  {
   "cell_type": "code",
   "execution_count": 23,
   "metadata": {},
   "outputs": [
    {
     "name": "stdout",
     "output_type": "stream",
     "text": [
      "0.01102\n",
      "0.160\n"
     ]
    }
   ],
   "source": [
    "ordersByUsersA = (\n",
    "    orders[orders['group'] == 'A']\n",
    "    .groupby('visitorId', as_index=False)\n",
    "    .agg({'transactionId': pd.Series.nunique})\n",
    ")\n",
    "ordersByUsersA.columns = ['visitorId', 'orders']\n",
    "\n",
    "ordersByUsersB = (\n",
    "    orders[orders['group'] == 'B']\n",
    "    .groupby('visitorId', as_index=False)\n",
    "    .agg({'transactionId': pd.Series.nunique})\n",
    ")\n",
    "ordersByUsersB.columns = ['visitorId', 'orders']\n",
    "\n",
    "sampleA = pd.concat(\n",
    "    [\n",
    "        ordersByUsersA['orders'],\n",
    "        pd.Series(\n",
    "            0,\n",
    "            index=np.arange(\n",
    "                vpdA['visitors'].sum() - len(ordersByUsersA['orders'])\n",
    "            ),\n",
    "            name='orders',\n",
    "        ),\n",
    "    ],\n",
    "    axis=0,\n",
    ")\n",
    "\n",
    "sampleB = pd.concat(\n",
    "    [\n",
    "        ordersByUsersB['orders'],\n",
    "        pd.Series(\n",
    "            0,\n",
    "            index=np.arange(\n",
    "                vpdB['visitors'].sum() - len(ordersByUsersB['orders'])\n",
    "            ),\n",
    "            name='orders',\n",
    "        ),\n",
    "    ],\n",
    "    axis=0,\n",
    ")\n",
    "\n",
    "print(\"{0:.5f}\".format(stats.mannwhitneyu(sampleA, sampleB)[1]))\n",
    "print(\"{0:.3f}\".format(sampleB.mean() / sampleA.mean() - 1))"
   ]
  },
  {
   "cell_type": "markdown",
   "metadata": {},
   "source": [
    "<b>Вывод: </b>Исходя из анализа сырых даных можно сделать вывод о том, что P-value ниже 0.5, значит что статистичесская значимость разницы между группами существенная"
   ]
  },
  {
   "cell_type": "markdown",
   "metadata": {},
   "source": [
    "<b>2.12 Подсчет статистической значимости различий в среднем чеке заказа между группами по «сырым» данным. Формирование выводов и предположений</b>"
   ]
  },
  {
   "cell_type": "code",
   "execution_count": 25,
   "metadata": {},
   "outputs": [
    {
     "name": "stdout",
     "output_type": "stream",
     "text": [
      "0.829\n",
      "0.287\n"
     ]
    }
   ],
   "source": [
    "print('{0:.3f}'.format(stats.mannwhitneyu(orders[orders['group']=='A']['revenue'], orders[orders['group']=='B']['revenue'])[1]))\n",
    "print('{0:.3f}'.format(orders[orders['group']=='B']['revenue'].mean()/orders[orders['group']=='A']['revenue'].mean()-1))"
   ]
  },
  {
   "cell_type": "markdown",
   "metadata": {},
   "source": [
    "<b>Вывод: </b> Исходя из анализа сырых даных можно сделать вывод о том, что P-value ,меньше 0.5, значит что статистичесская значимость разницы между группами есть"
   ]
  },
  {
   "cell_type": "markdown",
   "metadata": {},
   "source": [
    "<b>2.13 Подсчет статистической значимости различий в среднем количестве заказов на посетителя между группами по «очищенным» данным. Формирование выводов и предположений</b>"
   ]
  },
  {
   "cell_type": "code",
   "execution_count": 27,
   "metadata": {},
   "outputs": [
    {
     "name": "stdout",
     "output_type": "stream",
     "text": [
      "0.016\n",
      "0.174\n"
     ]
    }
   ],
   "source": [
    "usersWithManyOrders = pd.concat(\n",
    "    [\n",
    "        ordersByUsersA[ordersByUsersA['orders'] > perc[0]]['visitorId'],\n",
    "        ordersByUsersB[ordersByUsersB['orders'] > perc[0]]['visitorId'],\n",
    "    ],\n",
    "    axis=0,\n",
    ")\n",
    "usersWithExpensiveOrders = orders[orders['revenue'] > perc2[0]]['visitorId']\n",
    "abnormalUsers = (\n",
    "    pd.concat([usersWithManyOrders, usersWithExpensiveOrders], axis=0)\n",
    "    .drop_duplicates()\n",
    "    .sort_values()\n",
    ")\n",
    "\n",
    "sampleAFiltered = pd.concat(\n",
    "    [\n",
    "        ordersByUsersA[\n",
    "            np.logical_not(ordersByUsersA['visitorId'].isin(abnormalUsers))\n",
    "        ]['orders'],\n",
    "        pd.Series(\n",
    "            0,\n",
    "            index=np.arange(\n",
    "                vpdA['visitors'].sum() - len(ordersByUsersA['orders'])\n",
    "            ),\n",
    "            name='orders',\n",
    "        ),\n",
    "    ],\n",
    "    axis=0,\n",
    ")\n",
    "\n",
    "sampleBFiltered = pd.concat(\n",
    "    [\n",
    "        ordersByUsersB[\n",
    "            np.logical_not(ordersByUsersB['visitorId'].isin(abnormalUsers))\n",
    "        ]['orders'],\n",
    "        pd.Series(\n",
    "            0,\n",
    "            index=np.arange(\n",
    "                vpdB['visitors'].sum() - len(ordersByUsersB['orders'])\n",
    "            ),\n",
    "            name='orders',\n",
    "        ),\n",
    "    ],\n",
    "    axis=0,\n",
    ") \n",
    "print('{0:.3f}'.format(stats.mannwhitneyu(sampleAFiltered, sampleBFiltered)[1]))\n",
    "print('{0:.3f}'.format(sampleBFiltered.mean()/sampleAFiltered.mean()-1)) "
   ]
  },
  {
   "cell_type": "markdown",
   "metadata": {},
   "source": [
    "<b>Вывод: </b> Исходя из анализа очищенных даных можно сделать вывод о том, что P-value ниже 0.5, значит что статистической значимость между группами есть"
   ]
  },
  {
   "cell_type": "markdown",
   "metadata": {},
   "source": [
    "<b>2.14 Подсчет статистической значимости различий в среднем чеке заказа между группами по «очищенным» данным. Формирование выводов и предположений</b>"
   ]
  },
  {
   "cell_type": "code",
   "execution_count": 29,
   "metadata": {},
   "outputs": [
    {
     "name": "stdout",
     "output_type": "stream",
     "text": [
      "0.727\n",
      "-0.034\n"
     ]
    }
   ],
   "source": [
    "print(\n",
    "    '{0:.3f}'.format(\n",
    "        stats.mannwhitneyu(\n",
    "            orders[\n",
    "                np.logical_and(\n",
    "                    orders['group'] == 'A',\n",
    "                    np.logical_not(orders['visitorId'].isin(abnormalUsers)),\n",
    "                )\n",
    "            ]['revenue'],\n",
    "            orders[\n",
    "                np.logical_and(\n",
    "                    orders['group'] == 'B',\n",
    "                    np.logical_not(orders['visitorId'].isin(abnormalUsers)),\n",
    "                )\n",
    "            ]['revenue'],\n",
    "        )[1]\n",
    "    )\n",
    ")\n",
    "print(\n",
    "    \"{0:.3f}\".format(\n",
    "        orders[\n",
    "            np.logical_and(\n",
    "                orders['group'] == 'B',\n",
    "                np.logical_not(orders['visitorId'].isin(abnormalUsers)),\n",
    "            )\n",
    "        ]['revenue'].mean()\n",
    "        / orders[\n",
    "            np.logical_and(\n",
    "                orders['group'] == 'A',\n",
    "                np.logical_not(orders['visitorId'].isin(abnormalUsers)),\n",
    "            )\n",
    "        ]['revenue'].mean()\n",
    "        - 1\n",
    "    )\n",
    ")"
   ]
  },
  {
   "cell_type": "markdown",
   "metadata": {},
   "source": [
    "<b>Вывод: </b> Исходя из анализа очищенных даных можно сделать вывод о том, что P-value больше 0.5, значит что статистической значимости между группами нет. Так же можно сделать вывод, что \"очистка\" данных значительно повлияла на вывод"
   ]
  },
  {
   "cell_type": "markdown",
   "metadata": {},
   "source": [
    "<b>2.15 Решение по результатам теста:</b> Остановить тест, зафиксировать различие между группами. Группа Б показывает значительно лучшие результаты по сравнению с Группой А. Очистка данных повлияла на результат. Продолжать тест не имеет смысла.\n",
    "\n",
    "<b>Приоретизация гипотез:</b>  В первую очередь нужно запустить акцию, дающую скидку на товар в день рождения, т.к. RICE более актуальная\n",
    "для маркетинга, а так же Запустить акцию, дающую скидку на товар в день рождения\n"
   ]
  },
  {
   "cell_type": "code",
   "execution_count": null,
   "metadata": {},
   "outputs": [],
   "source": []
  }
 ],
 "metadata": {
  "ExecuteTimeLog": [
   {
    "duration": 47,
    "start_time": "2023-01-23T08:22:36.159Z"
   },
   {
    "duration": 379,
    "start_time": "2023-01-23T08:22:40.856Z"
   },
   {
    "duration": 73,
    "start_time": "2023-01-23T08:22:43.259Z"
   },
   {
    "duration": 44,
    "start_time": "2023-01-23T08:23:51.125Z"
   },
   {
    "duration": 25,
    "start_time": "2023-01-23T08:31:19.081Z"
   },
   {
    "duration": 10,
    "start_time": "2023-01-23T08:31:35.856Z"
   },
   {
    "duration": 12,
    "start_time": "2023-01-23T09:25:25.427Z"
   },
   {
    "duration": 113,
    "start_time": "2023-01-23T09:35:52.208Z"
   },
   {
    "duration": 92,
    "start_time": "2023-01-23T09:36:26.497Z"
   },
   {
    "duration": 437,
    "start_time": "2023-01-23T10:07:24.544Z"
   },
   {
    "duration": 4,
    "start_time": "2023-01-23T10:07:27.164Z"
   },
   {
    "duration": 270,
    "start_time": "2023-01-23T10:27:16.387Z"
   },
   {
    "duration": 3,
    "start_time": "2023-01-23T10:30:49.608Z"
   },
   {
    "duration": 76,
    "start_time": "2023-01-23T10:31:37.795Z"
   },
   {
    "duration": 193,
    "start_time": "2023-01-23T10:31:51.556Z"
   },
   {
    "duration": 8,
    "start_time": "2023-01-23T10:33:19.208Z"
   },
   {
    "duration": 29,
    "start_time": "2023-01-23T10:33:50.047Z"
   },
   {
    "duration": 606,
    "start_time": "2023-01-23T10:41:13.025Z"
   },
   {
    "duration": 688,
    "start_time": "2023-01-23T10:44:23.703Z"
   },
   {
    "duration": 585,
    "start_time": "2023-01-23T10:47:06.012Z"
   },
   {
    "duration": 266,
    "start_time": "2023-01-23T11:10:02.336Z"
   },
   {
    "duration": 258,
    "start_time": "2023-01-23T11:10:14.187Z"
   },
   {
    "duration": 474,
    "start_time": "2023-01-23T11:12:50.507Z"
   },
   {
    "duration": 419,
    "start_time": "2023-01-23T11:13:14.582Z"
   },
   {
    "duration": 518,
    "start_time": "2023-01-23T11:21:33.352Z"
   },
   {
    "duration": 520,
    "start_time": "2023-01-23T11:24:14.859Z"
   },
   {
    "duration": 528,
    "start_time": "2023-01-23T11:24:28.674Z"
   },
   {
    "duration": 506,
    "start_time": "2023-01-23T11:25:21.468Z"
   },
   {
    "duration": 526,
    "start_time": "2023-01-23T11:25:31.487Z"
   },
   {
    "duration": 549,
    "start_time": "2023-01-23T11:25:38.435Z"
   },
   {
    "duration": 664,
    "start_time": "2023-01-23T11:25:52.287Z"
   },
   {
    "duration": 611,
    "start_time": "2023-01-23T11:26:03.784Z"
   },
   {
    "duration": 590,
    "start_time": "2023-01-23T11:26:18.175Z"
   },
   {
    "duration": 55,
    "start_time": "2023-01-23T13:08:21.156Z"
   },
   {
    "duration": 784,
    "start_time": "2023-01-23T13:08:28.552Z"
   },
   {
    "duration": 68,
    "start_time": "2023-01-23T13:08:29.338Z"
   },
   {
    "duration": 16,
    "start_time": "2023-01-23T13:08:29.408Z"
   },
   {
    "duration": 11,
    "start_time": "2023-01-23T13:08:29.426Z"
   },
   {
    "duration": 117,
    "start_time": "2023-01-23T13:08:29.438Z"
   },
   {
    "duration": 67,
    "start_time": "2023-01-23T13:08:29.556Z"
   },
   {
    "duration": 228,
    "start_time": "2023-01-23T13:08:32.314Z"
   },
   {
    "duration": 205,
    "start_time": "2023-01-23T13:09:02.041Z"
   },
   {
    "duration": 259,
    "start_time": "2023-01-23T13:09:34.521Z"
   },
   {
    "duration": 3,
    "start_time": "2023-01-23T13:09:56.641Z"
   },
   {
    "duration": 27,
    "start_time": "2023-01-23T13:10:03.801Z"
   },
   {
    "duration": 27,
    "start_time": "2023-01-23T13:10:46.150Z"
   },
   {
    "duration": 243,
    "start_time": "2023-01-23T13:11:05.078Z"
   },
   {
    "duration": 34,
    "start_time": "2023-01-23T13:11:25.706Z"
   },
   {
    "duration": 30,
    "start_time": "2023-01-23T13:12:13.750Z"
   },
   {
    "duration": 29,
    "start_time": "2023-01-23T13:12:43.423Z"
   },
   {
    "duration": 25,
    "start_time": "2023-01-23T13:23:12.599Z"
   },
   {
    "duration": 244,
    "start_time": "2023-01-23T13:23:49.254Z"
   },
   {
    "duration": 888,
    "start_time": "2023-01-23T13:43:53.678Z"
   },
   {
    "duration": 75,
    "start_time": "2023-01-23T13:43:54.568Z"
   },
   {
    "duration": 11,
    "start_time": "2023-01-23T13:43:54.645Z"
   },
   {
    "duration": 25,
    "start_time": "2023-01-23T13:43:54.658Z"
   },
   {
    "duration": 93,
    "start_time": "2023-01-23T13:43:54.685Z"
   },
   {
    "duration": 324,
    "start_time": "2023-01-23T13:43:57.833Z"
   },
   {
    "duration": 381,
    "start_time": "2023-01-23T13:47:37.020Z"
   },
   {
    "duration": 410,
    "start_time": "2023-01-23T13:47:43.545Z"
   },
   {
    "duration": 25,
    "start_time": "2023-01-23T13:48:14.056Z"
   },
   {
    "duration": 24,
    "start_time": "2023-01-23T13:48:30.995Z"
   },
   {
    "duration": 14,
    "start_time": "2023-01-23T13:49:18.094Z"
   },
   {
    "duration": 73,
    "start_time": "2023-01-23T13:49:18.110Z"
   },
   {
    "duration": 22,
    "start_time": "2023-01-23T13:49:18.185Z"
   },
   {
    "duration": 560,
    "start_time": "2023-01-23T13:49:18.209Z"
   },
   {
    "duration": 564,
    "start_time": "2023-01-23T13:49:28.499Z"
   },
   {
    "duration": 590,
    "start_time": "2023-01-23T13:53:35.208Z"
   },
   {
    "duration": 498,
    "start_time": "2023-01-23T13:55:54.382Z"
   },
   {
    "duration": 528,
    "start_time": "2023-01-23T13:56:11.868Z"
   },
   {
    "duration": 542,
    "start_time": "2023-01-23T13:56:26.182Z"
   },
   {
    "duration": 668,
    "start_time": "2023-01-23T13:56:52.794Z"
   },
   {
    "duration": 32,
    "start_time": "2023-01-23T13:56:53.464Z"
   },
   {
    "duration": 18,
    "start_time": "2023-01-23T13:56:53.498Z"
   },
   {
    "duration": 12,
    "start_time": "2023-01-23T13:56:53.518Z"
   },
   {
    "duration": 50,
    "start_time": "2023-01-23T13:56:53.531Z"
   },
   {
    "duration": 21,
    "start_time": "2023-01-23T13:56:53.582Z"
   },
   {
    "duration": 560,
    "start_time": "2023-01-23T13:56:53.605Z"
   },
   {
    "duration": 32,
    "start_time": "2023-01-23T13:57:31.395Z"
   },
   {
    "duration": 514,
    "start_time": "2023-01-23T13:57:46.859Z"
   },
   {
    "duration": 554,
    "start_time": "2023-01-23T13:57:59.028Z"
   },
   {
    "duration": 621,
    "start_time": "2023-01-23T13:58:08.622Z"
   },
   {
    "duration": 562,
    "start_time": "2023-01-23T13:58:22.265Z"
   },
   {
    "duration": 518,
    "start_time": "2023-01-23T13:58:29.688Z"
   },
   {
    "duration": 483,
    "start_time": "2023-01-23T13:58:38.886Z"
   },
   {
    "duration": 477,
    "start_time": "2023-01-23T13:58:46.432Z"
   },
   {
    "duration": 460,
    "start_time": "2023-01-23T13:58:55.277Z"
   },
   {
    "duration": 503,
    "start_time": "2023-01-23T13:59:02.165Z"
   },
   {
    "duration": 504,
    "start_time": "2023-01-23T14:10:35.851Z"
   },
   {
    "duration": 78,
    "start_time": "2023-01-23T14:29:38.774Z"
   },
   {
    "duration": 13,
    "start_time": "2023-01-23T15:13:46.748Z"
   },
   {
    "duration": 486,
    "start_time": "2023-01-23T15:15:07.517Z"
   },
   {
    "duration": 7,
    "start_time": "2023-01-23T15:15:11.553Z"
   },
   {
    "duration": 8,
    "start_time": "2023-01-23T15:17:42.811Z"
   },
   {
    "duration": 16,
    "start_time": "2023-01-23T15:17:50.843Z"
   },
   {
    "duration": 564,
    "start_time": "2023-01-23T15:18:14.088Z"
   },
   {
    "duration": 17,
    "start_time": "2023-01-23T15:18:18.175Z"
   },
   {
    "duration": 761,
    "start_time": "2023-01-23T15:20:29.294Z"
   },
   {
    "duration": 325,
    "start_time": "2023-01-23T15:20:59.571Z"
   },
   {
    "duration": 458,
    "start_time": "2023-01-23T15:21:07.102Z"
   },
   {
    "duration": 259,
    "start_time": "2023-01-23T15:21:14.303Z"
   },
   {
    "duration": 249,
    "start_time": "2023-01-23T15:21:33.795Z"
   },
   {
    "duration": 12,
    "start_time": "2023-01-23T15:33:35.467Z"
   },
   {
    "duration": 595,
    "start_time": "2023-01-23T15:36:33.731Z"
   },
   {
    "duration": 449,
    "start_time": "2023-01-23T15:38:29.361Z"
   },
   {
    "duration": 505,
    "start_time": "2023-01-23T15:38:55.234Z"
   },
   {
    "duration": 237,
    "start_time": "2023-01-23T15:47:37.953Z"
   },
   {
    "duration": 53,
    "start_time": "2023-01-24T06:22:56.650Z"
   },
   {
    "duration": 762,
    "start_time": "2023-01-24T06:23:04.619Z"
   },
   {
    "duration": 72,
    "start_time": "2023-01-24T06:23:05.384Z"
   },
   {
    "duration": 12,
    "start_time": "2023-01-24T06:23:05.457Z"
   },
   {
    "duration": 13,
    "start_time": "2023-01-24T06:23:05.471Z"
   },
   {
    "duration": 82,
    "start_time": "2023-01-24T06:23:05.485Z"
   },
   {
    "duration": 65,
    "start_time": "2023-01-24T06:23:05.569Z"
   },
   {
    "duration": 198,
    "start_time": "2023-01-24T06:23:09.705Z"
   },
   {
    "duration": 404,
    "start_time": "2023-01-24T06:23:26.258Z"
   },
   {
    "duration": 407,
    "start_time": "2023-01-24T06:24:08.811Z"
   },
   {
    "duration": 236,
    "start_time": "2023-01-24T06:25:23.557Z"
   },
   {
    "duration": 450,
    "start_time": "2023-01-24T06:26:17.073Z"
   },
   {
    "duration": 231,
    "start_time": "2023-01-24T06:27:09.539Z"
   },
   {
    "duration": 12,
    "start_time": "2023-01-24T06:39:04.112Z"
   },
   {
    "duration": 11,
    "start_time": "2023-01-24T06:41:51.804Z"
   },
   {
    "duration": 4,
    "start_time": "2023-01-24T06:43:39.138Z"
   },
   {
    "duration": 10,
    "start_time": "2023-01-24T07:21:34.918Z"
   },
   {
    "duration": 10,
    "start_time": "2023-01-24T07:22:24.677Z"
   },
   {
    "duration": 4,
    "start_time": "2023-01-24T07:23:21.686Z"
   },
   {
    "duration": 4,
    "start_time": "2023-01-24T07:23:25.716Z"
   },
   {
    "duration": 4,
    "start_time": "2023-01-24T07:23:31.935Z"
   },
   {
    "duration": 629,
    "start_time": "2023-01-24T07:23:42.961Z"
   },
   {
    "duration": 32,
    "start_time": "2023-01-24T07:23:43.592Z"
   },
   {
    "duration": 12,
    "start_time": "2023-01-24T07:23:43.625Z"
   },
   {
    "duration": 11,
    "start_time": "2023-01-24T07:23:43.639Z"
   },
   {
    "duration": 45,
    "start_time": "2023-01-24T07:23:43.652Z"
   },
   {
    "duration": 22,
    "start_time": "2023-01-24T07:23:43.699Z"
   },
   {
    "duration": 464,
    "start_time": "2023-01-24T07:23:43.723Z"
   },
   {
    "duration": 450,
    "start_time": "2023-01-24T07:23:44.189Z"
   },
   {
    "duration": 252,
    "start_time": "2023-01-24T07:23:44.641Z"
   },
   {
    "duration": 458,
    "start_time": "2023-01-24T07:23:44.895Z"
   },
   {
    "duration": 250,
    "start_time": "2023-01-24T07:23:45.355Z"
   },
   {
    "duration": 13,
    "start_time": "2023-01-24T07:23:45.607Z"
   },
   {
    "duration": 232,
    "start_time": "2023-01-24T07:24:54.224Z"
   },
   {
    "duration": 9,
    "start_time": "2023-01-24T07:25:06.788Z"
   },
   {
    "duration": 147,
    "start_time": "2023-01-24T07:25:13.772Z"
   },
   {
    "duration": 235,
    "start_time": "2023-01-24T07:27:32.332Z"
   },
   {
    "duration": 14,
    "start_time": "2023-01-24T07:32:42.265Z"
   },
   {
    "duration": 11,
    "start_time": "2023-01-24T07:33:14.916Z"
   },
   {
    "duration": 835,
    "start_time": "2023-01-24T07:34:02.129Z"
   },
   {
    "duration": 6,
    "start_time": "2023-01-24T07:37:08.177Z"
   },
   {
    "duration": 8,
    "start_time": "2023-01-24T07:37:50.469Z"
   },
   {
    "duration": 8,
    "start_time": "2023-01-24T07:39:11.054Z"
   },
   {
    "duration": 169,
    "start_time": "2023-01-24T07:39:24.962Z"
   },
   {
    "duration": 154,
    "start_time": "2023-01-24T08:19:40.531Z"
   },
   {
    "duration": 175,
    "start_time": "2023-01-24T08:20:39.382Z"
   },
   {
    "duration": 813,
    "start_time": "2023-01-24T09:10:07.107Z"
   },
   {
    "duration": 4,
    "start_time": "2023-01-24T09:10:41.524Z"
   },
   {
    "duration": 6,
    "start_time": "2023-01-24T09:41:03.170Z"
   },
   {
    "duration": 4,
    "start_time": "2023-01-24T09:41:32.196Z"
   },
   {
    "duration": 5,
    "start_time": "2023-01-24T09:45:52.087Z"
   },
   {
    "duration": 5,
    "start_time": "2023-01-24T09:46:07.585Z"
   },
   {
    "duration": 5,
    "start_time": "2023-01-24T09:46:18.777Z"
   },
   {
    "duration": 4,
    "start_time": "2023-01-24T09:46:23.942Z"
   },
   {
    "duration": 4,
    "start_time": "2023-01-24T09:46:53.670Z"
   },
   {
    "duration": 4,
    "start_time": "2023-01-24T10:28:11.850Z"
   },
   {
    "duration": 171,
    "start_time": "2023-01-24T10:30:42.537Z"
   },
   {
    "duration": 402,
    "start_time": "2023-01-24T10:31:16.688Z"
   },
   {
    "duration": 13,
    "start_time": "2023-01-24T10:31:41.499Z"
   },
   {
    "duration": 189,
    "start_time": "2023-01-24T10:32:33.131Z"
   },
   {
    "duration": 178,
    "start_time": "2023-01-24T10:33:15.947Z"
   },
   {
    "duration": 177,
    "start_time": "2023-01-24T10:35:25.013Z"
   },
   {
    "duration": 169,
    "start_time": "2023-01-24T10:35:37.896Z"
   },
   {
    "duration": 176,
    "start_time": "2023-01-24T10:35:52.497Z"
   },
   {
    "duration": 174,
    "start_time": "2023-01-24T10:36:01.486Z"
   },
   {
    "duration": 166,
    "start_time": "2023-01-24T10:36:29.410Z"
   },
   {
    "duration": 175,
    "start_time": "2023-01-24T10:36:42.907Z"
   },
   {
    "duration": 160,
    "start_time": "2023-01-24T10:36:58.163Z"
   },
   {
    "duration": 266,
    "start_time": "2023-01-24T10:37:04.704Z"
   },
   {
    "duration": 157,
    "start_time": "2023-01-24T10:37:26.859Z"
   },
   {
    "duration": 168,
    "start_time": "2023-01-24T10:37:35.900Z"
   },
   {
    "duration": 164,
    "start_time": "2023-01-24T10:37:45.680Z"
   },
   {
    "duration": 188,
    "start_time": "2023-01-24T10:37:52.696Z"
   },
   {
    "duration": 165,
    "start_time": "2023-01-24T10:38:58.658Z"
   },
   {
    "duration": 161,
    "start_time": "2023-01-24T10:39:04.909Z"
   },
   {
    "duration": 170,
    "start_time": "2023-01-24T10:39:27.311Z"
   },
   {
    "duration": 166,
    "start_time": "2023-01-24T10:40:43.218Z"
   },
   {
    "duration": 13,
    "start_time": "2023-01-24T10:53:23.435Z"
   },
   {
    "duration": 13,
    "start_time": "2023-01-24T10:53:44.668Z"
   },
   {
    "duration": 12,
    "start_time": "2023-01-24T10:53:56.039Z"
   },
   {
    "duration": 183,
    "start_time": "2023-01-24T10:54:14.520Z"
   },
   {
    "duration": 201,
    "start_time": "2023-01-24T10:54:29.790Z"
   },
   {
    "duration": 186,
    "start_time": "2023-01-24T10:54:38.181Z"
   },
   {
    "duration": 204,
    "start_time": "2023-01-24T10:54:45.144Z"
   },
   {
    "duration": 182,
    "start_time": "2023-01-24T10:54:53.349Z"
   },
   {
    "duration": 200,
    "start_time": "2023-01-24T10:56:34.502Z"
   },
   {
    "duration": 183,
    "start_time": "2023-01-24T10:56:41.820Z"
   },
   {
    "duration": 293,
    "start_time": "2023-01-24T10:56:48.470Z"
   },
   {
    "duration": 4,
    "start_time": "2023-01-24T11:00:56.331Z"
   },
   {
    "duration": 6,
    "start_time": "2023-01-24T11:01:29.847Z"
   },
   {
    "duration": 4,
    "start_time": "2023-01-24T11:01:50.868Z"
   },
   {
    "duration": 184,
    "start_time": "2023-01-24T11:02:52.913Z"
   },
   {
    "duration": 196,
    "start_time": "2023-01-24T11:03:10.777Z"
   },
   {
    "duration": 4,
    "start_time": "2023-01-24T11:03:24.941Z"
   },
   {
    "duration": 4,
    "start_time": "2023-01-24T11:04:20.854Z"
   },
   {
    "duration": 6,
    "start_time": "2023-01-24T11:04:54.586Z"
   },
   {
    "duration": 5,
    "start_time": "2023-01-24T11:05:05.123Z"
   },
   {
    "duration": 46,
    "start_time": "2023-01-24T11:31:36.979Z"
   },
   {
    "duration": 734,
    "start_time": "2023-01-24T11:32:02.616Z"
   },
   {
    "duration": 16,
    "start_time": "2023-01-24T11:35:48.440Z"
   },
   {
    "duration": 453,
    "start_time": "2023-01-24T11:36:26.354Z"
   },
   {
    "duration": 4,
    "start_time": "2023-01-24T11:36:31.170Z"
   },
   {
    "duration": 99,
    "start_time": "2023-01-24T11:36:31.178Z"
   },
   {
    "duration": 39,
    "start_time": "2023-01-24T11:36:31.280Z"
   },
   {
    "duration": 45,
    "start_time": "2023-01-24T11:36:31.321Z"
   },
   {
    "duration": 70,
    "start_time": "2023-01-24T11:36:31.367Z"
   },
   {
    "duration": 31,
    "start_time": "2023-01-24T11:36:31.439Z"
   },
   {
    "duration": 450,
    "start_time": "2023-01-24T11:36:31.473Z"
   },
   {
    "duration": 432,
    "start_time": "2023-01-24T11:36:31.925Z"
   },
   {
    "duration": 253,
    "start_time": "2023-01-24T11:36:32.358Z"
   },
   {
    "duration": 478,
    "start_time": "2023-01-24T11:36:32.613Z"
   },
   {
    "duration": 262,
    "start_time": "2023-01-24T11:36:33.093Z"
   },
   {
    "duration": 273,
    "start_time": "2023-01-24T11:36:33.357Z"
   },
   {
    "duration": 4,
    "start_time": "2023-01-24T11:36:33.632Z"
   },
   {
    "duration": 237,
    "start_time": "2023-01-24T11:36:33.637Z"
   },
   {
    "duration": 4,
    "start_time": "2023-01-24T11:36:33.876Z"
   },
   {
    "duration": 72,
    "start_time": "2023-01-24T11:36:33.882Z"
   },
   {
    "duration": 12,
    "start_time": "2023-01-24T11:36:57.050Z"
   },
   {
    "duration": 20,
    "start_time": "2023-01-24T11:37:16.465Z"
   },
   {
    "duration": 14,
    "start_time": "2023-01-24T11:37:34.570Z"
   },
   {
    "duration": 20,
    "start_time": "2023-01-24T11:38:11.859Z"
   },
   {
    "duration": 29,
    "start_time": "2023-01-24T11:39:34.992Z"
   },
   {
    "duration": 33,
    "start_time": "2023-01-24T11:40:58.393Z"
   },
   {
    "duration": 26,
    "start_time": "2023-01-24T11:41:21.599Z"
   },
   {
    "duration": 18,
    "start_time": "2023-01-24T12:33:03.520Z"
   },
   {
    "duration": 14,
    "start_time": "2023-01-24T12:33:21.960Z"
   },
   {
    "duration": 15,
    "start_time": "2023-01-24T12:34:25.262Z"
   },
   {
    "duration": 5,
    "start_time": "2023-01-24T12:35:00.765Z"
   },
   {
    "duration": 6,
    "start_time": "2023-01-24T12:35:14.254Z"
   },
   {
    "duration": 12,
    "start_time": "2023-01-24T12:38:43.376Z"
   },
   {
    "duration": 687,
    "start_time": "2023-01-24T12:38:57.156Z"
   },
   {
    "duration": 16,
    "start_time": "2023-01-24T12:39:17.737Z"
   },
   {
    "duration": 17,
    "start_time": "2023-01-24T13:00:26.160Z"
   },
   {
    "duration": 25,
    "start_time": "2023-01-24T13:50:04.801Z"
   },
   {
    "duration": 13,
    "start_time": "2023-01-24T13:50:14.919Z"
   },
   {
    "duration": 13,
    "start_time": "2023-01-24T13:50:26.330Z"
   },
   {
    "duration": 20,
    "start_time": "2023-01-24T13:51:23.620Z"
   },
   {
    "duration": 19,
    "start_time": "2023-01-24T14:02:52.198Z"
   },
   {
    "duration": 1047,
    "start_time": "2023-01-24T16:08:01.460Z"
   },
   {
    "duration": 37,
    "start_time": "2023-01-24T16:08:02.509Z"
   },
   {
    "duration": 12,
    "start_time": "2023-01-24T16:08:02.549Z"
   },
   {
    "duration": 11,
    "start_time": "2023-01-24T16:08:02.563Z"
   },
   {
    "duration": 61,
    "start_time": "2023-01-24T16:08:02.575Z"
   },
   {
    "duration": 23,
    "start_time": "2023-01-24T16:08:02.638Z"
   },
   {
    "duration": 408,
    "start_time": "2023-01-24T16:08:02.662Z"
   },
   {
    "duration": 406,
    "start_time": "2023-01-24T16:08:03.072Z"
   },
   {
    "duration": 258,
    "start_time": "2023-01-24T16:08:03.480Z"
   },
   {
    "duration": 410,
    "start_time": "2023-01-24T16:08:03.740Z"
   },
   {
    "duration": 237,
    "start_time": "2023-01-24T16:08:04.153Z"
   },
   {
    "duration": 160,
    "start_time": "2023-01-24T16:08:04.392Z"
   },
   {
    "duration": 5,
    "start_time": "2023-01-24T16:08:04.553Z"
   },
   {
    "duration": 238,
    "start_time": "2023-01-24T16:08:04.560Z"
   },
   {
    "duration": 6,
    "start_time": "2023-01-24T16:08:04.801Z"
   },
   {
    "duration": 23,
    "start_time": "2023-01-24T16:08:04.820Z"
   },
   {
    "duration": 24,
    "start_time": "2023-01-24T16:08:04.845Z"
   },
   {
    "duration": 30,
    "start_time": "2023-01-24T16:08:04.871Z"
   },
   {
    "duration": 34,
    "start_time": "2023-01-24T16:08:04.903Z"
   },
   {
    "duration": 1135,
    "start_time": "2023-01-24T16:42:22.037Z"
   },
   {
    "duration": 37,
    "start_time": "2023-01-24T16:42:23.174Z"
   },
   {
    "duration": 11,
    "start_time": "2023-01-24T16:42:23.213Z"
   },
   {
    "duration": 11,
    "start_time": "2023-01-24T16:42:23.226Z"
   },
   {
    "duration": 51,
    "start_time": "2023-01-24T16:42:23.239Z"
   },
   {
    "duration": 23,
    "start_time": "2023-01-24T16:42:23.292Z"
   },
   {
    "duration": 421,
    "start_time": "2023-01-24T16:42:23.317Z"
   },
   {
    "duration": 429,
    "start_time": "2023-01-24T16:42:23.740Z"
   },
   {
    "duration": 281,
    "start_time": "2023-01-24T16:42:24.170Z"
   },
   {
    "duration": 455,
    "start_time": "2023-01-24T16:42:24.455Z"
   },
   {
    "duration": 281,
    "start_time": "2023-01-24T16:42:24.911Z"
   },
   {
    "duration": 174,
    "start_time": "2023-01-24T16:42:25.194Z"
   },
   {
    "duration": 5,
    "start_time": "2023-01-24T16:42:25.370Z"
   },
   {
    "duration": 213,
    "start_time": "2023-01-24T16:42:25.377Z"
   },
   {
    "duration": 5,
    "start_time": "2023-01-24T16:42:25.592Z"
   },
   {
    "duration": 26,
    "start_time": "2023-01-24T16:42:25.599Z"
   },
   {
    "duration": 14,
    "start_time": "2023-01-24T16:42:25.626Z"
   },
   {
    "duration": 16,
    "start_time": "2023-01-24T16:42:25.642Z"
   },
   {
    "duration": 17,
    "start_time": "2023-01-24T16:42:25.659Z"
   },
   {
    "duration": 62,
    "start_time": "2023-01-27T07:25:26.754Z"
   },
   {
    "duration": 1493,
    "start_time": "2023-01-27T07:25:32.977Z"
   },
   {
    "duration": 77,
    "start_time": "2023-01-27T07:25:37.119Z"
   },
   {
    "duration": 37,
    "start_time": "2023-01-27T07:43:20.354Z"
   },
   {
    "duration": 15,
    "start_time": "2023-01-27T07:43:38.157Z"
   },
   {
    "duration": 65,
    "start_time": "2023-01-27T07:59:46.510Z"
   },
   {
    "duration": 4,
    "start_time": "2023-01-27T07:59:59.982Z"
   },
   {
    "duration": 48,
    "start_time": "2023-01-27T07:59:59.991Z"
   },
   {
    "duration": 13,
    "start_time": "2023-01-27T08:00:00.042Z"
   },
   {
    "duration": 29,
    "start_time": "2023-01-27T08:00:00.058Z"
   },
   {
    "duration": 100,
    "start_time": "2023-01-27T08:00:00.090Z"
   },
   {
    "duration": 77,
    "start_time": "2023-01-27T08:00:00.192Z"
   },
   {
    "duration": 9,
    "start_time": "2023-01-27T08:00:03.267Z"
   },
   {
    "duration": 11,
    "start_time": "2023-01-27T08:00:12.807Z"
   },
   {
    "duration": 14,
    "start_time": "2023-01-27T08:01:07.988Z"
   },
   {
    "duration": 20,
    "start_time": "2023-01-27T08:21:06.480Z"
   },
   {
    "duration": 8,
    "start_time": "2023-01-27T08:23:23.055Z"
   },
   {
    "duration": 6,
    "start_time": "2023-01-27T08:23:41.302Z"
   },
   {
    "duration": 11,
    "start_time": "2023-01-27T08:25:50.433Z"
   },
   {
    "duration": 8,
    "start_time": "2023-01-27T08:25:58.450Z"
   },
   {
    "duration": 1307,
    "start_time": "2023-01-27T08:26:33.425Z"
   },
   {
    "duration": 38,
    "start_time": "2023-01-27T08:26:34.734Z"
   },
   {
    "duration": 17,
    "start_time": "2023-01-27T08:26:34.774Z"
   },
   {
    "duration": 19,
    "start_time": "2023-01-27T08:26:34.796Z"
   },
   {
    "duration": 49,
    "start_time": "2023-01-27T08:26:34.817Z"
   },
   {
    "duration": 34,
    "start_time": "2023-01-27T08:26:34.868Z"
   },
   {
    "duration": 10,
    "start_time": "2023-01-27T08:26:34.904Z"
   },
   {
    "duration": 7,
    "start_time": "2023-01-27T08:26:34.916Z"
   },
   {
    "duration": 570,
    "start_time": "2023-01-27T08:26:34.925Z"
   },
   {
    "duration": 544,
    "start_time": "2023-01-27T08:26:35.499Z"
   },
   {
    "duration": 317,
    "start_time": "2023-01-27T08:26:36.045Z"
   },
   {
    "duration": 497,
    "start_time": "2023-01-27T08:26:36.365Z"
   },
   {
    "duration": 323,
    "start_time": "2023-01-27T08:26:36.864Z"
   },
   {
    "duration": 215,
    "start_time": "2023-01-27T08:26:37.189Z"
   },
   {
    "duration": 6,
    "start_time": "2023-01-27T08:26:37.407Z"
   },
   {
    "duration": 254,
    "start_time": "2023-01-27T08:26:37.415Z"
   },
   {
    "duration": 5,
    "start_time": "2023-01-27T08:26:37.671Z"
   },
   {
    "duration": 37,
    "start_time": "2023-01-27T08:26:37.685Z"
   },
   {
    "duration": 21,
    "start_time": "2023-01-27T08:26:37.724Z"
   },
   {
    "duration": 19,
    "start_time": "2023-01-27T08:26:37.747Z"
   },
   {
    "duration": 25,
    "start_time": "2023-01-27T08:26:37.785Z"
   },
   {
    "duration": 16,
    "start_time": "2023-01-27T08:39:31.542Z"
   },
   {
    "duration": 12,
    "start_time": "2023-01-27T08:40:05.633Z"
   },
   {
    "duration": 130,
    "start_time": "2023-01-27T08:41:00.949Z"
   },
   {
    "duration": 26,
    "start_time": "2023-01-27T08:41:08.620Z"
   },
   {
    "duration": 25,
    "start_time": "2023-01-27T08:41:42.953Z"
   },
   {
    "duration": 11,
    "start_time": "2023-01-27T08:42:10.941Z"
   },
   {
    "duration": 9,
    "start_time": "2023-01-27T08:42:21.649Z"
   },
   {
    "duration": 36,
    "start_time": "2023-01-27T08:42:52.282Z"
   },
   {
    "duration": 529,
    "start_time": "2023-01-27T09:32:02.924Z"
   },
   {
    "duration": 704,
    "start_time": "2023-01-27T09:32:14.924Z"
   },
   {
    "duration": 341,
    "start_time": "2023-01-27T09:32:22.510Z"
   },
   {
    "duration": 595,
    "start_time": "2023-01-27T09:32:28.843Z"
   },
   {
    "duration": 339,
    "start_time": "2023-01-27T09:32:36.337Z"
   },
   {
    "duration": 238,
    "start_time": "2023-01-27T09:32:43.101Z"
   },
   {
    "duration": 319,
    "start_time": "2023-01-27T09:32:50.078Z"
   },
   {
    "duration": 626,
    "start_time": "2023-01-27T10:12:24.221Z"
   },
   {
    "duration": 700,
    "start_time": "2023-01-27T10:13:55.277Z"
   },
   {
    "duration": 430,
    "start_time": "2023-01-27T10:14:03.197Z"
   },
   {
    "duration": 611,
    "start_time": "2023-01-27T10:14:11.246Z"
   },
   {
    "duration": 360,
    "start_time": "2023-01-27T10:14:17.375Z"
   },
   {
    "duration": 421,
    "start_time": "2023-01-27T11:38:05.809Z"
   },
   {
    "duration": 23,
    "start_time": "2023-01-27T11:40:19.891Z"
   },
   {
    "duration": 1217,
    "start_time": "2023-01-27T11:43:11.994Z"
   },
   {
    "duration": 4,
    "start_time": "2023-01-27T11:43:18.311Z"
   },
   {
    "duration": 49,
    "start_time": "2023-01-27T11:43:18.320Z"
   },
   {
    "duration": 14,
    "start_time": "2023-01-27T11:43:18.371Z"
   },
   {
    "duration": 21,
    "start_time": "2023-01-27T11:43:18.387Z"
   },
   {
    "duration": 60,
    "start_time": "2023-01-27T11:43:18.410Z"
   },
   {
    "duration": 22,
    "start_time": "2023-01-27T11:43:18.473Z"
   },
   {
    "duration": 8,
    "start_time": "2023-01-27T11:43:18.497Z"
   },
   {
    "duration": 21,
    "start_time": "2023-01-27T11:43:18.506Z"
   },
   {
    "duration": 37,
    "start_time": "2023-01-27T11:43:18.529Z"
   },
   {
    "duration": 496,
    "start_time": "2023-01-27T11:43:18.567Z"
   },
   {
    "duration": 451,
    "start_time": "2023-01-27T11:43:19.065Z"
   },
   {
    "duration": 337,
    "start_time": "2023-01-27T11:43:19.518Z"
   },
   {
    "duration": 492,
    "start_time": "2023-01-27T11:43:19.858Z"
   },
   {
    "duration": 313,
    "start_time": "2023-01-27T11:43:20.353Z"
   },
   {
    "duration": 190,
    "start_time": "2023-01-27T11:43:20.669Z"
   },
   {
    "duration": 5,
    "start_time": "2023-01-27T11:43:20.861Z"
   },
   {
    "duration": 257,
    "start_time": "2023-01-27T11:43:20.868Z"
   },
   {
    "duration": 6,
    "start_time": "2023-01-27T11:43:21.127Z"
   },
   {
    "duration": 43,
    "start_time": "2023-01-27T11:43:21.134Z"
   },
   {
    "duration": 37,
    "start_time": "2023-01-27T11:43:21.179Z"
   },
   {
    "duration": 26,
    "start_time": "2023-01-27T11:43:21.218Z"
   },
   {
    "duration": 32,
    "start_time": "2023-01-27T11:43:21.247Z"
   },
   {
    "duration": 59,
    "start_time": "2023-01-27T13:10:36.822Z"
   },
   {
    "duration": 977,
    "start_time": "2023-01-27T13:10:43.798Z"
   },
   {
    "duration": 451,
    "start_time": "2023-01-27T13:13:01.890Z"
   },
   {
    "duration": 515,
    "start_time": "2023-01-27T13:13:10.721Z"
   },
   {
    "duration": 423,
    "start_time": "2023-01-27T13:17:26.450Z"
   },
   {
    "duration": 3,
    "start_time": "2023-01-27T13:25:21.829Z"
   },
   {
    "duration": 48,
    "start_time": "2023-01-27T13:25:21.846Z"
   },
   {
    "duration": 15,
    "start_time": "2023-01-27T13:25:21.897Z"
   },
   {
    "duration": 22,
    "start_time": "2023-01-27T13:25:21.913Z"
   },
   {
    "duration": 74,
    "start_time": "2023-01-27T13:25:21.936Z"
   },
   {
    "duration": 28,
    "start_time": "2023-01-27T13:25:22.013Z"
   },
   {
    "duration": 29,
    "start_time": "2023-01-27T13:25:22.043Z"
   },
   {
    "duration": 65,
    "start_time": "2023-01-27T13:25:22.074Z"
   },
   {
    "duration": 24,
    "start_time": "2023-01-27T13:25:22.141Z"
   },
   {
    "duration": 472,
    "start_time": "2023-01-27T13:25:22.167Z"
   },
   {
    "duration": 463,
    "start_time": "2023-01-27T13:25:22.640Z"
   },
   {
    "duration": 282,
    "start_time": "2023-01-27T13:25:23.105Z"
   },
   {
    "duration": 273,
    "start_time": "2023-01-27T13:32:21.142Z"
   },
   {
    "duration": 61,
    "start_time": "2023-01-27T13:32:29.172Z"
   },
   {
    "duration": 58,
    "start_time": "2023-01-27T13:32:46.565Z"
   },
   {
    "duration": 57,
    "start_time": "2023-01-27T13:33:08.873Z"
   },
   {
    "duration": 51,
    "start_time": "2023-01-27T13:33:22.243Z"
   },
   {
    "duration": 46,
    "start_time": "2023-01-27T13:33:28.398Z"
   },
   {
    "duration": 4,
    "start_time": "2023-01-27T13:35:03.656Z"
   },
   {
    "duration": 13,
    "start_time": "2023-01-27T13:37:16.882Z"
   },
   {
    "duration": 11,
    "start_time": "2023-01-27T13:38:52.904Z"
   },
   {
    "duration": 11,
    "start_time": "2023-01-27T13:39:15.299Z"
   },
   {
    "duration": 14,
    "start_time": "2023-01-27T13:39:39.905Z"
   },
   {
    "duration": 1200,
    "start_time": "2023-01-27T13:39:54.772Z"
   },
   {
    "duration": 45,
    "start_time": "2023-01-27T13:39:55.974Z"
   },
   {
    "duration": 14,
    "start_time": "2023-01-27T13:39:56.021Z"
   },
   {
    "duration": 13,
    "start_time": "2023-01-27T13:39:56.037Z"
   },
   {
    "duration": 63,
    "start_time": "2023-01-27T13:39:56.051Z"
   },
   {
    "duration": 25,
    "start_time": "2023-01-27T13:39:56.116Z"
   },
   {
    "duration": 7,
    "start_time": "2023-01-27T13:39:56.143Z"
   },
   {
    "duration": 9,
    "start_time": "2023-01-27T13:39:56.151Z"
   },
   {
    "duration": 29,
    "start_time": "2023-01-27T13:39:56.162Z"
   },
   {
    "duration": 555,
    "start_time": "2023-01-27T13:39:56.193Z"
   },
   {
    "duration": 459,
    "start_time": "2023-01-27T13:39:56.750Z"
   },
   {
    "duration": 299,
    "start_time": "2023-01-27T13:39:57.211Z"
   },
   {
    "duration": 4,
    "start_time": "2023-01-27T13:40:05.073Z"
   },
   {
    "duration": 4,
    "start_time": "2023-01-27T13:40:09.941Z"
   },
   {
    "duration": 6,
    "start_time": "2023-01-27T13:40:19.830Z"
   },
   {
    "duration": 16,
    "start_time": "2023-01-27T13:40:33.722Z"
   },
   {
    "duration": 12,
    "start_time": "2023-01-27T13:40:55.534Z"
   },
   {
    "duration": 53,
    "start_time": "2023-01-27T13:41:15.626Z"
   },
   {
    "duration": 127,
    "start_time": "2023-01-27T13:41:25.474Z"
   },
   {
    "duration": 15,
    "start_time": "2023-01-27T13:41:56.844Z"
   },
   {
    "duration": 15,
    "start_time": "2023-01-27T13:42:28.151Z"
   },
   {
    "duration": 1071,
    "start_time": "2023-01-27T13:56:25.638Z"
   },
   {
    "duration": 289,
    "start_time": "2023-01-27T14:02:34.612Z"
   },
   {
    "duration": 303,
    "start_time": "2023-01-27T14:02:47.024Z"
   },
   {
    "duration": 1052,
    "start_time": "2023-01-27T14:02:51.700Z"
   },
   {
    "duration": 309,
    "start_time": "2023-01-27T14:03:17.901Z"
   },
   {
    "duration": 329,
    "start_time": "2023-01-27T14:03:25.529Z"
   },
   {
    "duration": 634,
    "start_time": "2023-01-27T14:03:50.529Z"
   },
   {
    "duration": 245,
    "start_time": "2023-01-27T14:08:45.550Z"
   },
   {
    "duration": 11,
    "start_time": "2023-01-27T14:12:53.449Z"
   },
   {
    "duration": 20,
    "start_time": "2023-01-27T14:13:02.235Z"
   },
   {
    "duration": 19,
    "start_time": "2023-01-27T14:13:24.570Z"
   },
   {
    "duration": 251,
    "start_time": "2023-01-27T14:14:58.317Z"
   },
   {
    "duration": 12,
    "start_time": "2023-01-27T14:16:52.482Z"
   },
   {
    "duration": 4,
    "start_time": "2023-01-27T14:17:29.226Z"
   },
   {
    "duration": 42,
    "start_time": "2023-01-27T14:17:29.234Z"
   },
   {
    "duration": 16,
    "start_time": "2023-01-27T14:17:29.279Z"
   },
   {
    "duration": 38,
    "start_time": "2023-01-27T14:17:29.297Z"
   },
   {
    "duration": 47,
    "start_time": "2023-01-27T14:17:29.337Z"
   },
   {
    "duration": 23,
    "start_time": "2023-01-27T14:17:29.386Z"
   },
   {
    "duration": 7,
    "start_time": "2023-01-27T14:17:29.410Z"
   },
   {
    "duration": 103,
    "start_time": "2023-01-27T14:17:29.419Z"
   },
   {
    "duration": 24,
    "start_time": "2023-01-27T14:17:29.524Z"
   },
   {
    "duration": 522,
    "start_time": "2023-01-27T14:17:29.550Z"
   },
   {
    "duration": 435,
    "start_time": "2023-01-27T14:17:30.074Z"
   },
   {
    "duration": 276,
    "start_time": "2023-01-27T14:17:30.511Z"
   },
   {
    "duration": 593,
    "start_time": "2023-01-27T14:17:30.788Z"
   },
   {
    "duration": 267,
    "start_time": "2023-01-27T14:17:31.385Z"
   },
   {
    "duration": 183,
    "start_time": "2023-01-27T14:17:31.656Z"
   },
   {
    "duration": 6,
    "start_time": "2023-01-27T14:19:31.558Z"
   },
   {
    "duration": 5,
    "start_time": "2023-01-27T14:19:52.090Z"
   },
   {
    "duration": 225,
    "start_time": "2023-01-27T14:20:10.559Z"
   },
   {
    "duration": 5,
    "start_time": "2023-01-27T14:20:41.032Z"
   },
   {
    "duration": 22,
    "start_time": "2023-01-27T14:28:32.961Z"
   },
   {
    "duration": 21,
    "start_time": "2023-01-27T14:29:19.906Z"
   },
   {
    "duration": 14,
    "start_time": "2023-01-27T14:47:36.185Z"
   },
   {
    "duration": 20,
    "start_time": "2023-01-27T14:49:08.403Z"
   },
   {
    "duration": 19,
    "start_time": "2023-01-27T14:49:51.936Z"
   },
   {
    "duration": 22,
    "start_time": "2023-01-27T14:50:10.097Z"
   },
   {
    "duration": 18,
    "start_time": "2023-01-27T14:53:31.082Z"
   },
   {
    "duration": 16,
    "start_time": "2023-01-27T14:55:24.186Z"
   },
   {
    "duration": 21,
    "start_time": "2023-01-27T15:10:21.123Z"
   },
   {
    "duration": 9,
    "start_time": "2023-01-27T15:14:56.478Z"
   },
   {
    "duration": 99,
    "start_time": "2023-01-27T15:19:26.725Z"
   },
   {
    "duration": 136,
    "start_time": "2023-01-27T15:19:32.344Z"
   },
   {
    "duration": 131,
    "start_time": "2023-01-27T15:19:42.269Z"
   },
   {
    "duration": 135,
    "start_time": "2023-01-27T15:19:48.957Z"
   },
   {
    "duration": 33,
    "start_time": "2023-01-27T15:23:05.314Z"
   },
   {
    "duration": 18,
    "start_time": "2023-01-27T15:23:16.865Z"
   },
   {
    "duration": 17,
    "start_time": "2023-01-27T15:24:28.058Z"
   },
   {
    "duration": 21,
    "start_time": "2023-01-27T15:24:38.266Z"
   },
   {
    "duration": 7,
    "start_time": "2023-01-27T15:25:59.296Z"
   },
   {
    "duration": 7,
    "start_time": "2023-01-27T15:26:08.455Z"
   },
   {
    "duration": 1172,
    "start_time": "2023-01-28T08:58:06.756Z"
   },
   {
    "duration": 79,
    "start_time": "2023-01-28T08:58:07.930Z"
   },
   {
    "duration": 13,
    "start_time": "2023-01-28T08:58:08.011Z"
   },
   {
    "duration": 13,
    "start_time": "2023-01-28T08:58:08.026Z"
   },
   {
    "duration": 86,
    "start_time": "2023-01-28T08:58:08.041Z"
   },
   {
    "duration": 69,
    "start_time": "2023-01-28T08:58:08.129Z"
   },
   {
    "duration": 7,
    "start_time": "2023-01-28T08:58:08.200Z"
   },
   {
    "duration": 9,
    "start_time": "2023-01-28T08:58:08.208Z"
   },
   {
    "duration": 27,
    "start_time": "2023-01-28T08:58:08.218Z"
   },
   {
    "duration": 434,
    "start_time": "2023-01-28T08:58:08.247Z"
   },
   {
    "duration": 494,
    "start_time": "2023-01-28T08:58:08.682Z"
   },
   {
    "duration": 251,
    "start_time": "2023-01-28T08:58:09.178Z"
   },
   {
    "duration": 534,
    "start_time": "2023-01-28T08:58:09.431Z"
   },
   {
    "duration": 260,
    "start_time": "2023-01-28T08:58:09.968Z"
   },
   {
    "duration": 173,
    "start_time": "2023-01-28T08:58:10.231Z"
   },
   {
    "duration": 5,
    "start_time": "2023-01-28T08:58:10.406Z"
   },
   {
    "duration": 209,
    "start_time": "2023-01-28T08:58:10.413Z"
   },
   {
    "duration": 5,
    "start_time": "2023-01-28T08:58:10.624Z"
   },
   {
    "duration": 112,
    "start_time": "2023-01-28T08:58:10.640Z"
   },
   {
    "duration": 16,
    "start_time": "2023-01-28T08:58:10.754Z"
   },
   {
    "duration": 17,
    "start_time": "2023-01-28T08:58:10.772Z"
   },
   {
    "duration": 18,
    "start_time": "2023-01-28T08:58:10.791Z"
   },
   {
    "duration": 54,
    "start_time": "2023-01-28T09:30:05.720Z"
   },
   {
    "duration": 1234,
    "start_time": "2023-01-28T09:30:13.742Z"
   },
   {
    "duration": 110,
    "start_time": "2023-01-28T09:30:14.978Z"
   },
   {
    "duration": 18,
    "start_time": "2023-01-28T09:30:15.090Z"
   },
   {
    "duration": 69,
    "start_time": "2023-01-28T09:30:15.111Z"
   },
   {
    "duration": 135,
    "start_time": "2023-01-28T09:30:15.181Z"
   },
   {
    "duration": 77,
    "start_time": "2023-01-28T09:30:15.318Z"
   },
   {
    "duration": 8,
    "start_time": "2023-01-28T09:30:15.397Z"
   },
   {
    "duration": 9,
    "start_time": "2023-01-28T09:30:15.407Z"
   },
   {
    "duration": 18,
    "start_time": "2023-01-28T09:30:15.418Z"
   },
   {
    "duration": 428,
    "start_time": "2023-01-28T09:30:15.439Z"
   },
   {
    "duration": 486,
    "start_time": "2023-01-28T09:30:15.869Z"
   },
   {
    "duration": 258,
    "start_time": "2023-01-28T09:30:16.357Z"
   },
   {
    "duration": 512,
    "start_time": "2023-01-28T09:30:18.425Z"
   },
   {
    "duration": 249,
    "start_time": "2023-01-28T09:32:07.030Z"
   },
   {
    "duration": 157,
    "start_time": "2023-01-28T09:34:27.265Z"
   },
   {
    "duration": 5,
    "start_time": "2023-01-28T09:34:38.881Z"
   },
   {
    "duration": 62,
    "start_time": "2023-01-28T09:34:58.324Z"
   },
   {
    "duration": 4,
    "start_time": "2023-01-28T09:35:16.482Z"
   },
   {
    "duration": 42,
    "start_time": "2023-01-28T09:35:16.490Z"
   },
   {
    "duration": 11,
    "start_time": "2023-01-28T09:35:16.534Z"
   },
   {
    "duration": 18,
    "start_time": "2023-01-28T09:35:16.547Z"
   },
   {
    "duration": 62,
    "start_time": "2023-01-28T09:35:16.567Z"
   },
   {
    "duration": 27,
    "start_time": "2023-01-28T09:35:16.631Z"
   },
   {
    "duration": 5,
    "start_time": "2023-01-28T09:35:16.659Z"
   },
   {
    "duration": 11,
    "start_time": "2023-01-28T09:35:16.666Z"
   },
   {
    "duration": 22,
    "start_time": "2023-01-28T09:35:16.678Z"
   },
   {
    "duration": 385,
    "start_time": "2023-01-28T09:35:16.702Z"
   },
   {
    "duration": 470,
    "start_time": "2023-01-28T09:35:17.088Z"
   },
   {
    "duration": 234,
    "start_time": "2023-01-28T09:35:17.560Z"
   },
   {
    "duration": 500,
    "start_time": "2023-01-28T09:35:17.795Z"
   },
   {
    "duration": 251,
    "start_time": "2023-01-28T09:35:18.297Z"
   },
   {
    "duration": 166,
    "start_time": "2023-01-28T09:35:18.551Z"
   },
   {
    "duration": 4,
    "start_time": "2023-01-28T09:35:18.719Z"
   },
   {
    "duration": 196,
    "start_time": "2023-01-28T09:35:18.725Z"
   },
   {
    "duration": 5,
    "start_time": "2023-01-28T09:35:23.689Z"
   },
   {
    "duration": 103,
    "start_time": "2023-01-28T09:35:34.549Z"
   },
   {
    "duration": 95,
    "start_time": "2023-01-28T09:41:20.856Z"
   },
   {
    "duration": 14,
    "start_time": "2023-01-28T09:43:55.822Z"
   },
   {
    "duration": 14,
    "start_time": "2023-01-28T09:45:28.118Z"
   },
   {
    "duration": 1031,
    "start_time": "2023-01-28T09:47:21.711Z"
   },
   {
    "duration": 35,
    "start_time": "2023-01-28T09:47:22.744Z"
   },
   {
    "duration": 11,
    "start_time": "2023-01-28T09:47:22.781Z"
   },
   {
    "duration": 12,
    "start_time": "2023-01-28T09:47:22.794Z"
   },
   {
    "duration": 49,
    "start_time": "2023-01-28T09:47:22.808Z"
   },
   {
    "duration": 25,
    "start_time": "2023-01-28T09:47:22.858Z"
   },
   {
    "duration": 7,
    "start_time": "2023-01-28T09:47:22.885Z"
   },
   {
    "duration": 11,
    "start_time": "2023-01-28T09:47:22.894Z"
   },
   {
    "duration": 15,
    "start_time": "2023-01-28T09:47:22.906Z"
   },
   {
    "duration": 427,
    "start_time": "2023-01-28T09:47:22.924Z"
   },
   {
    "duration": 397,
    "start_time": "2023-01-28T09:47:23.352Z"
   },
   {
    "duration": 240,
    "start_time": "2023-01-28T09:47:23.751Z"
   },
   {
    "duration": 504,
    "start_time": "2023-01-28T09:47:23.993Z"
   },
   {
    "duration": 245,
    "start_time": "2023-01-28T09:47:24.499Z"
   },
   {
    "duration": 154,
    "start_time": "2023-01-28T09:47:24.746Z"
   },
   {
    "duration": 4,
    "start_time": "2023-01-28T09:47:24.902Z"
   },
   {
    "duration": 201,
    "start_time": "2023-01-28T09:47:24.908Z"
   },
   {
    "duration": 4,
    "start_time": "2023-01-28T09:47:25.111Z"
   },
   {
    "duration": 122,
    "start_time": "2023-01-28T09:47:25.117Z"
   },
   {
    "duration": 13,
    "start_time": "2023-01-28T09:47:25.241Z"
   },
   {
    "duration": 14,
    "start_time": "2023-01-28T09:47:25.256Z"
   },
   {
    "duration": 32,
    "start_time": "2023-01-28T09:47:25.272Z"
   },
   {
    "duration": 1129,
    "start_time": "2023-01-28T14:32:41.572Z"
   },
   {
    "duration": 41,
    "start_time": "2023-01-28T14:32:42.704Z"
   },
   {
    "duration": 37,
    "start_time": "2023-01-28T14:32:42.753Z"
   },
   {
    "duration": 38,
    "start_time": "2023-01-28T14:32:42.792Z"
   },
   {
    "duration": 86,
    "start_time": "2023-01-28T14:32:42.832Z"
   },
   {
    "duration": 27,
    "start_time": "2023-01-28T14:32:42.920Z"
   },
   {
    "duration": 25,
    "start_time": "2023-01-28T14:32:42.948Z"
   },
   {
    "duration": 39,
    "start_time": "2023-01-28T14:32:42.975Z"
   },
   {
    "duration": 61,
    "start_time": "2023-01-28T14:32:43.015Z"
   },
   {
    "duration": 503,
    "start_time": "2023-01-28T14:32:43.078Z"
   },
   {
    "duration": 401,
    "start_time": "2023-01-28T14:32:43.584Z"
   },
   {
    "duration": 243,
    "start_time": "2023-01-28T14:32:43.986Z"
   },
   {
    "duration": 500,
    "start_time": "2023-01-28T14:32:44.231Z"
   },
   {
    "duration": 241,
    "start_time": "2023-01-28T14:32:44.733Z"
   },
   {
    "duration": 147,
    "start_time": "2023-01-28T14:32:44.976Z"
   },
   {
    "duration": 4,
    "start_time": "2023-01-28T14:32:45.124Z"
   },
   {
    "duration": 195,
    "start_time": "2023-01-28T14:32:45.130Z"
   },
   {
    "duration": 23,
    "start_time": "2023-01-28T14:32:45.327Z"
   },
   {
    "duration": 116,
    "start_time": "2023-01-28T14:32:45.359Z"
   },
   {
    "duration": 14,
    "start_time": "2023-01-28T14:32:45.478Z"
   },
   {
    "duration": 85,
    "start_time": "2023-01-28T14:32:45.494Z"
   },
   {
    "duration": 39,
    "start_time": "2023-01-28T14:32:45.580Z"
   },
   {
    "duration": 22,
    "start_time": "2023-01-28T14:49:19.030Z"
   },
   {
    "duration": 7,
    "start_time": "2023-01-28T14:51:15.780Z"
   },
   {
    "duration": 1180,
    "start_time": "2023-01-28T14:55:59.414Z"
   },
   {
    "duration": 30,
    "start_time": "2023-01-28T14:56:00.596Z"
   },
   {
    "duration": 50,
    "start_time": "2023-01-28T14:56:00.628Z"
   },
   {
    "duration": 46,
    "start_time": "2023-01-28T14:56:00.683Z"
   },
   {
    "duration": 115,
    "start_time": "2023-01-28T14:56:00.731Z"
   },
   {
    "duration": 42,
    "start_time": "2023-01-28T14:56:00.848Z"
   },
   {
    "duration": 14,
    "start_time": "2023-01-28T14:56:00.892Z"
   },
   {
    "duration": 72,
    "start_time": "2023-01-28T14:56:00.908Z"
   },
   {
    "duration": 31,
    "start_time": "2023-01-28T14:56:00.983Z"
   },
   {
    "duration": 499,
    "start_time": "2023-01-28T14:56:01.016Z"
   },
   {
    "duration": 414,
    "start_time": "2023-01-28T14:56:01.517Z"
   },
   {
    "duration": 289,
    "start_time": "2023-01-28T14:56:01.933Z"
   },
   {
    "duration": 575,
    "start_time": "2023-01-28T14:56:02.223Z"
   },
   {
    "duration": 335,
    "start_time": "2023-01-28T14:56:02.800Z"
   },
   {
    "duration": 213,
    "start_time": "2023-01-28T14:56:03.141Z"
   },
   {
    "duration": 4,
    "start_time": "2023-01-28T14:56:03.356Z"
   },
   {
    "duration": 234,
    "start_time": "2023-01-28T14:56:03.361Z"
   },
   {
    "duration": 4,
    "start_time": "2023-01-28T14:56:03.597Z"
   },
   {
    "duration": 146,
    "start_time": "2023-01-28T14:56:03.603Z"
   },
   {
    "duration": 18,
    "start_time": "2023-01-28T14:56:03.753Z"
   },
   {
    "duration": 26,
    "start_time": "2023-01-28T14:56:03.776Z"
   },
   {
    "duration": 17,
    "start_time": "2023-01-28T14:56:03.804Z"
   },
   {
    "duration": 12,
    "start_time": "2023-01-28T14:57:19.582Z"
   },
   {
    "duration": 1091,
    "start_time": "2023-01-28T15:05:13.194Z"
   },
   {
    "duration": 29,
    "start_time": "2023-01-28T15:05:14.287Z"
   },
   {
    "duration": 12,
    "start_time": "2023-01-28T15:05:14.318Z"
   },
   {
    "duration": 21,
    "start_time": "2023-01-28T15:05:14.331Z"
   },
   {
    "duration": 60,
    "start_time": "2023-01-28T15:05:14.357Z"
   },
   {
    "duration": 24,
    "start_time": "2023-01-28T15:05:14.418Z"
   },
   {
    "duration": 15,
    "start_time": "2023-01-28T15:05:14.443Z"
   },
   {
    "duration": 15,
    "start_time": "2023-01-28T15:05:14.459Z"
   },
   {
    "duration": 8,
    "start_time": "2023-01-28T15:05:14.476Z"
   },
   {
    "duration": 12,
    "start_time": "2023-01-28T15:05:14.486Z"
   },
   {
    "duration": 402,
    "start_time": "2023-01-28T15:05:14.499Z"
   },
   {
    "duration": 389,
    "start_time": "2023-01-28T15:05:14.902Z"
   },
   {
    "duration": 233,
    "start_time": "2023-01-28T15:05:15.293Z"
   },
   {
    "duration": 503,
    "start_time": "2023-01-28T15:05:15.529Z"
   },
   {
    "duration": 234,
    "start_time": "2023-01-28T15:05:16.033Z"
   },
   {
    "duration": 157,
    "start_time": "2023-01-28T15:05:16.269Z"
   },
   {
    "duration": 16,
    "start_time": "2023-01-28T15:05:16.428Z"
   },
   {
    "duration": 199,
    "start_time": "2023-01-28T15:05:16.451Z"
   },
   {
    "duration": 5,
    "start_time": "2023-01-28T15:05:16.651Z"
   },
   {
    "duration": 108,
    "start_time": "2023-01-28T15:05:16.657Z"
   },
   {
    "duration": 14,
    "start_time": "2023-01-28T15:05:16.766Z"
   },
   {
    "duration": 16,
    "start_time": "2023-01-28T15:05:16.781Z"
   },
   {
    "duration": 13,
    "start_time": "2023-01-28T15:05:16.798Z"
   },
   {
    "duration": 55,
    "start_time": "2023-01-28T15:40:11.359Z"
   },
   {
    "duration": 1322,
    "start_time": "2023-01-28T15:40:15.352Z"
   },
   {
    "duration": 93,
    "start_time": "2023-01-28T15:40:16.676Z"
   },
   {
    "duration": 11,
    "start_time": "2023-01-28T15:40:16.770Z"
   },
   {
    "duration": 19,
    "start_time": "2023-01-28T15:40:16.782Z"
   },
   {
    "duration": 107,
    "start_time": "2023-01-28T15:40:16.802Z"
   },
   {
    "duration": 71,
    "start_time": "2023-01-28T15:40:16.911Z"
   },
   {
    "duration": 10,
    "start_time": "2023-01-28T15:40:16.984Z"
   },
   {
    "duration": 11,
    "start_time": "2023-01-28T15:40:16.996Z"
   },
   {
    "duration": 14,
    "start_time": "2023-01-28T15:40:17.009Z"
   },
   {
    "duration": 18,
    "start_time": "2023-01-28T15:40:17.025Z"
   },
   {
    "duration": 5,
    "start_time": "2023-01-28T15:40:19.057Z"
   },
   {
    "duration": 6,
    "start_time": "2023-01-28T15:40:37.311Z"
   },
   {
    "duration": 10,
    "start_time": "2023-01-28T15:51:34.143Z"
   },
   {
    "duration": 10,
    "start_time": "2023-01-28T15:53:05.569Z"
   },
   {
    "duration": 11,
    "start_time": "2023-01-28T15:53:20.920Z"
   },
   {
    "duration": 10,
    "start_time": "2023-01-28T15:56:10.248Z"
   },
   {
    "duration": 67,
    "start_time": "2023-01-28T15:58:54.922Z"
   },
   {
    "duration": 12,
    "start_time": "2023-01-28T15:59:56.249Z"
   },
   {
    "duration": 13,
    "start_time": "2023-01-28T16:00:22.240Z"
   },
   {
    "duration": 10,
    "start_time": "2023-01-28T16:00:49.010Z"
   },
   {
    "duration": 7,
    "start_time": "2023-01-28T16:02:48.670Z"
   },
   {
    "duration": 14,
    "start_time": "2023-01-28T16:03:01.306Z"
   },
   {
    "duration": 63,
    "start_time": "2023-01-28T16:03:42.029Z"
   },
   {
    "duration": 105,
    "start_time": "2023-01-28T16:10:04.702Z"
   },
   {
    "duration": 14,
    "start_time": "2023-01-28T16:10:12.109Z"
   },
   {
    "duration": 8,
    "start_time": "2023-01-28T16:10:30.562Z"
   },
   {
    "duration": 9,
    "start_time": "2023-01-28T16:10:53.378Z"
   },
   {
    "duration": 1005,
    "start_time": "2023-01-28T16:11:16.497Z"
   },
   {
    "duration": 36,
    "start_time": "2023-01-28T16:11:17.503Z"
   },
   {
    "duration": 12,
    "start_time": "2023-01-28T16:11:17.541Z"
   },
   {
    "duration": 12,
    "start_time": "2023-01-28T16:11:17.554Z"
   },
   {
    "duration": 51,
    "start_time": "2023-01-28T16:11:17.568Z"
   },
   {
    "duration": 23,
    "start_time": "2023-01-28T16:11:17.620Z"
   },
   {
    "duration": 5,
    "start_time": "2023-01-28T16:11:17.645Z"
   },
   {
    "duration": 5,
    "start_time": "2023-01-28T16:11:17.652Z"
   },
   {
    "duration": 10,
    "start_time": "2023-01-28T16:11:17.658Z"
   },
   {
    "duration": 13,
    "start_time": "2023-01-28T16:11:19.681Z"
   },
   {
    "duration": 13,
    "start_time": "2023-01-28T16:11:32.417Z"
   },
   {
    "duration": 104,
    "start_time": "2023-01-28T16:12:10.602Z"
   },
   {
    "duration": 9,
    "start_time": "2023-01-28T16:12:45.035Z"
   },
   {
    "duration": 9,
    "start_time": "2023-01-28T16:12:49.975Z"
   },
   {
    "duration": 5,
    "start_time": "2023-01-28T16:12:50.540Z"
   },
   {
    "duration": 5,
    "start_time": "2023-01-28T16:12:50.895Z"
   },
   {
    "duration": 9,
    "start_time": "2023-01-28T16:13:08.731Z"
   },
   {
    "duration": 1094,
    "start_time": "2023-01-28T16:13:49.890Z"
   },
   {
    "duration": 37,
    "start_time": "2023-01-28T16:13:50.986Z"
   },
   {
    "duration": 12,
    "start_time": "2023-01-28T16:13:51.024Z"
   },
   {
    "duration": 13,
    "start_time": "2023-01-28T16:13:51.038Z"
   },
   {
    "duration": 50,
    "start_time": "2023-01-28T16:13:51.053Z"
   },
   {
    "duration": 24,
    "start_time": "2023-01-28T16:13:51.105Z"
   },
   {
    "duration": 5,
    "start_time": "2023-01-28T16:13:51.131Z"
   },
   {
    "duration": 11,
    "start_time": "2023-01-28T16:13:51.138Z"
   },
   {
    "duration": 11,
    "start_time": "2023-01-28T16:13:51.150Z"
   },
   {
    "duration": 14,
    "start_time": "2023-01-28T16:13:55.032Z"
   },
   {
    "duration": 15,
    "start_time": "2023-01-28T16:14:04.749Z"
   },
   {
    "duration": 90,
    "start_time": "2023-01-28T16:14:39.512Z"
   },
   {
    "duration": 0,
    "start_time": "2023-01-28T16:14:39.605Z"
   },
   {
    "duration": 1,
    "start_time": "2023-01-28T16:14:39.605Z"
   },
   {
    "duration": 0,
    "start_time": "2023-01-28T16:14:39.607Z"
   },
   {
    "duration": 0,
    "start_time": "2023-01-28T16:14:39.609Z"
   },
   {
    "duration": 0,
    "start_time": "2023-01-28T16:14:39.610Z"
   },
   {
    "duration": 0,
    "start_time": "2023-01-28T16:14:39.611Z"
   },
   {
    "duration": 0,
    "start_time": "2023-01-28T16:14:39.612Z"
   },
   {
    "duration": 0,
    "start_time": "2023-01-28T16:14:39.613Z"
   },
   {
    "duration": 0,
    "start_time": "2023-01-28T16:14:39.615Z"
   },
   {
    "duration": 0,
    "start_time": "2023-01-28T16:14:39.616Z"
   },
   {
    "duration": 0,
    "start_time": "2023-01-28T16:14:39.617Z"
   },
   {
    "duration": 0,
    "start_time": "2023-01-28T16:14:39.618Z"
   },
   {
    "duration": 0,
    "start_time": "2023-01-28T16:14:39.619Z"
   },
   {
    "duration": 0,
    "start_time": "2023-01-28T16:14:39.620Z"
   },
   {
    "duration": 0,
    "start_time": "2023-01-28T16:14:39.648Z"
   },
   {
    "duration": 3,
    "start_time": "2023-01-28T16:15:06.965Z"
   },
   {
    "duration": 35,
    "start_time": "2023-01-28T16:15:06.972Z"
   },
   {
    "duration": 10,
    "start_time": "2023-01-28T16:15:07.008Z"
   },
   {
    "duration": 14,
    "start_time": "2023-01-28T16:15:07.019Z"
   },
   {
    "duration": 53,
    "start_time": "2023-01-28T16:15:07.034Z"
   },
   {
    "duration": 22,
    "start_time": "2023-01-28T16:15:07.089Z"
   },
   {
    "duration": 5,
    "start_time": "2023-01-28T16:15:07.113Z"
   },
   {
    "duration": 7,
    "start_time": "2023-01-28T16:15:07.119Z"
   },
   {
    "duration": 17,
    "start_time": "2023-01-28T16:15:07.127Z"
   },
   {
    "duration": 11,
    "start_time": "2023-01-28T16:15:07.145Z"
   },
   {
    "duration": 4,
    "start_time": "2023-01-28T16:15:07.157Z"
   },
   {
    "duration": 9,
    "start_time": "2023-01-28T16:15:07.162Z"
   },
   {
    "duration": 400,
    "start_time": "2023-01-28T16:15:07.172Z"
   },
   {
    "duration": 394,
    "start_time": "2023-01-28T16:15:07.574Z"
   },
   {
    "duration": 226,
    "start_time": "2023-01-28T16:15:07.970Z"
   },
   {
    "duration": 471,
    "start_time": "2023-01-28T16:15:08.198Z"
   },
   {
    "duration": 237,
    "start_time": "2023-01-28T16:15:08.671Z"
   },
   {
    "duration": 158,
    "start_time": "2023-01-28T16:15:08.910Z"
   },
   {
    "duration": 5,
    "start_time": "2023-01-28T16:15:09.070Z"
   },
   {
    "duration": 187,
    "start_time": "2023-01-28T16:15:09.077Z"
   },
   {
    "duration": 5,
    "start_time": "2023-01-28T16:15:09.266Z"
   },
   {
    "duration": 101,
    "start_time": "2023-01-28T16:15:09.273Z"
   },
   {
    "duration": 14,
    "start_time": "2023-01-28T16:15:09.376Z"
   },
   {
    "duration": 20,
    "start_time": "2023-01-28T16:15:09.392Z"
   },
   {
    "duration": 39,
    "start_time": "2023-01-28T16:15:09.414Z"
   },
   {
    "duration": 11,
    "start_time": "2023-01-28T16:17:35.316Z"
   },
   {
    "duration": 8,
    "start_time": "2023-01-28T16:17:53.046Z"
   },
   {
    "duration": 11,
    "start_time": "2023-01-28T16:18:21.645Z"
   },
   {
    "duration": 8,
    "start_time": "2023-01-28T16:18:26.593Z"
   },
   {
    "duration": 9,
    "start_time": "2023-01-28T16:18:45.452Z"
   },
   {
    "duration": 8,
    "start_time": "2023-01-28T16:18:52.939Z"
   },
   {
    "duration": 9,
    "start_time": "2023-01-28T16:19:01.185Z"
   },
   {
    "duration": 9,
    "start_time": "2023-01-28T16:19:13.974Z"
   },
   {
    "duration": 3,
    "start_time": "2023-01-28T16:20:07.510Z"
   },
   {
    "duration": 36,
    "start_time": "2023-01-28T16:20:07.515Z"
   },
   {
    "duration": 10,
    "start_time": "2023-01-28T16:20:07.553Z"
   },
   {
    "duration": 13,
    "start_time": "2023-01-28T16:20:07.566Z"
   },
   {
    "duration": 52,
    "start_time": "2023-01-28T16:20:07.580Z"
   },
   {
    "duration": 24,
    "start_time": "2023-01-28T16:20:07.634Z"
   },
   {
    "duration": 7,
    "start_time": "2023-01-28T16:20:07.659Z"
   },
   {
    "duration": 10,
    "start_time": "2023-01-28T16:20:07.667Z"
   },
   {
    "duration": 8,
    "start_time": "2023-01-28T16:20:07.679Z"
   },
   {
    "duration": 11,
    "start_time": "2023-01-28T16:20:09.923Z"
   },
   {
    "duration": 13,
    "start_time": "2023-01-28T16:20:24.890Z"
   },
   {
    "duration": 3,
    "start_time": "2023-01-28T16:20:42.419Z"
   },
   {
    "duration": 34,
    "start_time": "2023-01-28T16:20:42.426Z"
   },
   {
    "duration": 10,
    "start_time": "2023-01-28T16:20:42.462Z"
   },
   {
    "duration": 16,
    "start_time": "2023-01-28T16:20:42.474Z"
   },
   {
    "duration": 50,
    "start_time": "2023-01-28T16:20:42.491Z"
   },
   {
    "duration": 22,
    "start_time": "2023-01-28T16:20:42.543Z"
   },
   {
    "duration": 6,
    "start_time": "2023-01-28T16:20:42.567Z"
   },
   {
    "duration": 9,
    "start_time": "2023-01-28T16:20:42.575Z"
   },
   {
    "duration": 11,
    "start_time": "2023-01-28T16:20:42.585Z"
   },
   {
    "duration": 13,
    "start_time": "2023-01-28T16:20:44.271Z"
   },
   {
    "duration": 1083,
    "start_time": "2023-01-28T16:21:06.817Z"
   },
   {
    "duration": 37,
    "start_time": "2023-01-28T16:21:07.901Z"
   },
   {
    "duration": 12,
    "start_time": "2023-01-28T16:21:07.939Z"
   },
   {
    "duration": 12,
    "start_time": "2023-01-28T16:21:07.953Z"
   },
   {
    "duration": 50,
    "start_time": "2023-01-28T16:21:07.966Z"
   },
   {
    "duration": 25,
    "start_time": "2023-01-28T16:21:08.018Z"
   },
   {
    "duration": 6,
    "start_time": "2023-01-28T16:21:08.044Z"
   },
   {
    "duration": 9,
    "start_time": "2023-01-28T16:21:08.051Z"
   },
   {
    "duration": 10,
    "start_time": "2023-01-28T16:21:08.061Z"
   },
   {
    "duration": 14,
    "start_time": "2023-01-28T16:21:13.935Z"
   },
   {
    "duration": 908,
    "start_time": "2023-01-28T16:21:33.057Z"
   },
   {
    "duration": 878,
    "start_time": "2023-01-28T16:21:59.433Z"
   },
   {
    "duration": 788,
    "start_time": "2023-01-28T16:22:22.812Z"
   },
   {
    "duration": 4,
    "start_time": "2023-01-28T16:22:28.047Z"
   },
   {
    "duration": 35,
    "start_time": "2023-01-28T16:22:28.061Z"
   },
   {
    "duration": 13,
    "start_time": "2023-01-28T16:22:28.098Z"
   },
   {
    "duration": 14,
    "start_time": "2023-01-28T16:22:28.113Z"
   },
   {
    "duration": 54,
    "start_time": "2023-01-28T16:22:28.129Z"
   },
   {
    "duration": 25,
    "start_time": "2023-01-28T16:22:28.186Z"
   },
   {
    "duration": 7,
    "start_time": "2023-01-28T16:22:28.213Z"
   },
   {
    "duration": 5,
    "start_time": "2023-01-28T16:22:28.222Z"
   },
   {
    "duration": 11,
    "start_time": "2023-01-28T16:22:28.228Z"
   },
   {
    "duration": 15,
    "start_time": "2023-01-28T16:22:30.321Z"
   },
   {
    "duration": 5,
    "start_time": "2023-01-28T16:25:17.427Z"
   },
   {
    "duration": 6,
    "start_time": "2023-01-28T16:25:20.192Z"
   },
   {
    "duration": 4,
    "start_time": "2023-01-28T16:28:17.935Z"
   },
   {
    "duration": 1224,
    "start_time": "2023-01-29T11:27:23.338Z"
   },
   {
    "duration": 64,
    "start_time": "2023-01-29T11:27:24.564Z"
   },
   {
    "duration": 11,
    "start_time": "2023-01-29T11:27:24.630Z"
   },
   {
    "duration": 11,
    "start_time": "2023-01-29T11:27:24.643Z"
   },
   {
    "duration": 105,
    "start_time": "2023-01-29T11:27:24.656Z"
   },
   {
    "duration": 62,
    "start_time": "2023-01-29T11:27:24.762Z"
   },
   {
    "duration": 6,
    "start_time": "2023-01-29T11:27:24.826Z"
   },
   {
    "duration": 8,
    "start_time": "2023-01-29T11:27:24.833Z"
   },
   {
    "duration": 19,
    "start_time": "2023-01-29T11:27:24.842Z"
   },
   {
    "duration": 16,
    "start_time": "2023-01-29T11:27:24.863Z"
   },
   {
    "duration": 15,
    "start_time": "2023-01-29T11:27:24.880Z"
   },
   {
    "duration": 8,
    "start_time": "2023-01-29T11:27:24.897Z"
   },
   {
    "duration": 412,
    "start_time": "2023-01-29T11:27:24.907Z"
   },
   {
    "duration": 397,
    "start_time": "2023-01-29T11:27:25.322Z"
   },
   {
    "duration": 230,
    "start_time": "2023-01-29T11:27:25.721Z"
   },
   {
    "duration": 490,
    "start_time": "2023-01-29T11:27:25.953Z"
   },
   {
    "duration": 254,
    "start_time": "2023-01-29T11:27:26.445Z"
   },
   {
    "duration": 177,
    "start_time": "2023-01-29T11:27:26.701Z"
   },
   {
    "duration": 4,
    "start_time": "2023-01-29T11:27:26.879Z"
   },
   {
    "duration": 296,
    "start_time": "2023-01-29T11:27:26.884Z"
   },
   {
    "duration": 5,
    "start_time": "2023-01-29T11:27:27.182Z"
   },
   {
    "duration": 139,
    "start_time": "2023-01-29T11:27:27.189Z"
   },
   {
    "duration": 20,
    "start_time": "2023-01-29T11:27:27.330Z"
   },
   {
    "duration": 33,
    "start_time": "2023-01-29T11:27:27.352Z"
   },
   {
    "duration": 26,
    "start_time": "2023-01-29T11:27:27.387Z"
   },
   {
    "duration": 495,
    "start_time": "2023-01-29T11:30:05.673Z"
   },
   {
    "duration": 552,
    "start_time": "2023-01-29T11:31:47.448Z"
   },
   {
    "duration": 237,
    "start_time": "2023-01-29T11:31:48.003Z"
   },
   {
    "duration": 182,
    "start_time": "2023-01-29T11:31:48.242Z"
   },
   {
    "duration": 4,
    "start_time": "2023-01-29T11:31:48.425Z"
   },
   {
    "duration": 196,
    "start_time": "2023-01-29T11:31:48.431Z"
   },
   {
    "duration": 4,
    "start_time": "2023-01-29T11:31:48.628Z"
   },
   {
    "duration": 110,
    "start_time": "2023-01-29T11:31:48.633Z"
   },
   {
    "duration": 13,
    "start_time": "2023-01-29T11:31:48.745Z"
   },
   {
    "duration": 14,
    "start_time": "2023-01-29T11:31:48.759Z"
   },
   {
    "duration": 37,
    "start_time": "2023-01-29T11:31:48.775Z"
   },
   {
    "duration": 153,
    "start_time": "2023-01-29T11:44:06.699Z"
   },
   {
    "duration": 27,
    "start_time": "2023-01-29T11:48:59.039Z"
   },
   {
    "duration": 23,
    "start_time": "2023-01-29T11:49:31.660Z"
   },
   {
    "duration": 124,
    "start_time": "2023-01-29T11:50:05.474Z"
   },
   {
    "duration": 384,
    "start_time": "2023-01-29T11:52:11.196Z"
   },
   {
    "duration": 8,
    "start_time": "2023-01-29T11:58:22.862Z"
   },
   {
    "duration": 692,
    "start_time": "2023-01-29T12:00:48.959Z"
   },
   {
    "duration": 49,
    "start_time": "2023-01-29T12:01:12.882Z"
   },
   {
    "duration": 630,
    "start_time": "2023-01-29T12:02:27.324Z"
   },
   {
    "duration": 9,
    "start_time": "2023-01-29T12:02:40.195Z"
   },
   {
    "duration": 1319,
    "start_time": "2023-01-29T17:17:40.183Z"
   },
   {
    "duration": 41,
    "start_time": "2023-01-29T17:17:41.505Z"
   },
   {
    "duration": 20,
    "start_time": "2023-01-29T17:17:41.548Z"
   },
   {
    "duration": 30,
    "start_time": "2023-01-29T17:17:41.571Z"
   },
   {
    "duration": 70,
    "start_time": "2023-01-29T17:17:41.603Z"
   },
   {
    "duration": 27,
    "start_time": "2023-01-29T17:17:41.675Z"
   },
   {
    "duration": 9,
    "start_time": "2023-01-29T17:17:41.704Z"
   },
   {
    "duration": 41,
    "start_time": "2023-01-29T17:17:41.716Z"
   },
   {
    "duration": 36,
    "start_time": "2023-01-29T17:17:41.759Z"
   },
   {
    "duration": 30,
    "start_time": "2023-01-29T17:17:41.798Z"
   },
   {
    "duration": 42,
    "start_time": "2023-01-29T17:17:41.830Z"
   },
   {
    "duration": 51,
    "start_time": "2023-01-29T17:17:41.873Z"
   },
   {
    "duration": 477,
    "start_time": "2023-01-29T17:17:41.926Z"
   },
   {
    "duration": 463,
    "start_time": "2023-01-29T17:17:42.406Z"
   },
   {
    "duration": 267,
    "start_time": "2023-01-29T17:17:42.871Z"
   },
   {
    "duration": 686,
    "start_time": "2023-01-29T17:17:43.140Z"
   },
   {
    "duration": 318,
    "start_time": "2023-01-29T17:17:43.829Z"
   },
   {
    "duration": 200,
    "start_time": "2023-01-29T17:17:44.149Z"
   },
   {
    "duration": 6,
    "start_time": "2023-01-29T17:17:44.351Z"
   },
   {
    "duration": 218,
    "start_time": "2023-01-29T17:17:44.359Z"
   },
   {
    "duration": 7,
    "start_time": "2023-01-29T17:17:44.579Z"
   },
   {
    "duration": 4,
    "start_time": "2023-01-29T17:17:44.598Z"
   },
   {
    "duration": 449,
    "start_time": "2023-01-29T17:17:44.605Z"
   },
   {
    "duration": 4,
    "start_time": "2023-01-29T17:17:45.056Z"
   },
   {
    "duration": 20,
    "start_time": "2023-01-29T17:17:45.062Z"
   },
   {
    "duration": 16,
    "start_time": "2023-01-29T17:17:45.084Z"
   },
   {
    "duration": 44,
    "start_time": "2023-01-29T17:17:45.103Z"
   },
   {
    "duration": 5,
    "start_time": "2023-01-29T17:17:45.148Z"
   },
   {
    "duration": 19,
    "start_time": "2023-01-29T17:17:45.155Z"
   },
   {
    "duration": 1147,
    "start_time": "2023-01-29T17:24:54.422Z"
   },
   {
    "duration": 34,
    "start_time": "2023-01-29T17:24:55.571Z"
   },
   {
    "duration": 14,
    "start_time": "2023-01-29T17:24:55.606Z"
   },
   {
    "duration": 14,
    "start_time": "2023-01-29T17:24:55.622Z"
   },
   {
    "duration": 48,
    "start_time": "2023-01-29T17:24:55.638Z"
   },
   {
    "duration": 22,
    "start_time": "2023-01-29T17:24:55.688Z"
   },
   {
    "duration": 7,
    "start_time": "2023-01-29T17:24:55.711Z"
   },
   {
    "duration": 12,
    "start_time": "2023-01-29T17:24:55.720Z"
   },
   {
    "duration": 17,
    "start_time": "2023-01-29T17:24:55.734Z"
   },
   {
    "duration": 15,
    "start_time": "2023-01-29T17:24:55.753Z"
   },
   {
    "duration": 29,
    "start_time": "2023-01-29T17:24:55.770Z"
   },
   {
    "duration": 8,
    "start_time": "2023-01-29T17:24:55.801Z"
   },
   {
    "duration": 456,
    "start_time": "2023-01-29T17:24:55.811Z"
   },
   {
    "duration": 436,
    "start_time": "2023-01-29T17:24:56.270Z"
   },
   {
    "duration": 240,
    "start_time": "2023-01-29T17:24:56.708Z"
   },
   {
    "duration": 645,
    "start_time": "2023-01-29T17:24:56.951Z"
   },
   {
    "duration": 262,
    "start_time": "2023-01-29T17:24:57.600Z"
   },
   {
    "duration": 182,
    "start_time": "2023-01-29T17:24:57.864Z"
   },
   {
    "duration": 5,
    "start_time": "2023-01-29T17:24:58.047Z"
   },
   {
    "duration": 215,
    "start_time": "2023-01-29T17:24:58.054Z"
   },
   {
    "duration": 5,
    "start_time": "2023-01-29T17:24:58.271Z"
   },
   {
    "duration": 18,
    "start_time": "2023-01-29T17:24:58.278Z"
   },
   {
    "duration": 396,
    "start_time": "2023-01-29T17:24:58.298Z"
   },
   {
    "duration": 3,
    "start_time": "2023-01-29T17:24:58.696Z"
   },
   {
    "duration": 13,
    "start_time": "2023-01-29T17:24:58.700Z"
   },
   {
    "duration": 13,
    "start_time": "2023-01-29T17:24:58.715Z"
   },
   {
    "duration": 34,
    "start_time": "2023-01-29T17:24:58.730Z"
   },
   {
    "duration": 2,
    "start_time": "2023-01-29T17:24:58.766Z"
   },
   {
    "duration": 32,
    "start_time": "2023-01-29T17:24:58.770Z"
   },
   {
    "duration": 53,
    "start_time": "2023-01-30T10:57:37.862Z"
   },
   {
    "duration": 1286,
    "start_time": "2023-01-30T10:57:42.088Z"
   },
   {
    "duration": 65,
    "start_time": "2023-01-30T10:57:43.376Z"
   },
   {
    "duration": 12,
    "start_time": "2023-01-30T10:57:43.443Z"
   },
   {
    "duration": 13,
    "start_time": "2023-01-30T10:57:43.457Z"
   },
   {
    "duration": 77,
    "start_time": "2023-01-30T10:57:43.471Z"
   },
   {
    "duration": 65,
    "start_time": "2023-01-30T10:57:43.550Z"
   },
   {
    "duration": 7,
    "start_time": "2023-01-30T10:57:43.617Z"
   },
   {
    "duration": 7,
    "start_time": "2023-01-30T10:57:43.626Z"
   },
   {
    "duration": 15,
    "start_time": "2023-01-30T10:57:43.635Z"
   },
   {
    "duration": 15,
    "start_time": "2023-01-30T10:57:43.653Z"
   },
   {
    "duration": 8,
    "start_time": "2023-01-30T10:57:43.670Z"
   },
   {
    "duration": 8,
    "start_time": "2023-01-30T10:57:43.709Z"
   },
   {
    "duration": 442,
    "start_time": "2023-01-30T10:57:45.445Z"
   },
   {
    "duration": 298,
    "start_time": "2023-01-30T10:57:47.824Z"
   },
   {
    "duration": 327,
    "start_time": "2023-01-30T10:58:04.596Z"
   },
   {
    "duration": 404,
    "start_time": "2023-01-30T10:58:11.293Z"
   },
   {
    "duration": 394,
    "start_time": "2023-01-30T10:58:21.308Z"
   },
   {
    "duration": 549,
    "start_time": "2023-01-30T10:59:26.000Z"
   },
   {
    "duration": 386,
    "start_time": "2023-01-30T11:00:17.727Z"
   },
   {
    "duration": 444,
    "start_time": "2023-01-30T11:00:40.051Z"
   },
   {
    "duration": 449,
    "start_time": "2023-01-30T11:00:53.242Z"
   },
   {
    "duration": 389,
    "start_time": "2023-01-30T11:02:05.869Z"
   },
   {
    "duration": 393,
    "start_time": "2023-01-30T11:02:24.157Z"
   },
   {
    "duration": 364,
    "start_time": "2023-01-30T11:06:07.462Z"
   },
   {
    "duration": 365,
    "start_time": "2023-01-30T11:08:06.976Z"
   },
   {
    "duration": 422,
    "start_time": "2023-01-30T11:12:06.612Z"
   },
   {
    "duration": 367,
    "start_time": "2023-01-30T11:12:11.448Z"
   },
   {
    "duration": 235,
    "start_time": "2023-01-30T11:13:11.278Z"
   },
   {
    "duration": 515,
    "start_time": "2023-01-30T11:15:03.093Z"
   },
   {
    "duration": 233,
    "start_time": "2023-01-30T11:15:54.744Z"
   },
   {
    "duration": 267,
    "start_time": "2023-01-30T11:16:42.875Z"
   },
   {
    "duration": 10,
    "start_time": "2023-01-30T11:19:01.083Z"
   },
   {
    "duration": 352,
    "start_time": "2023-01-30T11:19:53.106Z"
   },
   {
    "duration": 12,
    "start_time": "2023-01-30T11:22:19.190Z"
   },
   {
    "duration": 3,
    "start_time": "2023-01-30T11:22:26.088Z"
   },
   {
    "duration": 43,
    "start_time": "2023-01-30T11:22:26.093Z"
   },
   {
    "duration": 11,
    "start_time": "2023-01-30T11:22:26.138Z"
   },
   {
    "duration": 13,
    "start_time": "2023-01-30T11:22:26.151Z"
   },
   {
    "duration": 43,
    "start_time": "2023-01-30T11:22:26.166Z"
   },
   {
    "duration": 21,
    "start_time": "2023-01-30T11:22:26.210Z"
   },
   {
    "duration": 5,
    "start_time": "2023-01-30T11:22:26.233Z"
   },
   {
    "duration": 7,
    "start_time": "2023-01-30T11:22:26.239Z"
   },
   {
    "duration": 15,
    "start_time": "2023-01-30T11:22:26.247Z"
   },
   {
    "duration": 13,
    "start_time": "2023-01-30T11:22:26.263Z"
   },
   {
    "duration": 21,
    "start_time": "2023-01-30T11:22:26.277Z"
   },
   {
    "duration": 12,
    "start_time": "2023-01-30T11:22:26.300Z"
   },
   {
    "duration": 360,
    "start_time": "2023-01-30T11:22:26.314Z"
   },
   {
    "duration": 434,
    "start_time": "2023-01-30T11:22:26.676Z"
   },
   {
    "duration": 248,
    "start_time": "2023-01-30T11:22:27.111Z"
   },
   {
    "duration": 493,
    "start_time": "2023-01-30T11:22:27.361Z"
   },
   {
    "duration": 238,
    "start_time": "2023-01-30T11:22:27.856Z"
   },
   {
    "duration": 186,
    "start_time": "2023-01-30T11:22:28.095Z"
   },
   {
    "duration": 4,
    "start_time": "2023-01-30T11:22:28.283Z"
   },
   {
    "duration": 202,
    "start_time": "2023-01-30T11:22:28.288Z"
   },
   {
    "duration": 3,
    "start_time": "2023-01-30T11:22:28.492Z"
   },
   {
    "duration": 23,
    "start_time": "2023-01-30T11:22:28.497Z"
   },
   {
    "duration": 355,
    "start_time": "2023-01-30T11:22:28.522Z"
   },
   {
    "duration": 2,
    "start_time": "2023-01-30T11:22:28.879Z"
   },
   {
    "duration": 21,
    "start_time": "2023-01-30T11:22:28.882Z"
   },
   {
    "duration": 13,
    "start_time": "2023-01-30T11:22:28.904Z"
   },
   {
    "duration": 32,
    "start_time": "2023-01-30T11:22:30.685Z"
   },
   {
    "duration": 669,
    "start_time": "2023-01-30T11:22:54.386Z"
   },
   {
    "duration": 3,
    "start_time": "2023-01-30T11:22:59.677Z"
   },
   {
    "duration": 48,
    "start_time": "2023-01-30T11:22:59.682Z"
   },
   {
    "duration": 11,
    "start_time": "2023-01-30T11:22:59.731Z"
   },
   {
    "duration": 20,
    "start_time": "2023-01-30T11:22:59.743Z"
   },
   {
    "duration": 42,
    "start_time": "2023-01-30T11:22:59.765Z"
   },
   {
    "duration": 21,
    "start_time": "2023-01-30T11:22:59.808Z"
   },
   {
    "duration": 13,
    "start_time": "2023-01-30T11:22:59.831Z"
   },
   {
    "duration": 15,
    "start_time": "2023-01-30T11:22:59.845Z"
   },
   {
    "duration": 22,
    "start_time": "2023-01-30T11:22:59.862Z"
   },
   {
    "duration": 23,
    "start_time": "2023-01-30T11:22:59.886Z"
   },
   {
    "duration": 16,
    "start_time": "2023-01-30T11:22:59.911Z"
   },
   {
    "duration": 13,
    "start_time": "2023-01-30T11:22:59.929Z"
   },
   {
    "duration": 369,
    "start_time": "2023-01-30T11:22:59.944Z"
   },
   {
    "duration": 381,
    "start_time": "2023-01-30T11:23:00.315Z"
   },
   {
    "duration": 287,
    "start_time": "2023-01-30T11:23:00.698Z"
   },
   {
    "duration": 488,
    "start_time": "2023-01-30T11:23:00.987Z"
   },
   {
    "duration": 242,
    "start_time": "2023-01-30T11:23:01.476Z"
   },
   {
    "duration": 190,
    "start_time": "2023-01-30T11:23:01.719Z"
   },
   {
    "duration": 4,
    "start_time": "2023-01-30T11:23:01.911Z"
   },
   {
    "duration": 208,
    "start_time": "2023-01-30T11:23:01.916Z"
   },
   {
    "duration": 3,
    "start_time": "2023-01-30T11:23:02.126Z"
   },
   {
    "duration": 9,
    "start_time": "2023-01-30T11:23:02.131Z"
   },
   {
    "duration": 357,
    "start_time": "2023-01-30T11:23:02.142Z"
   },
   {
    "duration": 3,
    "start_time": "2023-01-30T11:23:02.501Z"
   },
   {
    "duration": 19,
    "start_time": "2023-01-30T11:23:02.510Z"
   },
   {
    "duration": 68,
    "start_time": "2023-01-30T11:23:02.531Z"
   },
   {
    "duration": 80,
    "start_time": "2023-01-30T11:23:02.600Z"
   },
   {
    "duration": 30,
    "start_time": "2023-01-30T11:23:02.681Z"
   },
   {
    "duration": 645,
    "start_time": "2023-01-30T11:23:05.810Z"
   },
   {
    "duration": 16,
    "start_time": "2023-01-30T11:23:28.796Z"
   },
   {
    "duration": 1083,
    "start_time": "2023-01-30T19:01:09.919Z"
   },
   {
    "duration": 33,
    "start_time": "2023-01-30T19:01:11.004Z"
   },
   {
    "duration": 12,
    "start_time": "2023-01-30T19:01:11.039Z"
   },
   {
    "duration": 12,
    "start_time": "2023-01-30T19:01:11.053Z"
   },
   {
    "duration": 48,
    "start_time": "2023-01-30T19:01:11.066Z"
   },
   {
    "duration": 21,
    "start_time": "2023-01-30T19:01:11.116Z"
   },
   {
    "duration": 6,
    "start_time": "2023-01-30T19:01:11.139Z"
   },
   {
    "duration": 7,
    "start_time": "2023-01-30T19:01:11.146Z"
   },
   {
    "duration": 12,
    "start_time": "2023-01-30T19:01:11.154Z"
   },
   {
    "duration": 15,
    "start_time": "2023-01-30T19:01:11.168Z"
   },
   {
    "duration": 7,
    "start_time": "2023-01-30T19:01:11.185Z"
   },
   {
    "duration": 29,
    "start_time": "2023-01-30T19:01:11.193Z"
   },
   {
    "duration": 423,
    "start_time": "2023-01-30T19:01:11.224Z"
   },
   {
    "duration": 418,
    "start_time": "2023-01-30T19:01:11.648Z"
   },
   {
    "duration": 259,
    "start_time": "2023-01-30T19:01:12.068Z"
   },
   {
    "duration": 553,
    "start_time": "2023-01-30T19:01:12.329Z"
   },
   {
    "duration": 272,
    "start_time": "2023-01-30T19:01:12.884Z"
   },
   {
    "duration": 202,
    "start_time": "2023-01-30T19:01:13.158Z"
   },
   {
    "duration": 4,
    "start_time": "2023-01-30T19:01:13.362Z"
   },
   {
    "duration": 232,
    "start_time": "2023-01-30T19:01:13.368Z"
   },
   {
    "duration": 5,
    "start_time": "2023-01-30T19:01:13.602Z"
   },
   {
    "duration": 3,
    "start_time": "2023-01-30T19:01:13.621Z"
   },
   {
    "duration": 387,
    "start_time": "2023-01-30T19:01:13.626Z"
   },
   {
    "duration": 2,
    "start_time": "2023-01-30T19:01:14.015Z"
   },
   {
    "duration": 11,
    "start_time": "2023-01-30T19:01:14.020Z"
   },
   {
    "duration": 2,
    "start_time": "2023-01-30T19:01:14.033Z"
   },
   {
    "duration": 37,
    "start_time": "2023-01-30T19:01:14.037Z"
   },
   {
    "duration": 2,
    "start_time": "2023-01-30T19:01:14.077Z"
   },
   {
    "duration": 52,
    "start_time": "2023-01-30T19:01:14.081Z"
   },
   {
    "duration": 53,
    "start_time": "2023-01-31T08:34:13.527Z"
   },
   {
    "duration": 1289,
    "start_time": "2023-01-31T08:34:58.284Z"
   },
   {
    "duration": 66,
    "start_time": "2023-01-31T08:34:59.575Z"
   },
   {
    "duration": 12,
    "start_time": "2023-01-31T08:34:59.642Z"
   },
   {
    "duration": 15,
    "start_time": "2023-01-31T08:34:59.658Z"
   },
   {
    "duration": 79,
    "start_time": "2023-01-31T08:34:59.674Z"
   },
   {
    "duration": 76,
    "start_time": "2023-01-31T08:34:59.754Z"
   },
   {
    "duration": 7,
    "start_time": "2023-01-31T08:34:59.831Z"
   },
   {
    "duration": 10,
    "start_time": "2023-01-31T08:34:59.840Z"
   },
   {
    "duration": 16,
    "start_time": "2023-01-31T08:34:59.852Z"
   },
   {
    "duration": 27,
    "start_time": "2023-01-31T08:34:59.871Z"
   },
   {
    "duration": 8,
    "start_time": "2023-01-31T08:34:59.900Z"
   },
   {
    "duration": 17,
    "start_time": "2023-01-31T08:34:59.909Z"
   },
   {
    "duration": 416,
    "start_time": "2023-01-31T08:34:59.928Z"
   },
   {
    "duration": 404,
    "start_time": "2023-01-31T08:35:00.345Z"
   },
   {
    "duration": 254,
    "start_time": "2023-01-31T08:35:00.751Z"
   },
   {
    "duration": 538,
    "start_time": "2023-01-31T08:35:01.007Z"
   },
   {
    "duration": 233,
    "start_time": "2023-01-31T08:35:01.547Z"
   },
   {
    "duration": 200,
    "start_time": "2023-01-31T08:35:01.782Z"
   },
   {
    "duration": 4,
    "start_time": "2023-01-31T08:35:01.984Z"
   },
   {
    "duration": 219,
    "start_time": "2023-01-31T08:35:01.989Z"
   },
   {
    "duration": 4,
    "start_time": "2023-01-31T08:35:02.210Z"
   },
   {
    "duration": 35,
    "start_time": "2023-01-31T08:35:02.216Z"
   },
   {
    "duration": 79,
    "start_time": "2023-01-31T08:35:02.252Z"
   },
   {
    "duration": 0,
    "start_time": "2023-01-31T08:35:02.333Z"
   },
   {
    "duration": 11,
    "start_time": "2023-01-31T08:35:05.358Z"
   },
   {
    "duration": 726,
    "start_time": "2023-01-31T08:39:40.641Z"
   },
   {
    "duration": 8,
    "start_time": "2023-01-31T08:41:13.532Z"
   },
   {
    "duration": 1229,
    "start_time": "2023-02-01T03:22:46.114Z"
   },
   {
    "duration": 85,
    "start_time": "2023-02-01T03:22:47.344Z"
   },
   {
    "duration": 10,
    "start_time": "2023-02-01T03:22:47.431Z"
   },
   {
    "duration": 11,
    "start_time": "2023-02-01T03:22:47.443Z"
   },
   {
    "duration": 102,
    "start_time": "2023-02-01T03:22:47.456Z"
   },
   {
    "duration": 68,
    "start_time": "2023-02-01T03:22:47.560Z"
   },
   {
    "duration": 6,
    "start_time": "2023-02-01T03:22:47.629Z"
   },
   {
    "duration": 9,
    "start_time": "2023-02-01T03:22:47.636Z"
   },
   {
    "duration": 15,
    "start_time": "2023-02-01T03:22:47.646Z"
   },
   {
    "duration": 12,
    "start_time": "2023-02-01T03:22:47.663Z"
   },
   {
    "duration": 5,
    "start_time": "2023-02-01T03:22:47.677Z"
   },
   {
    "duration": 7,
    "start_time": "2023-02-01T03:22:47.683Z"
   },
   {
    "duration": 371,
    "start_time": "2023-02-01T03:22:47.691Z"
   },
   {
    "duration": 362,
    "start_time": "2023-02-01T03:22:48.063Z"
   },
   {
    "duration": 227,
    "start_time": "2023-02-01T03:22:48.427Z"
   },
   {
    "duration": 524,
    "start_time": "2023-02-01T03:22:48.656Z"
   },
   {
    "duration": 247,
    "start_time": "2023-02-01T03:22:49.182Z"
   },
   {
    "duration": 190,
    "start_time": "2023-02-01T03:22:49.431Z"
   },
   {
    "duration": 4,
    "start_time": "2023-02-01T03:22:49.623Z"
   },
   {
    "duration": 198,
    "start_time": "2023-02-01T03:22:49.628Z"
   },
   {
    "duration": 4,
    "start_time": "2023-02-01T03:22:49.828Z"
   },
   {
    "duration": 6,
    "start_time": "2023-02-01T03:22:49.833Z"
   },
   {
    "duration": 15,
    "start_time": "2023-02-01T03:22:49.840Z"
   },
   {
    "duration": 4,
    "start_time": "2023-02-01T03:22:49.857Z"
   },
   {
    "duration": 11,
    "start_time": "2023-02-01T03:22:49.862Z"
   },
   {
    "duration": 3,
    "start_time": "2023-02-01T03:22:49.874Z"
   },
   {
    "duration": 101,
    "start_time": "2023-02-01T03:22:49.878Z"
   },
   {
    "duration": 0,
    "start_time": "2023-02-01T03:22:49.980Z"
   },
   {
    "duration": 0,
    "start_time": "2023-02-01T03:22:49.991Z"
   },
   {
    "duration": 1066,
    "start_time": "2023-02-01T03:26:19.501Z"
   },
   {
    "duration": 33,
    "start_time": "2023-02-01T03:26:20.569Z"
   },
   {
    "duration": 10,
    "start_time": "2023-02-01T03:26:20.604Z"
   },
   {
    "duration": 11,
    "start_time": "2023-02-01T03:26:20.615Z"
   },
   {
    "duration": 44,
    "start_time": "2023-02-01T03:26:20.628Z"
   },
   {
    "duration": 21,
    "start_time": "2023-02-01T03:26:20.673Z"
   },
   {
    "duration": 5,
    "start_time": "2023-02-01T03:26:20.695Z"
   },
   {
    "duration": 8,
    "start_time": "2023-02-01T03:26:20.701Z"
   },
   {
    "duration": 12,
    "start_time": "2023-02-01T03:26:20.710Z"
   },
   {
    "duration": 12,
    "start_time": "2023-02-01T03:26:20.723Z"
   },
   {
    "duration": 8,
    "start_time": "2023-02-01T03:26:20.737Z"
   },
   {
    "duration": 8,
    "start_time": "2023-02-01T03:26:20.747Z"
   },
   {
    "duration": 386,
    "start_time": "2023-02-01T03:26:20.757Z"
   },
   {
    "duration": 364,
    "start_time": "2023-02-01T03:26:21.146Z"
   },
   {
    "duration": 220,
    "start_time": "2023-02-01T03:26:21.512Z"
   },
   {
    "duration": 486,
    "start_time": "2023-02-01T03:26:21.734Z"
   },
   {
    "duration": 210,
    "start_time": "2023-02-01T03:26:22.222Z"
   },
   {
    "duration": 181,
    "start_time": "2023-02-01T03:26:22.433Z"
   },
   {
    "duration": 5,
    "start_time": "2023-02-01T03:26:22.615Z"
   },
   {
    "duration": 190,
    "start_time": "2023-02-01T03:26:22.621Z"
   },
   {
    "duration": 4,
    "start_time": "2023-02-01T03:26:22.813Z"
   },
   {
    "duration": 13,
    "start_time": "2023-02-01T03:26:22.819Z"
   },
   {
    "duration": 10,
    "start_time": "2023-02-01T03:26:22.833Z"
   },
   {
    "duration": 14,
    "start_time": "2023-02-01T03:26:22.844Z"
   },
   {
    "duration": 11,
    "start_time": "2023-02-01T03:26:22.860Z"
   },
   {
    "duration": 2,
    "start_time": "2023-02-01T03:26:22.873Z"
   },
   {
    "duration": 98,
    "start_time": "2023-02-01T03:26:22.877Z"
   },
   {
    "duration": 0,
    "start_time": "2023-02-01T03:26:22.977Z"
   },
   {
    "duration": 0,
    "start_time": "2023-02-01T03:26:22.990Z"
   },
   {
    "duration": 1232,
    "start_time": "2023-02-01T06:08:52.344Z"
   },
   {
    "duration": 69,
    "start_time": "2023-02-01T06:08:53.578Z"
   },
   {
    "duration": 13,
    "start_time": "2023-02-01T06:08:53.648Z"
   },
   {
    "duration": 18,
    "start_time": "2023-02-01T06:08:53.663Z"
   },
   {
    "duration": 90,
    "start_time": "2023-02-01T06:08:53.682Z"
   },
   {
    "duration": 65,
    "start_time": "2023-02-01T06:08:53.774Z"
   },
   {
    "duration": 6,
    "start_time": "2023-02-01T06:08:53.841Z"
   },
   {
    "duration": 13,
    "start_time": "2023-02-01T06:08:53.848Z"
   },
   {
    "duration": 13,
    "start_time": "2023-02-01T06:08:53.863Z"
   },
   {
    "duration": 20,
    "start_time": "2023-02-01T06:08:53.878Z"
   },
   {
    "duration": 8,
    "start_time": "2023-02-01T06:08:53.900Z"
   },
   {
    "duration": 18,
    "start_time": "2023-02-01T06:08:53.910Z"
   },
   {
    "duration": 434,
    "start_time": "2023-02-01T06:08:53.932Z"
   },
   {
    "duration": 386,
    "start_time": "2023-02-01T06:08:54.367Z"
   },
   {
    "duration": 227,
    "start_time": "2023-02-01T06:08:54.754Z"
   },
   {
    "duration": 487,
    "start_time": "2023-02-01T06:08:54.982Z"
   },
   {
    "duration": 224,
    "start_time": "2023-02-01T06:08:55.470Z"
   },
   {
    "duration": 180,
    "start_time": "2023-02-01T06:08:55.698Z"
   },
   {
    "duration": 4,
    "start_time": "2023-02-01T06:08:55.880Z"
   },
   {
    "duration": 201,
    "start_time": "2023-02-01T06:08:55.886Z"
   },
   {
    "duration": 12,
    "start_time": "2023-02-01T06:08:56.088Z"
   },
   {
    "duration": 9,
    "start_time": "2023-02-01T06:08:56.102Z"
   },
   {
    "duration": 22,
    "start_time": "2023-02-01T06:08:56.113Z"
   },
   {
    "duration": 5,
    "start_time": "2023-02-01T06:08:56.137Z"
   },
   {
    "duration": 16,
    "start_time": "2023-02-01T06:08:56.144Z"
   },
   {
    "duration": 2,
    "start_time": "2023-02-01T06:08:56.162Z"
   },
   {
    "duration": 89,
    "start_time": "2023-02-01T06:08:56.166Z"
   },
   {
    "duration": 0,
    "start_time": "2023-02-01T06:08:56.257Z"
   },
   {
    "duration": 0,
    "start_time": "2023-02-01T06:08:56.257Z"
   },
   {
    "duration": 3,
    "start_time": "2023-02-01T06:21:42.239Z"
   },
   {
    "duration": 51,
    "start_time": "2023-02-01T06:21:42.247Z"
   },
   {
    "duration": 17,
    "start_time": "2023-02-01T06:21:42.300Z"
   },
   {
    "duration": 31,
    "start_time": "2023-02-01T06:21:42.320Z"
   },
   {
    "duration": 82,
    "start_time": "2023-02-01T06:21:42.353Z"
   },
   {
    "duration": 22,
    "start_time": "2023-02-01T06:21:42.436Z"
   },
   {
    "duration": 6,
    "start_time": "2023-02-01T06:21:42.459Z"
   },
   {
    "duration": 16,
    "start_time": "2023-02-01T06:21:42.466Z"
   },
   {
    "duration": 25,
    "start_time": "2023-02-01T06:21:42.484Z"
   },
   {
    "duration": 13,
    "start_time": "2023-02-01T06:21:42.510Z"
   },
   {
    "duration": 20,
    "start_time": "2023-02-01T06:21:42.525Z"
   },
   {
    "duration": 17,
    "start_time": "2023-02-01T06:21:42.546Z"
   },
   {
    "duration": 372,
    "start_time": "2023-02-01T06:21:42.565Z"
   },
   {
    "duration": 444,
    "start_time": "2023-02-01T06:21:42.939Z"
   },
   {
    "duration": 252,
    "start_time": "2023-02-01T06:21:43.386Z"
   },
   {
    "duration": 562,
    "start_time": "2023-02-01T06:21:43.640Z"
   },
   {
    "duration": 258,
    "start_time": "2023-02-01T06:21:44.204Z"
   },
   {
    "duration": 205,
    "start_time": "2023-02-01T06:21:44.463Z"
   },
   {
    "duration": 4,
    "start_time": "2023-02-01T06:21:44.669Z"
   },
   {
    "duration": 241,
    "start_time": "2023-02-01T06:21:44.675Z"
   },
   {
    "duration": 6,
    "start_time": "2023-02-01T06:21:44.919Z"
   },
   {
    "duration": 101,
    "start_time": "2023-02-01T06:21:44.927Z"
   },
   {
    "duration": 375,
    "start_time": "2023-02-01T06:21:45.030Z"
   },
   {
    "duration": 3,
    "start_time": "2023-02-01T06:21:45.407Z"
   },
   {
    "duration": 17,
    "start_time": "2023-02-01T06:21:45.412Z"
   },
   {
    "duration": 10,
    "start_time": "2023-02-01T06:21:45.431Z"
   },
   {
    "duration": 34,
    "start_time": "2023-02-01T06:21:45.443Z"
   },
   {
    "duration": 2,
    "start_time": "2023-02-01T06:21:45.479Z"
   },
   {
    "duration": 26,
    "start_time": "2023-02-01T06:21:45.483Z"
   },
   {
    "duration": 338,
    "start_time": "2023-02-01T06:23:06.074Z"
   },
   {
    "duration": 426,
    "start_time": "2023-02-01T06:28:24.021Z"
   },
   {
    "duration": 350,
    "start_time": "2023-02-01T06:28:36.428Z"
   },
   {
    "duration": 374,
    "start_time": "2023-02-01T06:28:43.954Z"
   },
   {
    "duration": 5,
    "start_time": "2023-02-01T06:29:31.413Z"
   },
   {
    "duration": 7,
    "start_time": "2023-02-01T06:31:43.118Z"
   },
   {
    "duration": 15,
    "start_time": "2023-02-01T06:37:51.078Z"
   },
   {
    "duration": 14,
    "start_time": "2023-02-01T06:38:09.294Z"
   },
   {
    "duration": 15,
    "start_time": "2023-02-01T06:41:17.572Z"
   },
   {
    "duration": 11,
    "start_time": "2023-02-01T06:45:47.844Z"
   },
   {
    "duration": 154,
    "start_time": "2023-02-01T06:47:57.827Z"
   },
   {
    "duration": 31,
    "start_time": "2023-02-01T06:49:39.009Z"
   },
   {
    "duration": 1088,
    "start_time": "2023-02-02T00:52:30.035Z"
   },
   {
    "duration": 36,
    "start_time": "2023-02-02T00:52:31.125Z"
   },
   {
    "duration": 19,
    "start_time": "2023-02-02T00:52:31.163Z"
   },
   {
    "duration": 42,
    "start_time": "2023-02-02T00:52:31.185Z"
   },
   {
    "duration": 89,
    "start_time": "2023-02-02T00:52:31.229Z"
   },
   {
    "duration": 25,
    "start_time": "2023-02-02T00:52:31.320Z"
   },
   {
    "duration": 6,
    "start_time": "2023-02-02T00:52:31.347Z"
   },
   {
    "duration": 15,
    "start_time": "2023-02-02T00:52:31.355Z"
   },
   {
    "duration": 57,
    "start_time": "2023-02-02T00:52:31.372Z"
   },
   {
    "duration": 48,
    "start_time": "2023-02-02T00:52:31.431Z"
   },
   {
    "duration": 35,
    "start_time": "2023-02-02T00:52:31.480Z"
   },
   {
    "duration": 37,
    "start_time": "2023-02-02T00:52:31.517Z"
   },
   {
    "duration": 447,
    "start_time": "2023-02-02T00:52:31.556Z"
   },
   {
    "duration": 381,
    "start_time": "2023-02-02T00:52:32.004Z"
   },
   {
    "duration": 272,
    "start_time": "2023-02-02T00:52:32.394Z"
   },
   {
    "duration": 521,
    "start_time": "2023-02-02T00:52:32.667Z"
   },
   {
    "duration": 233,
    "start_time": "2023-02-02T00:52:33.189Z"
   },
   {
    "duration": 193,
    "start_time": "2023-02-02T00:52:33.424Z"
   },
   {
    "duration": 4,
    "start_time": "2023-02-02T00:52:33.619Z"
   },
   {
    "duration": 209,
    "start_time": "2023-02-02T00:52:33.625Z"
   },
   {
    "duration": 4,
    "start_time": "2023-02-02T00:52:33.836Z"
   },
   {
    "duration": 16,
    "start_time": "2023-02-02T00:52:33.842Z"
   },
   {
    "duration": 156,
    "start_time": "2023-02-02T00:52:33.859Z"
   },
   {
    "duration": 3,
    "start_time": "2023-02-02T00:52:34.016Z"
   },
   {
    "duration": 13,
    "start_time": "2023-02-02T00:52:34.020Z"
   },
   {
    "duration": 2,
    "start_time": "2023-02-02T00:52:34.034Z"
   },
   {
    "duration": 62,
    "start_time": "2023-02-02T00:52:34.037Z"
   },
   {
    "duration": 7,
    "start_time": "2023-02-02T00:52:34.102Z"
   },
   {
    "duration": 20,
    "start_time": "2023-02-02T00:52:34.110Z"
   },
   {
    "duration": 1035,
    "start_time": "2023-02-02T00:54:29.147Z"
   },
   {
    "duration": 54,
    "start_time": "2023-02-02T00:54:30.184Z"
   },
   {
    "duration": 12,
    "start_time": "2023-02-02T00:54:30.240Z"
   },
   {
    "duration": 37,
    "start_time": "2023-02-02T00:54:30.253Z"
   },
   {
    "duration": 82,
    "start_time": "2023-02-02T00:54:30.301Z"
   },
   {
    "duration": 39,
    "start_time": "2023-02-02T00:54:30.385Z"
   },
   {
    "duration": 11,
    "start_time": "2023-02-02T00:54:30.426Z"
   },
   {
    "duration": 22,
    "start_time": "2023-02-02T00:54:30.439Z"
   },
   {
    "duration": 66,
    "start_time": "2023-02-02T00:54:30.463Z"
   },
   {
    "duration": 33,
    "start_time": "2023-02-02T00:54:30.531Z"
   },
   {
    "duration": 51,
    "start_time": "2023-02-02T00:54:30.566Z"
   },
   {
    "duration": 63,
    "start_time": "2023-02-02T00:54:30.619Z"
   },
   {
    "duration": 480,
    "start_time": "2023-02-02T00:54:30.684Z"
   },
   {
    "duration": 438,
    "start_time": "2023-02-02T00:54:31.168Z"
   },
   {
    "duration": 246,
    "start_time": "2023-02-02T00:54:31.612Z"
   },
   {
    "duration": 550,
    "start_time": "2023-02-02T00:54:31.860Z"
   },
   {
    "duration": 262,
    "start_time": "2023-02-02T00:54:32.412Z"
   },
   {
    "duration": 205,
    "start_time": "2023-02-02T00:54:32.676Z"
   },
   {
    "duration": 16,
    "start_time": "2023-02-02T00:54:32.882Z"
   },
   {
    "duration": 252,
    "start_time": "2023-02-02T00:54:32.902Z"
   },
   {
    "duration": 4,
    "start_time": "2023-02-02T00:54:33.156Z"
   },
   {
    "duration": 7,
    "start_time": "2023-02-02T00:54:33.161Z"
   },
   {
    "duration": 157,
    "start_time": "2023-02-02T00:54:33.170Z"
   },
   {
    "duration": 2,
    "start_time": "2023-02-02T00:54:33.329Z"
   },
   {
    "duration": 11,
    "start_time": "2023-02-02T00:54:33.333Z"
   },
   {
    "duration": 9,
    "start_time": "2023-02-02T00:54:33.345Z"
   },
   {
    "duration": 59,
    "start_time": "2023-02-02T00:54:33.355Z"
   },
   {
    "duration": 6,
    "start_time": "2023-02-02T00:54:33.416Z"
   },
   {
    "duration": 15,
    "start_time": "2023-02-02T00:54:33.424Z"
   }
  ],
  "kernelspec": {
   "display_name": "Python 3 (ipykernel)",
   "language": "python",
   "name": "python3"
  },
  "language_info": {
   "codemirror_mode": {
    "name": "ipython",
    "version": 3
   },
   "file_extension": ".py",
   "mimetype": "text/x-python",
   "name": "python",
   "nbconvert_exporter": "python",
   "pygments_lexer": "ipython3",
   "version": "3.9.13"
  },
  "toc": {
   "base_numbering": 1,
   "nav_menu": {},
   "number_sections": true,
   "sideBar": true,
   "skip_h1_title": true,
   "title_cell": "Table of Contents",
   "title_sidebar": "Contents",
   "toc_cell": false,
   "toc_position": {},
   "toc_section_display": true,
   "toc_window_display": false
  }
 },
 "nbformat": 4,
 "nbformat_minor": 2
}
